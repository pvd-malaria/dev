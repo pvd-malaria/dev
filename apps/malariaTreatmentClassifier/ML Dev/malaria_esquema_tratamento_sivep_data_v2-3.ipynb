{
  "nbformat": 4,
  "nbformat_minor": 0,
  "metadata": {
    "alphastudio": {
      "as_jupyter_image_name": "gcr.io/ts-quantsource/as-jupyter-v6",
      "as_jupyter_image_tag": "89a867672844"
    },
    "colab": {
      "provenance": []
    },
    "kernelspec": {
      "display_name": "Python 3",
      "language": "python",
      "name": "python3"
    },
    "language_info": {
      "codemirror_mode": {
        "name": "ipython",
        "version": 3
      },
      "file_extension": ".py",
      "mimetype": "text/x-python",
      "name": "python",
      "nbconvert_exporter": "python",
      "pygments_lexer": "ipython3",
      "version": "3.8.6"
    },
    "publish_permission": {
      "read": {},
      "write": {
        "user": [
          "jlandesman",
          "gwp"
        ]
      }
    },
    "publish_uri": "tsuri/application/ts/beakerx/jlandesman/Week1ProjectWalkthrough.ipynb",
    "toc": {
      "base_numbering": 1,
      "nav_menu": {},
      "number_sections": false,
      "sideBar": false,
      "skip_h1_title": false,
      "title_cell": "Table of Contents",
      "title_sidebar": "Contents",
      "toc_cell": false,
      "toc_position": {},
      "toc_section_display": false,
      "toc_window_display": false
    }
  },
  "cells": [
    {
      "cell_type": "markdown",
      "metadata": {
        "id": "dUMQ3hM9l-eC"
      },
      "source": [
        "<a id='top'></a>"
      ]
    },
    {
      "cell_type": "markdown",
      "metadata": {
        "id": "DSsPVtuPl-fB"
      },
      "source": [
        "# Experiments to Malaria Project\n",
        "\n",
        "#### This notebook describes performed experiments, qualitative analysis and results discussion"
      ]
    },
    {
      "cell_type": "markdown",
      "metadata": {
        "id": "Qnj2R1zxl-fC"
      },
      "source": [
        "<a id='imports'></a>\n",
        "### Imports"
      ]
    },
    {
      "cell_type": "code",
      "metadata": {
        "id": "S2lSmlPYtGO3",
        "colab": {
          "base_uri": "https://localhost:8080/"
        },
        "outputId": "4ca275ca-3c2f-4efe-cb87-8a24944fdbcd"
      },
      "source": [
        "! pip install shap lime synapseclient"
      ],
      "execution_count": null,
      "outputs": [
        {
          "output_type": "stream",
          "text": [
            "Collecting shap\n",
            "  Downloading shap-0.39.0.tar.gz (356 kB)\n",
            "\u001b[K     |████████████████████████████████| 356 kB 6.1 MB/s \n",
            "\u001b[?25hCollecting lime\n",
            "  Downloading lime-0.2.0.1.tar.gz (275 kB)\n",
            "\u001b[K     |████████████████████████████████| 275 kB 30.6 MB/s \n",
            "\u001b[?25hCollecting synapseclient\n",
            "  Downloading synapseclient-2.4.0-py3-none-any.whl (209 kB)\n",
            "\u001b[K     |████████████████████████████████| 209 kB 47.0 MB/s \n",
            "\u001b[?25hRequirement already satisfied: numpy in /usr/local/lib/python3.7/dist-packages (from shap) (1.19.5)\n",
            "Requirement already satisfied: scipy in /usr/local/lib/python3.7/dist-packages (from shap) (1.4.1)\n",
            "Requirement already satisfied: scikit-learn in /usr/local/lib/python3.7/dist-packages (from shap) (0.22.2.post1)\n",
            "Requirement already satisfied: pandas in /usr/local/lib/python3.7/dist-packages (from shap) (1.1.5)\n",
            "Requirement already satisfied: tqdm>4.25.0 in /usr/local/lib/python3.7/dist-packages (from shap) (4.41.1)\n",
            "Collecting slicer==0.0.7\n",
            "  Downloading slicer-0.0.7-py3-none-any.whl (14 kB)\n",
            "Requirement already satisfied: numba in /usr/local/lib/python3.7/dist-packages (from shap) (0.51.2)\n",
            "Requirement already satisfied: cloudpickle in /usr/local/lib/python3.7/dist-packages (from shap) (1.3.0)\n",
            "Requirement already satisfied: matplotlib in /usr/local/lib/python3.7/dist-packages (from lime) (3.2.2)\n",
            "Requirement already satisfied: scikit-image>=0.12 in /usr/local/lib/python3.7/dist-packages (from lime) (0.16.2)\n",
            "Requirement already satisfied: PyWavelets>=0.4.0 in /usr/local/lib/python3.7/dist-packages (from scikit-image>=0.12->lime) (1.1.1)\n",
            "Requirement already satisfied: networkx>=2.0 in /usr/local/lib/python3.7/dist-packages (from scikit-image>=0.12->lime) (2.5.1)\n",
            "Requirement already satisfied: imageio>=2.3.0 in /usr/local/lib/python3.7/dist-packages (from scikit-image>=0.12->lime) (2.4.1)\n",
            "Requirement already satisfied: pillow>=4.3.0 in /usr/local/lib/python3.7/dist-packages (from scikit-image>=0.12->lime) (7.1.2)\n",
            "Requirement already satisfied: cycler>=0.10 in /usr/local/lib/python3.7/dist-packages (from matplotlib->lime) (0.10.0)\n",
            "Requirement already satisfied: pyparsing!=2.0.4,!=2.1.2,!=2.1.6,>=2.0.1 in /usr/local/lib/python3.7/dist-packages (from matplotlib->lime) (2.4.7)\n",
            "Requirement already satisfied: kiwisolver>=1.0.1 in /usr/local/lib/python3.7/dist-packages (from matplotlib->lime) (1.3.1)\n",
            "Requirement already satisfied: python-dateutil>=2.1 in /usr/local/lib/python3.7/dist-packages (from matplotlib->lime) (2.8.1)\n",
            "Requirement already satisfied: six in /usr/local/lib/python3.7/dist-packages (from cycler>=0.10->matplotlib->lime) (1.15.0)\n",
            "Requirement already satisfied: decorator<5,>=4.3 in /usr/local/lib/python3.7/dist-packages (from networkx>=2.0->scikit-image>=0.12->lime) (4.4.2)\n",
            "Requirement already satisfied: joblib>=0.11 in /usr/local/lib/python3.7/dist-packages (from scikit-learn->shap) (1.0.1)\n",
            "Requirement already satisfied: requests<3.0,>=2.22.0 in /usr/local/lib/python3.7/dist-packages (from synapseclient) (2.23.0)\n",
            "Collecting keyring==12.0.2\n",
            "  Downloading keyring-12.0.2-py2.py3-none-any.whl (32 kB)\n",
            "Collecting deprecated<2.0,>=1.2.4\n",
            "  Downloading Deprecated-1.2.12-py2.py3-none-any.whl (9.5 kB)\n",
            "Collecting keyrings.alt==3.1\n",
            "  Downloading keyrings.alt-3.1-py2.py3-none-any.whl (21 kB)\n",
            "Requirement already satisfied: entrypoints in /usr/local/lib/python3.7/dist-packages (from keyring==12.0.2->synapseclient) (0.3)\n",
            "Collecting secretstorage<3\n",
            "  Downloading SecretStorage-2.3.1.tar.gz (16 kB)\n",
            "Requirement already satisfied: wrapt<2,>=1.10 in /usr/local/lib/python3.7/dist-packages (from deprecated<2.0,>=1.2.4->synapseclient) (1.12.1)\n",
            "Requirement already satisfied: chardet<4,>=3.0.2 in /usr/local/lib/python3.7/dist-packages (from requests<3.0,>=2.22.0->synapseclient) (3.0.4)\n",
            "Requirement already satisfied: certifi>=2017.4.17 in /usr/local/lib/python3.7/dist-packages (from requests<3.0,>=2.22.0->synapseclient) (2021.5.30)\n",
            "Requirement already satisfied: idna<3,>=2.5 in /usr/local/lib/python3.7/dist-packages (from requests<3.0,>=2.22.0->synapseclient) (2.10)\n",
            "Requirement already satisfied: urllib3!=1.25.0,!=1.25.1,<1.26,>=1.21.1 in /usr/local/lib/python3.7/dist-packages (from requests<3.0,>=2.22.0->synapseclient) (1.24.3)\n",
            "Collecting cryptography\n",
            "  Downloading cryptography-3.4.7-cp36-abi3-manylinux2014_x86_64.whl (3.2 MB)\n",
            "\u001b[K     |████████████████████████████████| 3.2 MB 47.9 MB/s \n",
            "\u001b[?25hRequirement already satisfied: cffi>=1.12 in /usr/local/lib/python3.7/dist-packages (from cryptography->secretstorage<3->keyring==12.0.2->synapseclient) (1.14.6)\n",
            "Requirement already satisfied: pycparser in /usr/local/lib/python3.7/dist-packages (from cffi>=1.12->cryptography->secretstorage<3->keyring==12.0.2->synapseclient) (2.20)\n",
            "Requirement already satisfied: llvmlite<0.35,>=0.34.0.dev0 in /usr/local/lib/python3.7/dist-packages (from numba->shap) (0.34.0)\n",
            "Requirement already satisfied: setuptools in /usr/local/lib/python3.7/dist-packages (from numba->shap) (57.2.0)\n",
            "Requirement already satisfied: pytz>=2017.2 in /usr/local/lib/python3.7/dist-packages (from pandas->shap) (2018.9)\n",
            "Building wheels for collected packages: shap, lime, secretstorage\n",
            "  Building wheel for shap (setup.py) ... \u001b[?25l\u001b[?25hdone\n",
            "  Created wheel for shap: filename=shap-0.39.0-cp37-cp37m-linux_x86_64.whl size=491650 sha256=7b208384206521c757ad1f875bcf4a0665fd40f6a657e1e9dfddde793fc52eb1\n",
            "  Stored in directory: /root/.cache/pip/wheels/ca/25/8f/6ae5df62c32651cd719e972e738a8aaa4a87414c4d2b14c9c0\n",
            "  Building wheel for lime (setup.py) ... \u001b[?25l\u001b[?25hdone\n",
            "  Created wheel for lime: filename=lime-0.2.0.1-py3-none-any.whl size=283857 sha256=3d0b67ea263bb8a126b6c266004e5f3c47e5da293f82953fa4d516d2227ef3e3\n",
            "  Stored in directory: /root/.cache/pip/wheels/ca/cb/e5/ac701e12d365a08917bf4c6171c0961bc880a8181359c66aa7\n",
            "  Building wheel for secretstorage (setup.py) ... \u001b[?25l\u001b[?25hdone\n",
            "  Created wheel for secretstorage: filename=SecretStorage-2.3.1-py3-none-any.whl size=13975 sha256=4807bed80ce3fb232f0b1f1b5e719063f077d1d414724b804a0ce7d1009be0ab\n",
            "  Stored in directory: /root/.cache/pip/wheels/13/dc/30/1858f4ebf2be9b67b180c6a4a31b8ecf3bd357af6861843170\n",
            "Successfully built shap lime secretstorage\n",
            "Installing collected packages: cryptography, secretstorage, slicer, keyrings.alt, keyring, deprecated, synapseclient, shap, lime\n",
            "Successfully installed cryptography-3.4.7 deprecated-1.2.12 keyring-12.0.2 keyrings.alt-3.1 lime-0.2.0.1 secretstorage-2.3.1 shap-0.39.0 slicer-0.0.7 synapseclient-2.4.0\n"
          ],
          "name": "stdout"
        }
      ]
    },
    {
      "cell_type": "code",
      "metadata": {
        "id": "PdMXhsNEl-fD"
      },
      "source": [
        "%matplotlib inline\n",
        "\n",
        "import os, itertools\n",
        "import zipfile as zp\n",
        "import synapseclient as syna\n",
        "from getpass import getpass\n",
        "\n",
        "import numpy as np\n",
        "import pandas as pd\n",
        "\n",
        "import matplotlib.pyplot as plt\n",
        "import seaborn as sns\n",
        "\n",
        "#import shap\n",
        "#import math\n",
        "#import lime\n",
        "#from lime import lime_tabular\n",
        "\n",
        "#from termcolor import colored\n",
        "from datetime import datetime\n",
        "\n",
        "from sklearn import metrics\n",
        "from sklearn.model_selection import KFold, train_test_split\n",
        "\n",
        "from xgboost import XGBClassifier\n",
        "from sklearn.tree import DecisionTreeClassifier\n",
        "from sklearn.linear_model import LogisticRegression\n",
        "from sklearn.ensemble import RandomForestClassifier\n",
        "from sklearn.neighbors import KNeighborsClassifier\n",
        "from sklearn.svm import SVC\n",
        "\n",
        "import warnings\n",
        "warnings.simplefilter(action='ignore', category=FutureWarning)"
      ],
      "execution_count": null,
      "outputs": []
    },
    {
      "cell_type": "markdown",
      "metadata": {
        "id": "vGs6H2RKl-fD"
      },
      "source": [
        "<a id='functions_definition'></a>\n",
        "## Functions definition"
      ]
    },
    {
      "cell_type": "code",
      "metadata": {
        "id": "hN_eCWaI1nH6"
      },
      "source": [
        "# Function to plot a histogram that shows the number of NaN values for each column.\n",
        "def plot_hist_nan(df: pd.DataFrame, plot_name):\n",
        "\n",
        "    nan_df = pd.DataFrame(df.isna().sum().tolist(), df.columns.tolist()).reset_index()\n",
        "    nan_df.columns = ['column_name', 'total_nan']\n",
        "    nan_df['nan_perc'] = 100*round(nan_df['total_nan']/len(df),3)\n",
        "    nan_df = nan_df.sort_values('total_nan', ascending=False)\n",
        "    nan_df = nan_df[nan_df['total_nan'] > 0]\n",
        "\n",
        "    fig, ax = plt.subplots(figsize=(10,6))\n",
        "\n",
        "    sns.barplot(x=\"nan_perc\", y=\"column_name\", data=nan_df)\n",
        "    ax.set_ylabel('Columns', fontsize = 10)\n",
        "    ax.set_xlabel('NaN %', fontsize = 10)\n",
        "    ax.tick_params(length=10, width=2, labelsize=10)\n",
        "\n",
        "    dst = \"../out/\"\n",
        "    if os.path.isdir(dst) == False:\n",
        "        os.makedirs(dst)\n",
        "    dst = dst + \"/\" + plot_name + \".pdf\"\n",
        "    plt.savefig(dst, bbox_inches = 'tight')\n",
        "\n",
        "    plt.show()"
      ],
      "execution_count": null,
      "outputs": []
    },
    {
      "cell_type": "code",
      "metadata": {
        "id": "daNPpZTi1q-N"
      },
      "source": [
        "# Consusion matrix plot\n",
        "def plot_confusion_matrix(cm, classes,\n",
        "                          normalize=False,\n",
        "                          title='Confusion matrix',\n",
        "                          cmap=plt.cm.Blues):\n",
        "    \"\"\"\n",
        "    This function prints and plots the confusion matrix.\n",
        "    Normalization can be applied by setting `normalize=True`.\n",
        "    \"\"\"\n",
        "    if normalize:\n",
        "        cm = cm.astype('float') / cm.sum(axis=1)[:, np.newaxis]\n",
        "        print(\"Normalized confusion matrix\")\n",
        "    else:\n",
        "        print('Confusion matrix, without normalization')\n",
        "\n",
        "    # print(cm)\n",
        "\n",
        "    plt.imshow(cm, interpolation='nearest', cmap=cmap)\n",
        "    plt.title(title)\n",
        "    plt.colorbar()\n",
        "    tick_marks = np.arange(len(classes))\n",
        "    plt.xticks(tick_marks, classes, rotation=90)\n",
        "    plt.yticks(tick_marks, classes)\n",
        "\n",
        "    fmt = '.2f' if normalize else 'd'\n",
        "    thresh = cm.max() / 2.\n",
        "    for i, j in itertools.product(range(cm.shape[0]), range(cm.shape[1])):\n",
        "        plt.text(j, i, format(cm[i, j], fmt),\n",
        "                 horizontalalignment=\"center\",\n",
        "                 color=\"white\" if cm[i, j] > thresh else \"black\")\n",
        "\n",
        "    plt.tight_layout()\n",
        "    plt.ylabel('True label')\n",
        "    plt.xlabel('Predicted label')"
      ],
      "execution_count": null,
      "outputs": []
    },
    {
      "cell_type": "code",
      "metadata": {
        "id": "NTrvluZY1s_z"
      },
      "source": [
        "# Model performance statistics\n",
        "def generate_performance_stats(y_test, y_pred):\n",
        "    target_names = ['Outro Tratamento', 'Tratamento 11']\n",
        "    cm = metrics.confusion_matrix(y_test, y_pred)\n",
        "    print(\"Accuracy: {}\\n\".format(metrics.accuracy_score(y_test,y_pred)))\n",
        "    print(\"Auc: {}\\n\".format(metrics.roc_auc_score(y_test,y_pred)))\n",
        "    #print(\"Log loss: {}\\n\".format(metrics.log_loss(y_test,y_pred)))\n",
        "    print(\"Confusion Matrix: \\n{}\\n\".format(pd.crosstab(y_test, y_pred, rownames=['Actual'], colnames=['Predicted'])))\n",
        "    print(\"Classification Report: \\n{}\\n\".format(metrics.classification_report(y_test, y_pred, target_names=target_names)))\n"
      ],
      "execution_count": null,
      "outputs": []
    },
    {
      "cell_type": "code",
      "metadata": {
        "id": "IPyrbZim1u5_"
      },
      "source": [
        "# Create balanced dataset\n",
        "def create_balanced_dataset(df: pd.DataFrame, percent):\n",
        "    # Class count\n",
        "    count_class_0, count_class_1 = df['target'].value_counts() * percent\n",
        "    count_class_0 = int(count_class_0)\n",
        "    count_class_1 = int(count_class_1)\n",
        "\n",
        "    # Divide by class\n",
        "    df_class_0 = df[df['target'] == 0]\n",
        "    df_class_1 = df[df['target'] == 1]\n",
        "\n",
        "    df_class_1 = df_class_1.sample(count_class_1, random_state=1)\n",
        "\n",
        "    df_class_0_under = df_class_0.sample(count_class_1, random_state=1)\n",
        "    df_balanced = pd.concat([df_class_0_under, df_class_1], axis=0)\n",
        "\n",
        "    return df_balanced"
      ],
      "execution_count": null,
      "outputs": []
    },
    {
      "cell_type": "code",
      "metadata": {
        "id": "ux_nX7_s10jt"
      },
      "source": [
        "# Perform Cross-validation\n",
        "def perform_cv(df_train, models, n_folds, use_oversampling):\n",
        "\n",
        "    results = []\n",
        "    mean_fpr = np.linspace(0, 1, 100)\n",
        "    models_predictions = {}\n",
        "\n",
        "    for model_alias in models:\n",
        "\n",
        "        print(\"Model: {}\\n\".format(model_alias))\n",
        "        y_preds = []\n",
        "        y_probs = []\n",
        "        y_tests = []\n",
        "        tprs = []\n",
        "        aucs = []\n",
        "        thresholds = []\n",
        "        model = models[model_alias]\n",
        "\n",
        "        i = 0\n",
        "        kf = KFold(n_splits=n_folds, random_state=13, shuffle=True)\n",
        "        #model_predicted = []\n",
        "        #model_gt = []\n",
        "\n",
        "        for index in kf.split(df_train):\n",
        "\n",
        "            print(\"Fold[{}]\\n\".format(i+1))\n",
        "\n",
        "            X_train, X_test = df_train.iloc[index[0]], df_train.iloc[index[1]]\n",
        "\n",
        "            if use_oversampling:\n",
        "                X_train = create_balanced_dataset(X_train, 1.0)\n",
        "\n",
        "            y_train = X_train['target']\n",
        "            X_train = X_train.drop(['target'], axis = 1)\n",
        "\n",
        "            y_test = X_test['target']\n",
        "            X_test = X_test.drop(['target'], axis = 1)\n",
        "\n",
        "            model_fit, y_pred, y_pred_proba = evaluate_model(model, X_train, X_test, y_train, y_test)\n",
        "\n",
        "            #y_pred = y_pred_proba[:,1] > thresh\n",
        "            #y_pred = y_pred.astype(int)\n",
        "            #model_predicted = np.concatenate((np.array(model_predicted),y_pred))\n",
        "            #model_gt = np.concatenate((np.array(model_gt),y_test))\n",
        "\n",
        "            #generate_performance_stats(y_test, y_pred)\n",
        "\n",
        "            # Compute ROC curve and area the curve\n",
        "            fpr, tpr, threshold = metrics.roc_curve(y_test, y_pred_proba[:,1])\n",
        "            prec, rec, tre = metrics.precision_recall_curve(y_test, y_pred_proba[:,1])\n",
        "\n",
        "            y_preds = np.append(y_preds, y_pred)\n",
        "            y_probs = np.append(y_probs, y_pred_proba[:,1])\n",
        "            y_tests = np.append(y_tests, y_test)\n",
        "\n",
        "            tprs.append(np.interp(mean_fpr, fpr, tpr))\n",
        "            tprs[-1][0] = 0.0\n",
        "            roc_auc = metrics.auc(fpr, tpr)\n",
        "            aucs.append(roc_auc)\n",
        "            thresholds.append(threshold)\n",
        "            i = i + 1\n",
        "\n",
        "        generate_performance_stats(y_preds, y_tests)\n",
        "\n",
        "        result = RESULT(model_alias, y_preds, y_probs, y_tests, tprs, aucs, thresholds)\n",
        "        results.append(result)\n",
        "        models_predictions[model_alias] = (y_preds, y_tests)\n",
        "        print(\"########################################################\\n\")\n",
        "\n",
        "    return results, models_predictions"
      ],
      "execution_count": null,
      "outputs": []
    },
    {
      "cell_type": "code",
      "metadata": {
        "id": "2Wy3J4d512de"
      },
      "source": [
        "def evaluate_model(model, X_train: pd.DataFrame, X_test: pd.DataFrame, y_train: pd.DataFrame, y_test: pd.DataFrame):\n",
        "    \"\"\"\n",
        "    Used to evaluate a given model. Just an API wrapper.\n",
        "    Returns the fitted model along with the predictions generated for the test set\n",
        "    \"\"\"\n",
        "    model.fit(X_train, y_train)\n",
        "    y_preds = model.predict(X_test)\n",
        "    y_preds_proba = model.predict_proba(X_test)\n",
        "    return model, y_preds, y_preds_proba"
      ],
      "execution_count": null,
      "outputs": []
    },
    {
      "cell_type": "code",
      "metadata": {
        "id": "kfdWC1VE14Qs"
      },
      "source": [
        "class RESULT(object):\n",
        "\n",
        "    def __init__(self, model_name, y_pred, y_prob, y_test, tprs, aucs, thresholds):\n",
        "        self.model_name = model_name\n",
        "        self.y_pred = y_pred\n",
        "        self.y_prob = y_prob\n",
        "        self.y_test = y_test\n",
        "        self.tprs = tprs\n",
        "        self.aucs = aucs\n",
        "        self.thresholds = thresholds"
      ],
      "execution_count": null,
      "outputs": []
    },
    {
      "cell_type": "code",
      "metadata": {
        "id": "8mUc-sFEjv2N"
      },
      "source": [
        "def plot_roc_curve(results, file_name):\n",
        "\n",
        "    plt.figure(figsize=(10,8))\n",
        "    mean_fpr = np.linspace(0, 1, 100)\n",
        "    tprs = []\n",
        "    i = 0\n",
        "\n",
        "    colors = ['r','b','g']\n",
        "\n",
        "    for idx,result in enumerate(results):\n",
        "\n",
        "        plt.plot([0, 1], [0, 1], linestyle='--', lw=2, color='r', alpha=.8)\n",
        "        mean_tpr = np.mean(result.tprs, axis=0)\n",
        "        mean_tpr[-1] = 1.0\n",
        "        std_auc = np.std(result.aucs)\n",
        "        avg_auc = metrics.roc_auc_score(result.y_test, result.y_pred)\n",
        "\n",
        "        plt.plot(mean_fpr, mean_tpr, color=colors[idx],\n",
        "                 label=result.model_name + ' (AUC = %0.3f $\\pm$ %0.3f)' % (avg_auc, std_auc), lw=2, alpha=0.8)\n",
        "\n",
        "        std_tpr = np.std(result.tprs, axis=0)\n",
        "        tprs_upper = np.minimum(mean_tpr + std_tpr, 1)\n",
        "        tprs_lower = np.maximum(mean_tpr - std_tpr, 0)\n",
        "\n",
        "        if i == 0:\n",
        "            plt.fill_between(mean_fpr, tprs_lower, tprs_upper, color=colors[idx], alpha=.2)\n",
        "        else:\n",
        "            plt.fill_between(mean_fpr, tprs_lower, tprs_upper, color=colors[idx], alpha=.2)\n",
        "        i = i + 1\n",
        "\n",
        "    plt.plot([0, 1], [0, 1], linestyle='--', lw=2, color='black', label='Chance', alpha=.8)\n",
        "    plt.xlim([-0.05, 1.05])\n",
        "    plt.ylim([-0.05, 1.05])\n",
        "    plt.xlabel('1 - Specificity', size=15)\n",
        "    plt.ylabel('Sensitivity', size=15)\n",
        "    plt.legend(loc=\"lower right\", fontsize=14)\n",
        "    plt.title('ROC CURVE')\n",
        "\n",
        "    dst = \"../out/\"\n",
        "    if os.path.isdir(dst) == False:\n",
        "        os.makedirs(dst)\n",
        "    dst = dst + \"/\" + file_name + \".pdf\"\n",
        "    plt.savefig(dst, bbox_inches = 'tight')\n",
        "\n",
        "    plt.show()\n"
      ],
      "execution_count": null,
      "outputs": []
    },
    {
      "cell_type": "markdown",
      "metadata": {
        "id": "pofeL-lal-fE"
      },
      "source": [
        "<a id='loading_dataset'></a>\n",
        "## Load dataset"
      ]
    },
    {
      "cell_type": "code",
      "metadata": {
        "colab": {
          "base_uri": "https://localhost:8080/"
        },
        "id": "SLH-7kDH4lMk",
        "outputId": "4e403ea5-05b8-41c3-f152-76e23058be41"
      },
      "source": [
        " # Getting BD from Synapse\n",
        " syn = syna.Synapse()\n",
        " syn.login(input('Sybapse User: '), getpass('Passwd:'))\n",
        "\n",
        " # Obtain a pointer and download the data\n",
        " # sivep_completo.csv.zip - https://www.synapse.org/#!Synapse:syn24225699\n",
        " dataset = syn.get(entity='syn25713874')\n",
        "\n",
        " # Get the path to the local copy of the data file\n",
        " filepath = dataset.path\n",
        "\n",
        " with zp.ZipFile(filepath,\"r\") as zip_ref:\n",
        "    zip_ref.extractall(\"\")\n"
      ],
      "execution_count": null,
      "outputs": [
        {
          "output_type": "stream",
          "text": [
            "Sybapse User: cbeluzo\n",
            "Passwd:··········\n",
            "Welcome, Carlos Eduardo Beluzo!\n",
            "\n"
          ],
          "name": "stdout"
        }
      ]
    },
    {
      "cell_type": "markdown",
      "metadata": {
        "id": "D9kcytN-17Z6"
      },
      "source": [
        "Adicionei low_memory=False, por causa do warning de dtype"
      ]
    },
    {
      "cell_type": "code",
      "metadata": {
        "colab": {
          "base_uri": "https://localhost:8080/"
        },
        "id": "kCCYfqt0l-fE",
        "outputId": "2378dc3a-0de8-4842-f79c-6da02253cd8a"
      },
      "source": [
        "df_full = pd.read_csv('./dados/sivep_data.csv', sep=';', low_memory=False, encoding=\"ISO-8859-1\")\n",
        "df_full.shape"
      ],
      "execution_count": null,
      "outputs": [
        {
          "output_type": "execute_result",
          "data": {
            "text/plain": [
              "(3737123, 51)"
            ]
          },
          "metadata": {
            "tags": []
          },
          "execution_count": 12
        }
      ]
    },
    {
      "cell_type": "code",
      "metadata": {
        "colab": {
          "base_uri": "https://localhost:8080/",
          "height": 649
        },
        "id": "OByuGsOZl-fF",
        "scrolled": true,
        "outputId": "6e9d6d3d-6d74-4e4a-ead5-caad43be71ce"
      },
      "source": [
        "df_full.head()"
      ],
      "execution_count": null,
      "outputs": [
        {
          "output_type": "execute_result",
          "data": {
            "text/html": [
              "<div>\n",
              "<style scoped>\n",
              "    .dataframe tbody tr th:only-of-type {\n",
              "        vertical-align: middle;\n",
              "    }\n",
              "\n",
              "    .dataframe tbody tr th {\n",
              "        vertical-align: top;\n",
              "    }\n",
              "\n",
              "    .dataframe thead th {\n",
              "        text-align: right;\n",
              "    }\n",
              "</style>\n",
              "<table border=\"1\" class=\"dataframe\">\n",
              "  <thead>\n",
              "    <tr style=\"text-align: right;\">\n",
              "      <th></th>\n",
              "      <th>ï»¿uid</th>\n",
              "      <th>ano</th>\n",
              "      <th>cod_noti</th>\n",
              "      <th>dt_notif</th>\n",
              "      <th>dt_envlo</th>\n",
              "      <th>dt_digit</th>\n",
              "      <th>sem_noti</th>\n",
              "      <th>tipo_lam</th>\n",
              "      <th>uf_notif</th>\n",
              "      <th>mun_noti</th>\n",
              "      <th>cod_unin</th>\n",
              "      <th>cod_agen</th>\n",
              "      <th>dt_nasci</th>\n",
              "      <th>id_pacie</th>\n",
              "      <th>id_dimea</th>\n",
              "      <th>sexo</th>\n",
              "      <th>raca</th>\n",
              "      <th>pais_res</th>\n",
              "      <th>uf_resid</th>\n",
              "      <th>mun_resi</th>\n",
              "      <th>loc_resi</th>\n",
              "      <th>sintomas</th>\n",
              "      <th>dt_sinto</th>\n",
              "      <th>cod_ocup</th>\n",
              "      <th>uf_infec</th>\n",
              "      <th>pais_inf</th>\n",
              "      <th>mun_infe</th>\n",
              "      <th>loc_infe</th>\n",
              "      <th>dt_exame</th>\n",
              "      <th>res_exam</th>\n",
              "      <th>qtd_para</th>\n",
              "      <th>qtd_cruz</th>\n",
              "      <th>dt_trata</th>\n",
              "      <th>esquema</th>\n",
              "      <th>hemoparasi</th>\n",
              "      <th>exame</th>\n",
              "      <th>examinador</th>\n",
              "      <th>id_lvc</th>\n",
              "      <th>gestante</th>\n",
              "      <th>vivax</th>\n",
              "      <th>falciparum</th>\n",
              "      <th>niv_esco</th>\n",
              "      <th>id_pacie_anos</th>\n",
              "      <th>nu_predi_infe</th>\n",
              "      <th>nu_habit_infe</th>\n",
              "      <th>zona_infe</th>\n",
              "      <th>categori_infe</th>\n",
              "      <th>nu_predi_resi</th>\n",
              "      <th>nu_habit_resi</th>\n",
              "      <th>zona_resi</th>\n",
              "      <th>categori_resi</th>\n",
              "    </tr>\n",
              "  </thead>\n",
              "  <tbody>\n",
              "    <tr>\n",
              "      <th>0</th>\n",
              "      <td>1</td>\n",
              "      <td>2007</td>\n",
              "      <td>1</td>\n",
              "      <td>2007-01-02</td>\n",
              "      <td>2011-03-23</td>\n",
              "      <td>2007-01-03</td>\n",
              "      <td>1.0</td>\n",
              "      <td>Detecção Passiva</td>\n",
              "      <td>AC</td>\n",
              "      <td>120042</td>\n",
              "      <td>11</td>\n",
              "      <td>209890.0</td>\n",
              "      <td>NaN</td>\n",
              "      <td>6.0</td>\n",
              "      <td>Anos</td>\n",
              "      <td>Feminino</td>\n",
              "      <td>NaN</td>\n",
              "      <td>BRASIL</td>\n",
              "      <td>Acre</td>\n",
              "      <td>120042.0</td>\n",
              "      <td>53.0</td>\n",
              "      <td>Com</td>\n",
              "      <td>2007-01-01</td>\n",
              "      <td>Doméstica</td>\n",
              "      <td>Acre</td>\n",
              "      <td>BRASIL</td>\n",
              "      <td>120042.0</td>\n",
              "      <td>53.0</td>\n",
              "      <td>2007-01-02</td>\n",
              "      <td>Vivax</td>\n",
              "      <td>NaN</td>\n",
              "      <td>++</td>\n",
              "      <td>2007-07-02</td>\n",
              "      <td>Infecções pelo P. vivax, ou P. ovale com Cloro...</td>\n",
              "      <td>NaN</td>\n",
              "      <td>NaN</td>\n",
              "      <td>NaN</td>\n",
              "      <td>Não LVC</td>\n",
              "      <td>Não se aplica</td>\n",
              "      <td>NaN</td>\n",
              "      <td>NaN</td>\n",
              "      <td>Não se aplica</td>\n",
              "      <td>6</td>\n",
              "      <td>85.0</td>\n",
              "      <td>201.0</td>\n",
              "      <td>Rural</td>\n",
              "      <td>Ramal</td>\n",
              "      <td>85.0</td>\n",
              "      <td>201.0</td>\n",
              "      <td>Rural</td>\n",
              "      <td>Ramal</td>\n",
              "    </tr>\n",
              "    <tr>\n",
              "      <th>1</th>\n",
              "      <td>2</td>\n",
              "      <td>2007</td>\n",
              "      <td>2</td>\n",
              "      <td>2007-01-02</td>\n",
              "      <td>2011-03-23</td>\n",
              "      <td>2007-01-03</td>\n",
              "      <td>1.0</td>\n",
              "      <td>Detecção Passiva</td>\n",
              "      <td>AC</td>\n",
              "      <td>120042</td>\n",
              "      <td>11</td>\n",
              "      <td>209890.0</td>\n",
              "      <td>NaN</td>\n",
              "      <td>2.0</td>\n",
              "      <td>Anos</td>\n",
              "      <td>Masculino</td>\n",
              "      <td>NaN</td>\n",
              "      <td>BRASIL</td>\n",
              "      <td>Acre</td>\n",
              "      <td>120042.0</td>\n",
              "      <td>53.0</td>\n",
              "      <td>Com</td>\n",
              "      <td>2007-01-02</td>\n",
              "      <td>Doméstica</td>\n",
              "      <td>Acre</td>\n",
              "      <td>BRASIL</td>\n",
              "      <td>120042.0</td>\n",
              "      <td>53.0</td>\n",
              "      <td>2007-01-02</td>\n",
              "      <td>Vivax</td>\n",
              "      <td>NaN</td>\n",
              "      <td>&lt; +/2</td>\n",
              "      <td>2007-07-02</td>\n",
              "      <td>Infecções pelo P. vivax, ou P. ovale com Cloro...</td>\n",
              "      <td>NaN</td>\n",
              "      <td>NaN</td>\n",
              "      <td>NaN</td>\n",
              "      <td>Não LVC</td>\n",
              "      <td>Não se aplica</td>\n",
              "      <td>NaN</td>\n",
              "      <td>NaN</td>\n",
              "      <td>Não se aplica</td>\n",
              "      <td>2</td>\n",
              "      <td>85.0</td>\n",
              "      <td>201.0</td>\n",
              "      <td>Rural</td>\n",
              "      <td>Ramal</td>\n",
              "      <td>85.0</td>\n",
              "      <td>201.0</td>\n",
              "      <td>Rural</td>\n",
              "      <td>Ramal</td>\n",
              "    </tr>\n",
              "    <tr>\n",
              "      <th>2</th>\n",
              "      <td>3</td>\n",
              "      <td>2007</td>\n",
              "      <td>14</td>\n",
              "      <td>2007-01-02</td>\n",
              "      <td>2011-03-23</td>\n",
              "      <td>2007-01-03</td>\n",
              "      <td>1.0</td>\n",
              "      <td>Detecção Passiva</td>\n",
              "      <td>AC</td>\n",
              "      <td>120042</td>\n",
              "      <td>11</td>\n",
              "      <td>208614.0</td>\n",
              "      <td>1959-04-30</td>\n",
              "      <td>47.0</td>\n",
              "      <td>Anos</td>\n",
              "      <td>Feminino</td>\n",
              "      <td>NaN</td>\n",
              "      <td>BRASIL</td>\n",
              "      <td>Acre</td>\n",
              "      <td>120042.0</td>\n",
              "      <td>53.0</td>\n",
              "      <td>Com</td>\n",
              "      <td>2007-01-01</td>\n",
              "      <td>Doméstica</td>\n",
              "      <td>Acre</td>\n",
              "      <td>BRASIL</td>\n",
              "      <td>120042.0</td>\n",
              "      <td>53.0</td>\n",
              "      <td>2007-01-02</td>\n",
              "      <td>Vivax</td>\n",
              "      <td>NaN</td>\n",
              "      <td>&lt; +/2</td>\n",
              "      <td>2007-01-02</td>\n",
              "      <td>Infecções pelo P. vivax, ou P. ovale com Cloro...</td>\n",
              "      <td>NaN</td>\n",
              "      <td>NaN</td>\n",
              "      <td>NaN</td>\n",
              "      <td>Não LVC</td>\n",
              "      <td>Não</td>\n",
              "      <td>NaN</td>\n",
              "      <td>NaN</td>\n",
              "      <td>Analfabeto</td>\n",
              "      <td>47</td>\n",
              "      <td>85.0</td>\n",
              "      <td>201.0</td>\n",
              "      <td>Rural</td>\n",
              "      <td>Ramal</td>\n",
              "      <td>85.0</td>\n",
              "      <td>201.0</td>\n",
              "      <td>Rural</td>\n",
              "      <td>Ramal</td>\n",
              "    </tr>\n",
              "    <tr>\n",
              "      <th>3</th>\n",
              "      <td>4</td>\n",
              "      <td>2007</td>\n",
              "      <td>18</td>\n",
              "      <td>2007-01-02</td>\n",
              "      <td>2011-03-23</td>\n",
              "      <td>2007-01-03</td>\n",
              "      <td>1.0</td>\n",
              "      <td>Detecção Passiva</td>\n",
              "      <td>AC</td>\n",
              "      <td>120042</td>\n",
              "      <td>11</td>\n",
              "      <td>208614.0</td>\n",
              "      <td>NaN</td>\n",
              "      <td>15.0</td>\n",
              "      <td>Anos</td>\n",
              "      <td>Feminino</td>\n",
              "      <td>NaN</td>\n",
              "      <td>BRASIL</td>\n",
              "      <td>Acre</td>\n",
              "      <td>120042.0</td>\n",
              "      <td>53.0</td>\n",
              "      <td>Com</td>\n",
              "      <td>2006-12-30</td>\n",
              "      <td>Doméstica</td>\n",
              "      <td>Acre</td>\n",
              "      <td>BRASIL</td>\n",
              "      <td>120042.0</td>\n",
              "      <td>53.0</td>\n",
              "      <td>2007-01-02</td>\n",
              "      <td>Vivax</td>\n",
              "      <td>NaN</td>\n",
              "      <td>+/2</td>\n",
              "      <td>2007-01-02</td>\n",
              "      <td>Infecções pelo P. vivax, ou P. ovale com Cloro...</td>\n",
              "      <td>NaN</td>\n",
              "      <td>NaN</td>\n",
              "      <td>NaN</td>\n",
              "      <td>Não LVC</td>\n",
              "      <td>Não</td>\n",
              "      <td>NaN</td>\n",
              "      <td>NaN</td>\n",
              "      <td>5ª a 8ª série incompleta do EF</td>\n",
              "      <td>15</td>\n",
              "      <td>85.0</td>\n",
              "      <td>201.0</td>\n",
              "      <td>Rural</td>\n",
              "      <td>Ramal</td>\n",
              "      <td>85.0</td>\n",
              "      <td>201.0</td>\n",
              "      <td>Rural</td>\n",
              "      <td>Ramal</td>\n",
              "    </tr>\n",
              "    <tr>\n",
              "      <th>4</th>\n",
              "      <td>5</td>\n",
              "      <td>2007</td>\n",
              "      <td>24</td>\n",
              "      <td>2007-01-02</td>\n",
              "      <td>2011-03-23</td>\n",
              "      <td>2007-01-06</td>\n",
              "      <td>1.0</td>\n",
              "      <td>Detecção Passiva</td>\n",
              "      <td>AC</td>\n",
              "      <td>120042</td>\n",
              "      <td>11</td>\n",
              "      <td>209890.0</td>\n",
              "      <td>1984-12-13</td>\n",
              "      <td>22.0</td>\n",
              "      <td>Anos</td>\n",
              "      <td>Masculino</td>\n",
              "      <td>NaN</td>\n",
              "      <td>BRASIL</td>\n",
              "      <td>Acre</td>\n",
              "      <td>120042.0</td>\n",
              "      <td>53.0</td>\n",
              "      <td>Com</td>\n",
              "      <td>2007-01-02</td>\n",
              "      <td>Agricultura</td>\n",
              "      <td>Acre</td>\n",
              "      <td>BRASIL</td>\n",
              "      <td>120042.0</td>\n",
              "      <td>53.0</td>\n",
              "      <td>2007-01-03</td>\n",
              "      <td>Vivax</td>\n",
              "      <td>NaN</td>\n",
              "      <td>+</td>\n",
              "      <td>2007-01-03</td>\n",
              "      <td>Infecções pelo P. vivax, ou P. ovale com Cloro...</td>\n",
              "      <td>NaN</td>\n",
              "      <td>NaN</td>\n",
              "      <td>NaN</td>\n",
              "      <td>Não LVC</td>\n",
              "      <td>Não se aplica</td>\n",
              "      <td>NaN</td>\n",
              "      <td>NaN</td>\n",
              "      <td>5ª a 8ª série incompleta do EF</td>\n",
              "      <td>22</td>\n",
              "      <td>85.0</td>\n",
              "      <td>201.0</td>\n",
              "      <td>Rural</td>\n",
              "      <td>Ramal</td>\n",
              "      <td>85.0</td>\n",
              "      <td>201.0</td>\n",
              "      <td>Rural</td>\n",
              "      <td>Ramal</td>\n",
              "    </tr>\n",
              "  </tbody>\n",
              "</table>\n",
              "</div>"
            ],
            "text/plain": [
              "   ï»¿uid   ano  cod_noti  ... nu_habit_resi zona_resi categori_resi\n",
              "0       1  2007         1  ...         201.0     Rural         Ramal\n",
              "1       2  2007         2  ...         201.0     Rural         Ramal\n",
              "2       3  2007        14  ...         201.0     Rural         Ramal\n",
              "3       4  2007        18  ...         201.0     Rural         Ramal\n",
              "4       5  2007        24  ...         201.0     Rural         Ramal\n",
              "\n",
              "[5 rows x 51 columns]"
            ]
          },
          "metadata": {
            "tags": []
          },
          "execution_count": 13
        }
      ]
    },
    {
      "cell_type": "markdown",
      "metadata": {
        "id": "hrYdaN5kl-fF"
      },
      "source": [
        "## Data Preprocessing"
      ]
    },
    {
      "cell_type": "code",
      "metadata": {
        "id": "h42uZxSsvnzz"
      },
      "source": [
        "df_prep = df_full.copy()"
      ],
      "execution_count": null,
      "outputs": []
    },
    {
      "cell_type": "code",
      "metadata": {
        "colab": {
          "base_uri": "https://localhost:8080/"
        },
        "id": "seVDpxyml-fG",
        "outputId": "e42eb440-1bef-4f07-c0a7-080ab574e3f4"
      },
      "source": [
        "df_prep.columns"
      ],
      "execution_count": null,
      "outputs": [
        {
          "output_type": "execute_result",
          "data": {
            "text/plain": [
              "Index(['ï»¿uid', 'ano', 'cod_noti', 'dt_notif', 'dt_envlo', 'dt_digit',\n",
              "       'sem_noti', 'tipo_lam', 'uf_notif', 'mun_noti', 'cod_unin', 'cod_agen',\n",
              "       'dt_nasci', 'id_pacie', 'id_dimea', 'sexo', 'raca', 'pais_res',\n",
              "       'uf_resid', 'mun_resi', 'loc_resi', 'sintomas', 'dt_sinto', 'cod_ocup',\n",
              "       'uf_infec', 'pais_inf', 'mun_infe', 'loc_infe', 'dt_exame', 'res_exam',\n",
              "       'qtd_para', 'qtd_cruz', 'dt_trata', 'esquema', 'hemoparasi', 'exame',\n",
              "       'examinador', 'id_lvc', 'gestante', 'vivax', 'falciparum', 'niv_esco',\n",
              "       'id_pacie_anos', 'nu_predi_infe', 'nu_habit_infe', 'zona_infe',\n",
              "       'categori_infe', 'nu_predi_resi', 'nu_habit_resi', 'zona_resi',\n",
              "       'categori_resi'],\n",
              "      dtype='object')"
            ]
          },
          "metadata": {
            "tags": []
          },
          "execution_count": 15
        }
      ]
    },
    {
      "cell_type": "markdown",
      "metadata": {
        "id": "nYbplSqUuQkv"
      },
      "source": [
        "**Converter colunas de datas para datetime**"
      ]
    },
    {
      "cell_type": "code",
      "metadata": {
        "colab": {
          "base_uri": "https://localhost:8080/",
          "height": 204
        },
        "id": "hDzUEb-Lk6ej",
        "outputId": "48331539-7fdf-489a-aa9e-991b8e621973"
      },
      "source": [
        "date_cols = ['dt_sinto', 'dt_notif', 'dt_exame', 'dt_trata']\n",
        "df_prep[date_cols] = df_prep[date_cols].apply(pd.to_datetime,  errors='coerce')\n",
        "df_prep[date_cols].head()"
      ],
      "execution_count": null,
      "outputs": [
        {
          "output_type": "execute_result",
          "data": {
            "text/html": [
              "<div>\n",
              "<style scoped>\n",
              "    .dataframe tbody tr th:only-of-type {\n",
              "        vertical-align: middle;\n",
              "    }\n",
              "\n",
              "    .dataframe tbody tr th {\n",
              "        vertical-align: top;\n",
              "    }\n",
              "\n",
              "    .dataframe thead th {\n",
              "        text-align: right;\n",
              "    }\n",
              "</style>\n",
              "<table border=\"1\" class=\"dataframe\">\n",
              "  <thead>\n",
              "    <tr style=\"text-align: right;\">\n",
              "      <th></th>\n",
              "      <th>dt_sinto</th>\n",
              "      <th>dt_notif</th>\n",
              "      <th>dt_exame</th>\n",
              "      <th>dt_trata</th>\n",
              "    </tr>\n",
              "  </thead>\n",
              "  <tbody>\n",
              "    <tr>\n",
              "      <th>0</th>\n",
              "      <td>2007-01-01</td>\n",
              "      <td>2007-01-02</td>\n",
              "      <td>2007-01-02</td>\n",
              "      <td>2007-07-02</td>\n",
              "    </tr>\n",
              "    <tr>\n",
              "      <th>1</th>\n",
              "      <td>2007-01-02</td>\n",
              "      <td>2007-01-02</td>\n",
              "      <td>2007-01-02</td>\n",
              "      <td>2007-07-02</td>\n",
              "    </tr>\n",
              "    <tr>\n",
              "      <th>2</th>\n",
              "      <td>2007-01-01</td>\n",
              "      <td>2007-01-02</td>\n",
              "      <td>2007-01-02</td>\n",
              "      <td>2007-01-02</td>\n",
              "    </tr>\n",
              "    <tr>\n",
              "      <th>3</th>\n",
              "      <td>2006-12-30</td>\n",
              "      <td>2007-01-02</td>\n",
              "      <td>2007-01-02</td>\n",
              "      <td>2007-01-02</td>\n",
              "    </tr>\n",
              "    <tr>\n",
              "      <th>4</th>\n",
              "      <td>2007-01-02</td>\n",
              "      <td>2007-01-02</td>\n",
              "      <td>2007-01-03</td>\n",
              "      <td>2007-01-03</td>\n",
              "    </tr>\n",
              "  </tbody>\n",
              "</table>\n",
              "</div>"
            ],
            "text/plain": [
              "    dt_sinto   dt_notif   dt_exame   dt_trata\n",
              "0 2007-01-01 2007-01-02 2007-01-02 2007-07-02\n",
              "1 2007-01-02 2007-01-02 2007-01-02 2007-07-02\n",
              "2 2007-01-01 2007-01-02 2007-01-02 2007-01-02\n",
              "3 2006-12-30 2007-01-02 2007-01-02 2007-01-02\n",
              "4 2007-01-02 2007-01-02 2007-01-03 2007-01-03"
            ]
          },
          "metadata": {
            "tags": []
          },
          "execution_count": 16
        }
      ]
    },
    {
      "cell_type": "markdown",
      "metadata": {
        "id": "tbgD458JP0ex"
      },
      "source": [
        "**Deixar somente registros a partir de 2011 considerando a data em que o paciente sentiu os primeiros sintomas da malária: dt_sinto**"
      ]
    },
    {
      "cell_type": "code",
      "metadata": {
        "colab": {
          "base_uri": "https://localhost:8080/"
        },
        "id": "mMKUELOev5md",
        "outputId": "c20c1132-e8ae-4840-c869-94253309b886"
      },
      "source": [
        "print(df_prep.shape)\n",
        "df_prep = df_prep[df_prep['dt_sinto'] > pd.to_datetime(\"2010-12-31\")]\n",
        "print(df_prep.shape)"
      ],
      "execution_count": null,
      "outputs": [
        {
          "output_type": "stream",
          "text": [
            "(3737123, 51)\n",
            "(1896254, 51)\n"
          ],
          "name": "stdout"
        }
      ]
    },
    {
      "cell_type": "code",
      "metadata": {
        "id": "h9WF4IudXJnw"
      },
      "source": [
        "#Drop ununsable features\n",
        "cols_to_drop = ['ï»¿uid', 'ano', 'cod_noti', 'dt_envlo', 'dt_digit', 'sem_noti', 'uf_notif', 'mun_noti', 'cod_unin',\n",
        "                'cod_agen', 'dt_nasci', 'pais_res', 'uf_resid', 'mun_resi', 'loc_resi', 'examinador',\n",
        "                'nu_predi_infe', 'nu_habit_infe', 'nu_predi_resi', 'nu_habit_resi', 'zona_resi', 'categori_resi',\n",
        "                'id_pacie_anos']\n",
        "df_prep = df_prep.drop(columns=cols_to_drop, axis=1)"
      ],
      "execution_count": null,
      "outputs": []
    },
    {
      "cell_type": "code",
      "metadata": {
        "colab": {
          "base_uri": "https://localhost:8080/"
        },
        "id": "q6NYkxE6xSD3",
        "outputId": "38fcc5b6-db58-47d2-cc7c-821accfc93a4"
      },
      "source": [
        "df_prep.columns"
      ],
      "execution_count": null,
      "outputs": [
        {
          "output_type": "execute_result",
          "data": {
            "text/plain": [
              "Index(['dt_notif', 'tipo_lam', 'id_pacie', 'id_dimea', 'sexo', 'raca',\n",
              "       'sintomas', 'dt_sinto', 'cod_ocup', 'uf_infec', 'pais_inf', 'mun_infe',\n",
              "       'loc_infe', 'dt_exame', 'res_exam', 'qtd_para', 'qtd_cruz', 'dt_trata',\n",
              "       'esquema', 'hemoparasi', 'exame', 'id_lvc', 'gestante', 'vivax',\n",
              "       'falciparum', 'niv_esco', 'zona_infe', 'categori_infe'],\n",
              "      dtype='object')"
            ]
          },
          "metadata": {
            "tags": []
          },
          "execution_count": 19
        }
      ]
    },
    {
      "cell_type": "code",
      "metadata": {
        "id": "NNHndGKBl-fG",
        "scrolled": true,
        "colab": {
          "base_uri": "https://localhost:8080/"
        },
        "outputId": "51a4c563-f85b-486d-82d7-cdc5d3fab997"
      },
      "source": [
        "cols = df_prep.columns\n",
        "for col in cols:\n",
        "    print(col, \": \", df_prep[col].dtype)\n",
        "    print(df_prep[col].unique(), \"\\n\")"
      ],
      "execution_count": null,
      "outputs": [
        {
          "output_type": "stream",
          "text": [
            "dt_notif :  datetime64[ns]\n",
            "['2009-12-30T00:00:00.000000000' '2011-01-31T00:00:00.000000000'\n",
            " '2011-02-17T00:00:00.000000000' ... '2020-06-13T00:00:00.000000000'\n",
            " '2020-06-14T00:00:00.000000000' '2020-06-16T00:00:00.000000000'] \n",
            "\n",
            "tipo_lam :  object\n",
            "['Detecção Ativa' 'LVC (ficha antiga)' 'Detecção Passiva'] \n",
            "\n",
            "id_pacie :  float64\n",
            "[3.100e+01 1.800e+01 2.100e+01 9.000e+00 4.600e+01 2.000e+00 1.200e+01\n",
            " 2.600e+01 6.000e+00 1.900e+01 2.400e+01 3.200e+01 4.700e+01 3.600e+01\n",
            " 8.000e+00 2.900e+01 2.300e+01 1.700e+01 1.000e+01 6.200e+01 1.600e+01\n",
            " 5.700e+01 4.100e+01 2.700e+01 1.500e+01 2.200e+01 1.100e+01 3.700e+01\n",
            " 3.800e+01 2.000e+01 3.000e+01 3.900e+01 4.300e+01 3.500e+01 6.600e+01\n",
            " 4.800e+01 3.300e+01 2.800e+01 6.000e+01 4.000e+00 6.400e+01 5.300e+01\n",
            " 5.000e+01 1.400e+01 3.400e+01 5.600e+01 4.000e+01 7.000e+00 6.100e+01\n",
            " 3.000e+00 5.400e+01 4.900e+01 5.000e+00 7.400e+01 5.500e+01 5.100e+01\n",
            " 1.000e+00 2.500e+01 4.200e+01 5.900e+01 1.300e+01 7.200e+01 6.700e+01\n",
            " 4.500e+01 5.800e+01 6.900e+01 4.380e+02 4.400e+01 7.300e+01 6.300e+01\n",
            " 7.500e+01 5.200e+01 7.000e+01 6.500e+01 7.700e+01 7.100e+01 8.700e+01\n",
            " 8.200e+01 6.800e+01 8.100e+01 7.900e+01 8.400e+01 1.050e+02 7.800e+01\n",
            " 7.600e+01 1.180e+02 9.200e+01 9.300e+01 8.900e+01 8.300e+01 9.700e+01\n",
            " 9.600e+01 8.500e+01 9.100e+01 8.800e+01 3.600e+02 8.000e+01 9.000e+01\n",
            " 8.600e+01 1.320e+02 9.400e+01 9.800e+01 7.580e+02 3.660e+02 1.560e+02\n",
            " 1.010e+02 9.500e+01 1.530e+02 1.004e+03 1.600e+02 1.690e+02 9.900e+01\n",
            " 1.000e+02 1.210e+02 0.000e+00 8.110e+02 1.460e+02 1.020e+02 8.120e+02\n",
            " 9.000e+02 2.580e+02 1.090e+02 8.240e+02 1.230e+02 8.170e+02 1.640e+02\n",
            " 4.620e+02 4.350e+02 1.030e+02 8.200e+02 1.120e+02 1.680e+02 1.590e+02\n",
            " 1.620e+02 1.240e+02 2.800e+02 2.530e+02 1.980e+02 1.780e+02 5.800e+02\n",
            " 1.610e+02 2.010e+02 1.670e+02 1.130e+02 1.110e+02 3.150e+02 1.060e+02\n",
            " 1.790e+02 1.650e+02 4.460e+02 4.360e+02 3.320e+02 3.980e+02 3.120e+02\n",
            " 3.540e+02 3.330e+02 1.150e+02 2.370e+02 1.700e+02 4.730e+02 7.890e+02\n",
            " 5.470e+02 3.780e+02 3.800e+02 1.260e+02 1.340e+02 8.840e+02 1.740e+02\n",
            " 1.100e+02 1.580e+02 1.300e+02 2.380e+02 2.320e+02 2.650e+02 1.040e+02\n",
            " 2.520e+02 6.360e+02 1.290e+02 3.450e+02 1.250e+02 2.770e+02 2.780e+02\n",
            " 3.890e+02 3.240e+02 2.950e+02 1.470e+02 3.090e+02 1.200e+02 3.630e+02\n",
            " 1.920e+02 1.770e+02 2.140e+02 1.160e+02 6.320e+02 1.070e+02 3.360e+02\n",
            " 4.200e+02 1.080e+02] \n",
            "\n",
            "id_dimea :  object\n",
            "['Anos' 'Meses' 'Dias'] \n",
            "\n",
            "sexo :  object\n",
            "['Feminino' 'Masculino' nan] \n",
            "\n",
            "raca :  object\n",
            "[nan 'Parda' 'Preta' 'Indígena' 'Branca' 'Amarela'] \n",
            "\n",
            "sintomas :  object\n",
            "['Com' 'Sem'] \n",
            "\n",
            "dt_sinto :  datetime64[ns]\n",
            "['2020-12-28T00:00:00.000000000' '2011-01-24T00:00:00.000000000'\n",
            " '2011-02-10T00:00:00.000000000' ... '2020-06-12T00:00:00.000000000'\n",
            " '2020-06-14T00:00:00.000000000' '2020-06-06T00:00:00.000000000'] \n",
            "\n",
            "cod_ocup :  object\n",
            "[nan 'Outros' 'Agricultura' 'Ignorado' 'Doméstica' 'Caça/Pesca'\n",
            " 'Exploração Vegetal' 'Viajante' 'Pecuária' 'Garimpagem' 'Turismo'\n",
            " 'Mineração' 'Construção de estradas/barragens'] \n",
            "\n",
            "uf_infec :  object\n",
            "['ParÃ¡' 'Amazonas' 'Acre' 'RondÃ´nia' nan 'Roraima' 'AmapÃ¡'\n",
            " 'Mato Grosso' 'GoiÃ¡s' 'MaranhÃ£o' 'Mato Grosso do Sul' 'SÃ£o Paulo'\n",
            " 'CearÃ¡' 'Santa Catarina' 'Minas Gerais' 'PiauÃ\\xad'\n",
            " 'Rio Grande do Norte' 'Pernambuco' 'ParanÃ¡' 'ParaÃ\\xadba'\n",
            " 'Distrito Federal' 'Tocantins' 'Rio Grande do Sul' 'Bahia'] \n",
            "\n",
            "pais_inf :  object\n",
            "['BRASIL' 'BOLIVIA' 'GUIANA FRANCESA' 'PERU' 'GUIANA' 'COLOMBIA'\n",
            " 'VENEZUELA' 'AFRICA-SUL' 'SURINAME' 'EQUADOR' 'FRANCA' 'SUICA' 'PARAGUAI'\n",
            " 'CONGO' 'PORTUGAL' 'BURUNDI' 'GUINE-EQUAT.' 'ANGOLA' 'NIGERIA'\n",
            " 'PORTO-RICO' 'ROMENIA' 'GANA' 'URUGUAI' 'MOCAMBIQUE' 'ARGENTINA' 'CAYMAN'\n",
            " 'BAHREIN' 'BANGLADESH' 'BERMUDAS' 'HOLANDA' 'OUTROS' 'VIETNA' 'CHILE'\n",
            " 'CANADA' 'GUINE' 'CUBA' 'INDIA' 'CAMAROES' 'COSTA-MARFIM' 'FORMOSA'\n",
            " 'ALEMANHA' 'LIBERIA' 'NOVA CALEDONIA' 'SANTA HELENA' 'PANAMA' 'TANZANIA'] \n",
            "\n",
            "mun_infe :  float64\n",
            "[150548. 130070. 120080. 110020. 120020. 120039. 120045.     nan 120042.\n",
            " 120001. 120038. 120033. 120060. 130240. 110045. 130180. 120040. 120005.\n",
            " 120017. 130002. 130083. 130165. 110012. 110080. 120035. 130270. 120013.\n",
            " 130260. 130350. 130140. 130170. 120050. 120034. 120030. 130340. 150360.\n",
            " 120010. 130150. 110013. 130020. 150140. 110033. 130040. 110143. 120032.\n",
            " 110070. 110002. 130330. 130060. 130320. 130280. 130190. 130356. 110010.\n",
            " 130290. 130080. 130410. 130185. 130120. 130420. 130406. 130008. 130250.\n",
            " 130230. 130390. 130220. 130400. 130100. 130353. 130090. 130063. 130110.\n",
            " 130395. 130430. 130195. 130130. 130370. 130006. 130426. 130255. 140010.\n",
            " 150420. 130210. 130115. 130380. 130030. 130200. 130360. 130310. 110149.\n",
            " 150300. 130300. 130160. 160010. 130014. 150530. 140005. 140030. 140020.\n",
            " 150375. 510840. 150020. 510140. 510325. 510025. 150309. 130068. 150680.\n",
            " 110040. 110037. 140047. 130010. 150040. 520870. 150060. 210055. 150510.\n",
            " 150805. 110011. 130423. 150480. 510080. 510410. 140002. 510517. 150280.\n",
            " 210312. 150095. 500740. 140015. 140045. 355030. 110094. 160030. 150580.\n",
            " 110034. 130440. 160053. 160060. 160021. 160050. 160020. 160070. 160080.\n",
            " 150210. 150050. 160015. 150590. 160027. 150310. 160040. 150070. 150030.\n",
            " 160023. 160005. 150250. 160025. 150180. 150110. 150520. 160055. 150616.\n",
            " 510515. 150450. 150820. 210040. 210845. 210355. 150380. 211003. 210310.\n",
            " 210490. 210467. 210825. 210980. 210927. 210860. 210020. 210680. 210197.\n",
            " 210500. 211130. 231410. 211245. 210260. 211240. 210800. 211400. 421040.\n",
            " 150157. 210317. 210215. 210180. 210087. 150550. 150730. 150810. 210160.\n",
            " 211172. 210870. 210745. 150503. 210840. 210120. 150812. 210990. 210920.\n",
            " 210190. 211030. 210177. 211227. 211140. 210083. 210200. 150565. 420900.\n",
            " 210632. 210510. 211120. 210565. 210780. 210405. 150085. 210290. 150635.\n",
            " 150240. 210650. 210005. 210923. 150195. 150080. 150277. 210232. 210350.\n",
            " 210462. 150830. 210735. 210560. 150442. 210770. 211150. 210237. 314530.\n",
            " 210203. 210100. 210420. 510792. 150370. 211290. 210910. 210450. 150795.\n",
            " 210640. 211153. 150618. 210570. 210110. 211250. 150750. 150506. 210542.\n",
            " 150815. 150715. 210535. 210047. 210930. 150220. 150553. 210710. 210430.\n",
            " 150178. 317020. 210596. 210955. 210315. 210637. 210360. 210880. 210300.\n",
            " 210890. 210095. 221120. 150803. 150275. 150549. 211210. 110147. 520840.\n",
            " 210945. 150345. 211000. 210750. 211176. 520860. 211125. 210660. 210440.\n",
            " 210480. 210080. 210960. 210740. 211190. 211105. 150276. 510787. 210460.\n",
            " 510020. 510718. 510735. 510190. 510340. 510525. 510706. 150034. 510790.\n",
            " 150215. 110009. 150170. 510454. 510850. 510880. 510130. 510615. 510760.\n",
            " 510562. 510629. 510560. 510618. 510170. 510622. 510626. 510642. 510337.\n",
            " 210380. 510795. 510520. 510650. 510719. 510820. 510510. 510285. 240810.\n",
            " 510830. 510805. 510263. 150130. 510675. 240460. 110015. 510250. 110004.\n",
            " 150445. 150780. 150835. 150125. 150285. 150470. 150610. 150120. 150543.\n",
            " 140017. 510320. 150430. 150175. 510370. 150611. 150620. 150619. 150747.\n",
            " 150090. 150295. 150800. 150600. 150690. 150440. 150495. 150840. 150640.\n",
            " 150013. 150307. 150460. 150410. 150400. 150330. 150320. 261070. 150720.\n",
            " 150710. 150293. 150497. 150660. 150405. 150350. 150230. 150490. 210690.\n",
            " 150770. 150760. 150172. 150160. 150540. 150630. 150290. 150010. 150570.\n",
            " 150200. 150790. 150745. 150150. 150670. 150260. 110026. 150190. 150563.\n",
            " 150100. 150700. 150808. 110006. 150145. 150658. 150746. 150613. 150650.\n",
            " 410690. 150796. 510757. 110175. 110170. 110090. 110032. 110008. 110005.\n",
            " 110001. 110150. 110110. 110140. 110060. 510420. 354170. 110160. 110014.\n",
            " 110025. 110018. 110148. 110028. 110030. 110029. 110180. 110092. 530010.\n",
            " 110146. 110100. 110050. 510330. 110155. 110130. 110007. 140028. 140040.\n",
            " 140070. 140023. 140050. 140060. 411180. 230440. 172210. 150304. 170220.\n",
            " 520430. 210530. 120025. 120070. 120043. 510623. 150390. 420845. 150740.\n",
            " 211163. 210975. 211300. 210210. 210820. 210810. 210850. 150655. 210515.\n",
            " 210465. 211102. 211223. 211280. 211107. 210330. 210760. 510050. 510624.\n",
            " 510558. 510455. 241340. 510779. 500330. 210015. 150797. 172120. 171525.\n",
            " 500270. 150500. 170035. 510305. 210370. 171420. 220390. 150340. 500830.\n",
            " 510590. 510335. 150560. 410240. 510300. 170270. 510268. 352230. 520005.\n",
            " 500320. 170255. 510637. 211100. 500230. 520110. 411810. 520140. 500240.\n",
            " 510890. 314180. 314560. 110003. 210409. 210900. 211167. 110120. 210598.\n",
            " 171070. 261160. 172020. 500769. 510621. 231040. 211160. 172080. 510770.\n",
            " 431490. 210043. 510704. 210635. 210170. 412770. 510780. 172090. 210600.\n",
            " 510350. 150475. 211085. 500295. 510267. 210220. 211170. 210520. 410045.\n",
            " 210375. 241025. 170210. 250720. 510060. 510625. 211270. 411610. 251040.\n",
            " 420970. 110145. 261110. 316210. 510490. 211230. 510360. 510310. 510730.\n",
            " 510785. 210620. 353730. 510030. 210547. 211010. 130050. 520890. 211020.\n",
            " 171250. 210400. 171280. 171884. 210140. 510630. 510860. 210320. 510670.\n",
            " 431113. 500797. 211023. 510895. 510452. 170100. 510617. 313030. 410280.\n",
            " 172100. 312870. 510710. 291535. 510788. 510100. 510677. 539912. 171886.\n",
            " 510810. 231380. 510523. 261220. 510270. 410830. 251398. 510794. 510628.\n",
            " 510800. 510279. 351880. 510180. 510550. 314710.] \n",
            "\n",
            "loc_infe :  float64\n",
            "[ 232.   nan   33. ... 1073. 3000. 6000.] \n",
            "\n",
            "dt_exame :  datetime64[ns]\n",
            "['2009-12-30T00:00:00.000000000' '2011-01-31T00:00:00.000000000'\n",
            " '2011-02-17T00:00:00.000000000' ... '2020-06-13T00:00:00.000000000'\n",
            " '2020-06-14T00:00:00.000000000' '2020-06-16T00:00:00.000000000'] \n",
            "\n",
            "res_exam :  object\n",
            "['Vivax' 'Falciparum' 'F+V' 'F+Fg' 'V+Fg' 'Fg' 'Não Falciparum' 'Malariae'\n",
            " 'F+M' 'Ovale'] \n",
            "\n",
            "qtd_para :  float64\n",
            "[1500.  500.  250. ...  439. 8783. 1006.] \n",
            "\n",
            "qtd_cruz :  object\n",
            "['++' '+' '+/2' '+++' '< +/2' '++++' nan] \n",
            "\n",
            "dt_trata :  datetime64[ns]\n",
            "['2009-12-30T00:00:00.000000000' '2011-01-31T00:00:00.000000000'\n",
            " '2011-02-17T00:00:00.000000000' ... '2020-09-17T00:00:00.000000000'\n",
            " '2020-12-03T00:00:00.000000000' '2021-01-14T00:00:00.000000000'] \n",
            "\n",
            "esquema :  object\n",
            "['Infecções pelo P. vivax, ou P. ovale com Cloroquina em 3 dias e Primaquina em 7 dias'\n",
            " 'Infecções por P. falciparum com Quinina em 3 dias e Doxiciclina em 5 dias e Primaquina no sexto dia'\n",
            " 'Infecções pelo P. vivax, ou P. ovale com Cloroquina em 3 dias e Primaquina em 14 dias (esquema longo)'\n",
            " 'Outro Esquema utilizado'\n",
            " 'Infecções por P. falciparum com a combinação fixa de artesunato+mefloquina em 3 dias'\n",
            " nan\n",
            " 'Infecções pelo P. malariae para todas as idades e por P. vivax ou P. ovale em gestantes e crianças com menos de 6 meses, com cloroquina em 3 dias'\n",
            " 'Infecções por Pf com Quinina em 7 dias'\n",
            " 'Infecções mistas por Pv + Pf com Mefloquina em dose única e primaquina em 7 dias'\n",
            " 'Infecções por Pf com Mefloquina em dose única e primaquina no segundo dia'\n",
            " 'Prevenção das recaídas frequentes por P. vivax ou P. ovale com Cloroquina semanal em 12 semanas'\n",
            " 'Malária grave e complicada pelo P. falciparum em todas as faixas etárias'\n",
            " 'Infecções por P. falciparum com a combinação fixa de artemeter+lumefantrina em 3 dias'\n",
            " 'Infecções mistas por Pv + Pf com Quinina em 3 dias, doxiciclina em 5 dias e Primaquina em 7 dias'\n",
            " 'Infecções mistas por P. falciparum e P. vivax ou P. ovale com Artemeter + Lumefantrina ou Artesunato + Mefloquina em 3 dias e Primaquina em 7 dias'\n",
            " 'Infecções por Pv em crianças apresentando vômitos, com cápsulas retais de artesunato em 4 dias e Primaquina em 7 dias'\n",
            " 'Infecções por Pf de crianças com cápsulas retais de artesunato em 4 dias e dose única de Mefloquina no 3º dia e Primaquina no 5º ida'\n",
            " 'Infecções não complicadas por P. falciparum no primeiro trimestre de gestação e crianças com menos de 6 meses , com Quinina 3 dias e Clincamicina em 5 dias'\n",
            " 'Infecções por P. falciparum com a combinação fixa de Artemeter + Lumefantrina em 3 dias e primaquina em dose única'\n",
            " 'Infecções por P. falciparum com a combinação fixa de Artesunato + Mefloquina em 3 dias e primaquina em dose única'\n",
            " 'Tratamento de Recaída pelo P. vivax com Artemeter + Lumefantrina por 3 dias e Primaquina em 14 dias dose dobrada'\n",
            " 'Esquema de tratamento inadequado'\n",
            " 'Infecção por P. Vivax em gestante com Cloroquina por 3 dias e Cloroquina profilática semanal até o primeiro mês de aleitamento'\n",
            " 'Prevenção das recaídas por P. vivax ou P. ovale com Cloroquina semanal'\n",
            " 'Infecções mistas por P. falciparum e P. vivax ou P. ovale com Artemeter + Lumefantrina em 3 dias e Primaquina semanal'\n",
            " 'Infecções pelo P. malariae para todas as idades e por P. vivax ou P. ovale em gestantes, com Cloroquina em 3 dias'\n",
            " 'Infecções pelo P. vivax ou P. ovale em crianças de 6 a 11m ou infecções mistas por P. falciparum e P. vivax ou P. ovale em maiores de 6m, com Artemeter + Lumefantrina 3 dias e primaquina em 7 dias'\n",
            " 'Infecções por P. falciparum, P. vivax ou P. ovale ou mistas em gestantes ou crianças menores de 6m com a combinação de Artemeter + Lumefantrina em 3 dias, inclusive recaídas em crianças menores de 6m'\n",
            " 'Infecções pelo P. vivax, ou P. ovale com Cloroquina em 3 dias e primaquina semanal'\n",
            " 'Infecções mistas por P. falciparum e P. vivax ou P. ovale com Artesunato + Mefloquina em 3 dias e Primaquina semanal'\n",
            " 'Malária Grave e complicada pelo P. vivax com Artesunato injetável e Primaquina em 14 dias'\n",
            " 'Tratamento de Recaída pelo P. vivax com Artesunato + mefloquina por 3 dias e Primaquina em 14 dias dose dobrada'\n",
            " 'Infecções por P. falciparum, P. vivax ou P. ovale ou mistas em gestantes ou crianças menores de 6m com a combinação de Artesunato + Mefloquina em 3 dias, inclusive recaídas em crianças menores de 6m'\n",
            " 'Infecções pelo P. vivax ou P. ovale em crianças de 6 a 11m ou infecções mistas por P. falciparum e P. vivax ou P. ovale em maiores de 6m, com Artesunato + Mefloquina 3 dias e primaquina em 7 dias'\n",
            " 'Infecções pelo P. vivax, ou P. ovale com Cloroquina em 3 dias e Tafenoquina'\n",
            " 'Malária grave e complicada para todas faixas etárias'\n",
            " 'Malária Grave e complicada pelo P. falciparum com Artesunato injetável e Primaquina em  dose única'] \n",
            "\n",
            "hemoparasi :  object\n",
            "[nan 'Negativo' 'Não pesquisados' 'Trypanosoma sp.' 'Microfilária'\n",
            " 'Trypanosoma sp..+ Microfilária'] \n",
            "\n",
            "exame :  object\n",
            "[nan 'Gota espessa' 'Teste rápido'] \n",
            "\n",
            "id_lvc :  object\n",
            "['Não LVC' 'LVC'] \n",
            "\n",
            "gestante :  object\n",
            "['Não' 'Não se aplica' 'Idade gestacional ignorada' '2º Trimestre' nan\n",
            " '3º Trimestre' '1º Trimestre'] \n",
            "\n",
            "vivax :  object\n",
            "[nan 'Não tratado p/ vivax < 60 dias' 'Tratado p/ vivax < 60 dias'] \n",
            "\n",
            "falciparum :  object\n",
            "[nan 'Não tratado p/ falciparum < 40 dias'\n",
            " 'Tratado p/ falciparum < 40 dias'] \n",
            "\n",
            "niv_esco :  object\n",
            "['1ª a 4ª série incompleta do EF' '5ª a 8ª série incompleta do EF' nan\n",
            " 'Analfabeto' 'Não se aplica' 'Ensino fundamental completo'\n",
            " 'Educação superior incompleto' 'Ensino médio incompleto'\n",
            " 'Ensino médio completo' '4ª série completa do EF'\n",
            " 'Educação superior completa'] \n",
            "\n",
            "zona_infe :  object\n",
            "['Rural' nan 'Urbana'] \n",
            "\n",
            "categori_infe :  object\n",
            "['Sitio' nan 'Seringal' 'Ramal' 'Projeto' 'Projeto assentamento dirigido'\n",
            " 'Vila' 'Colonia' 'Aldeia' 'Bairro' 'Garimpo' 'Povoado' 'Gleba' 'Fazenda'\n",
            " 'Conjunto habitacional' 'Estrada' 'Cidade/sede municipal' 'Linha'\n",
            " 'Acampamento' 'Aeroporto' 'Porto' 'Casa isolada' 'Area de abrangencia'\n",
            " 'Cemiterio' 'Lagoa' 'Ilha' 'Bloco de apartamento' 'Morro' 'Usina'\n",
            " 'Clubes' 'Quarteirao' 'Nucleo' 'Serraria' 'Rodoviaria/ferroviaria'\n",
            " 'Baixao' 'Quadra' 'Engenho' 'Praca/parque' 'Grota' 'Estadios/ginasios'] \n",
            "\n"
          ],
          "name": "stdout"
        }
      ]
    },
    {
      "cell_type": "markdown",
      "metadata": {
        "id": "D1JsNbGy0mvi"
      },
      "source": [
        "**Remover registros onde id_lvc é LVC**"
      ]
    },
    {
      "cell_type": "code",
      "metadata": {
        "id": "_MFaF2Ha0wJI",
        "colab": {
          "base_uri": "https://localhost:8080/"
        },
        "outputId": "11b4156b-6b61-46af-db21-20337e1b528e"
      },
      "source": [
        "print(df_prep.shape)\n",
        "df_prep = df_prep[df_prep['id_lvc'] != 'LVC']\n",
        "print(df_prep.shape)"
      ],
      "execution_count": null,
      "outputs": [
        {
          "output_type": "stream",
          "text": [
            "(1896254, 28)\n",
            "(1594530, 28)\n"
          ],
          "name": "stdout"
        }
      ]
    },
    {
      "cell_type": "markdown",
      "metadata": {
        "id": "nloZp2ki1QdK"
      },
      "source": [
        "**Remover coluna id_lvc pois ela agora só possui um único valor**"
      ]
    },
    {
      "cell_type": "code",
      "metadata": {
        "colab": {
          "base_uri": "https://localhost:8080/"
        },
        "id": "mQNCsKka1PiH",
        "outputId": "bff0e658-723c-4f72-c999-41294e8dd8db"
      },
      "source": [
        "df_prep['id_lvc'].unique()"
      ],
      "execution_count": null,
      "outputs": [
        {
          "output_type": "execute_result",
          "data": {
            "text/plain": [
              "array(['Não LVC'], dtype=object)"
            ]
          },
          "metadata": {
            "tags": []
          },
          "execution_count": 24
        }
      ]
    },
    {
      "cell_type": "code",
      "metadata": {
        "id": "xm9Y1bny49Sf"
      },
      "source": [
        "df_prep.drop(columns='id_lvc', axis=1, inplace=True)"
      ],
      "execution_count": null,
      "outputs": []
    },
    {
      "cell_type": "code",
      "metadata": {
        "colab": {
          "base_uri": "https://localhost:8080/",
          "height": 395
        },
        "id": "DCWX80Wa0FA9",
        "outputId": "ef80613d-1010-4da1-9c4a-9cc36357141e"
      },
      "source": [
        "# Let's see the barplot that shows the number of nan values by column\n",
        "plot_hist_nan(df_prep, 'barplot_nan')"
      ],
      "execution_count": null,
      "outputs": [
        {
          "output_type": "display_data",
          "data": {
            "image/png": "[encoded data removed]",
            "text/plain": [
              "<Figure size 720x432 with 1 Axes>"
            ]
          },
          "metadata": {
            "tags": [],
            "needs_background": "light"
          }
        }
      ]
    },
    {
      "cell_type": "code",
      "metadata": {
        "colab": {
          "base_uri": "https://localhost:8080/",
          "height": 204
        },
        "id": "uveyhPEx0FKz",
        "outputId": "c16351d7-a4c1-4245-9f0c-4dcf1094cb7f"
      },
      "source": [
        "nan_df = pd.DataFrame(df_prep.isna().sum().tolist(), df_prep.columns.tolist()).reset_index()\n",
        "nan_df.columns = ['column_name', 'total_nan']\n",
        "nan_df['nan_perc'] = 100*round(nan_df['total_nan']/len(df_prep),3)\n",
        "nan_df = nan_df.sort_values('total_nan', ascending=False)\n",
        "nan_df.head()"
      ],
      "execution_count": null,
      "outputs": [
        {
          "output_type": "execute_result",
          "data": {
            "text/html": [
              "<div>\n",
              "<style scoped>\n",
              "    .dataframe tbody tr th:only-of-type {\n",
              "        vertical-align: middle;\n",
              "    }\n",
              "\n",
              "    .dataframe tbody tr th {\n",
              "        vertical-align: top;\n",
              "    }\n",
              "\n",
              "    .dataframe thead th {\n",
              "        text-align: right;\n",
              "    }\n",
              "</style>\n",
              "<table border=\"1\" class=\"dataframe\">\n",
              "  <thead>\n",
              "    <tr style=\"text-align: right;\">\n",
              "      <th></th>\n",
              "      <th>column_name</th>\n",
              "      <th>total_nan</th>\n",
              "      <th>nan_perc</th>\n",
              "    </tr>\n",
              "  </thead>\n",
              "  <tbody>\n",
              "    <tr>\n",
              "      <th>15</th>\n",
              "      <td>qtd_para</td>\n",
              "      <td>1132107</td>\n",
              "      <td>71.0</td>\n",
              "    </tr>\n",
              "    <tr>\n",
              "      <th>19</th>\n",
              "      <td>hemoparasi</td>\n",
              "      <td>193855</td>\n",
              "      <td>12.2</td>\n",
              "    </tr>\n",
              "    <tr>\n",
              "      <th>5</th>\n",
              "      <td>raca</td>\n",
              "      <td>178195</td>\n",
              "      <td>11.2</td>\n",
              "    </tr>\n",
              "    <tr>\n",
              "      <th>23</th>\n",
              "      <td>falciparum</td>\n",
              "      <td>178150</td>\n",
              "      <td>11.2</td>\n",
              "    </tr>\n",
              "    <tr>\n",
              "      <th>22</th>\n",
              "      <td>vivax</td>\n",
              "      <td>178150</td>\n",
              "      <td>11.2</td>\n",
              "    </tr>\n",
              "  </tbody>\n",
              "</table>\n",
              "</div>"
            ],
            "text/plain": [
              "   column_name  total_nan  nan_perc\n",
              "15    qtd_para    1132107      71.0\n",
              "19  hemoparasi     193855      12.2\n",
              "5         raca     178195      11.2\n",
              "23  falciparum     178150      11.2\n",
              "22       vivax     178150      11.2"
            ]
          },
          "metadata": {
            "tags": []
          },
          "execution_count": 28
        }
      ]
    },
    {
      "cell_type": "markdown",
      "metadata": {
        "id": "2hf4TjI-yhmp"
      },
      "source": [
        "**Remover a coluna qtd_para pois tem mais de 70% de valores faltantes.**"
      ]
    },
    {
      "cell_type": "code",
      "metadata": {
        "id": "xQrnHKd80FSO",
        "colab": {
          "base_uri": "https://localhost:8080/"
        },
        "outputId": "c89da75e-0a25-4813-ae27-2fea9b578281"
      },
      "source": [
        "print(df_prep.shape)\n",
        "df_prep.drop(columns=['qtd_para'], axis=1, inplace=True)\n",
        "print(df_prep.shape)\n",
        "df_prep.columns"
      ],
      "execution_count": null,
      "outputs": [
        {
          "output_type": "stream",
          "text": [
            "(1594530, 27)\n",
            "(1594530, 26)\n"
          ],
          "name": "stdout"
        },
        {
          "output_type": "execute_result",
          "data": {
            "text/plain": [
              "Index(['dt_notif', 'tipo_lam', 'id_pacie', 'id_dimea', 'sexo', 'raca',\n",
              "       'sintomas', 'dt_sinto', 'cod_ocup', 'uf_infec', 'pais_inf', 'mun_infe',\n",
              "       'loc_infe', 'dt_exame', 'res_exam', 'qtd_cruz', 'dt_trata', 'esquema',\n",
              "       'hemoparasi', 'exame', 'gestante', 'vivax', 'falciparum', 'niv_esco',\n",
              "       'zona_infe', 'categori_infe'],\n",
              "      dtype='object')"
            ]
          },
          "metadata": {
            "tags": []
          },
          "execution_count": 29
        }
      ]
    },
    {
      "cell_type": "markdown",
      "metadata": {
        "id": "3kMWkb-s0iWi"
      },
      "source": [
        "**Deletar registros os quais tenham pelo menos uma coluna com valor faltante**"
      ]
    },
    {
      "cell_type": "code",
      "metadata": {
        "colab": {
          "base_uri": "https://localhost:8080/"
        },
        "id": "xKi3Ws-9zgYn",
        "outputId": "d28af93f-a846-49a5-ac72-36b1f300a114"
      },
      "source": [
        "print(df_prep.shape)\n",
        "df_prep.dropna(axis=0, inplace=True)\n",
        "print(df_prep.shape)\n",
        "df_prep.isnull().sum()\n",
        "#df_prep = df_prep[df_prep['esquema'].notna()]"
      ],
      "execution_count": null,
      "outputs": [
        {
          "output_type": "stream",
          "text": [
            "(1594530, 26)\n",
            "(1239309, 26)\n"
          ],
          "name": "stdout"
        },
        {
          "output_type": "execute_result",
          "data": {
            "text/plain": [
              "dt_notif         0\n",
              "tipo_lam         0\n",
              "id_pacie         0\n",
              "id_dimea         0\n",
              "sexo             0\n",
              "raca             0\n",
              "sintomas         0\n",
              "dt_sinto         0\n",
              "cod_ocup         0\n",
              "uf_infec         0\n",
              "pais_inf         0\n",
              "mun_infe         0\n",
              "loc_infe         0\n",
              "dt_exame         0\n",
              "res_exam         0\n",
              "qtd_cruz         0\n",
              "dt_trata         0\n",
              "esquema          0\n",
              "hemoparasi       0\n",
              "exame            0\n",
              "gestante         0\n",
              "vivax            0\n",
              "falciparum       0\n",
              "niv_esco         0\n",
              "zona_infe        0\n",
              "categori_infe    0\n",
              "dtype: int64"
            ]
          },
          "metadata": {
            "tags": []
          },
          "execution_count": 30
        }
      ]
    },
    {
      "cell_type": "markdown",
      "metadata": {
        "id": "choM-jex1qT7"
      },
      "source": [
        "**CHECKPOINT**"
      ]
    },
    {
      "cell_type": "code",
      "metadata": {
        "id": "jPA8WFIG0FY5"
      },
      "source": [
        "df_prep_notnull = df_prep.copy()"
      ],
      "execution_count": null,
      "outputs": []
    },
    {
      "cell_type": "markdown",
      "metadata": {
        "id": "xw-YHfCMNbGv"
      },
      "source": [
        "## Prepare the Dataset"
      ]
    },
    {
      "cell_type": "markdown",
      "metadata": {
        "id": "-67PBu8G4MTV"
      },
      "source": [
        "**Remover colunas de datas e outras relacionadas à localização**\n",
        "\n",
        "Removemos as features relacionadas à localização, pois o modelo deve considerar somente features pertininentes ao paciente."
      ]
    },
    {
      "cell_type": "markdown",
      "metadata": {
        "id": "3Xk5asBVLFte"
      },
      "source": [
        "'zona_infe' ????\n"
      ]
    },
    {
      "cell_type": "code",
      "metadata": {
        "id": "0y2tqcBs3QRk",
        "colab": {
          "base_uri": "https://localhost:8080/"
        },
        "outputId": "ec9d30e7-7cae-436f-958b-24bfefc00895"
      },
      "source": [
        "df_prep_notnull.drop(columns=['dt_sinto', 'dt_notif', 'dt_exame', 'dt_trata',\n",
        "                              'uf_infec', 'pais_inf',  'categori_infe'], axis=1, inplace=True)\n",
        "\n",
        "df_prep_notnull.columns"
      ],
      "execution_count": null,
      "outputs": [
        {
          "output_type": "execute_result",
          "data": {
            "text/plain": [
              "Index(['tipo_lam', 'id_pacie', 'id_dimea', 'sexo', 'raca', 'sintomas',\n",
              "       'cod_ocup', 'mun_infe', 'loc_infe', 'res_exam', 'qtd_cruz', 'esquema',\n",
              "       'hemoparasi', 'exame', 'gestante', 'vivax', 'falciparum', 'niv_esco',\n",
              "       'zona_infe'],\n",
              "      dtype='object')"
            ]
          },
          "metadata": {
            "tags": []
          },
          "execution_count": 22
        }
      ]
    },
    {
      "cell_type": "code",
      "metadata": {
        "id": "VpBpYe5D3COY",
        "colab": {
          "base_uri": "https://localhost:8080/"
        },
        "outputId": "2e7eb20d-370a-494f-f1a1-44fbf35f254a"
      },
      "source": [
        "# All features are categorical and object type. So we need to convert the object type to numerical type.\n",
        "# In this process the nan values are converted to -1\n",
        "\n",
        "obj_cols = df_prep_notnull.select_dtypes(['object']).columns\n",
        "df_prep_notnull[obj_cols] = df_prep_notnull[obj_cols].astype('category')\n",
        "df_prep_notnull[obj_cols] = df_prep_notnull[obj_cols].apply(lambda x: x.cat.codes)\n",
        "df_prep_notnull[obj_cols] = df_prep_notnull[obj_cols].astype('int64')\n",
        "df_prep_notnull[df_prep_notnull[obj_cols] == -1] = np.nan\n",
        "\n",
        "for col in obj_cols:\n",
        "    print(col, \": \", df_prep_notnull[col].dtype)\n",
        "    print(df_prep_notnull[col].unique(), \"\\n\")"
      ],
      "execution_count": null,
      "outputs": [
        {
          "output_type": "stream",
          "text": [
            "tipo_lam :  int64\n",
            "[0 1 2] \n",
            "\n",
            "id_dimea :  int64\n",
            "[0 2 1] \n",
            "\n",
            "sexo :  int64\n",
            "[1 0] \n",
            "\n",
            "raca :  int64\n",
            "[3 4 2 1 0] \n",
            "\n",
            "sintomas :  int64\n",
            "[0 1] \n",
            "\n",
            "cod_ocup :  int64\n",
            "[ 0  8 11  3  9  1 10  4  2  7  5  6] \n",
            "\n",
            "res_exam :  int64\n",
            "[9 3 0 2 8 4 5 1 6 7] \n",
            "\n",
            "qtd_cruz :  int64\n",
            "[0 4 1 5 2 3] \n",
            "\n",
            "esquema :  int64\n",
            "[11 10 18 24 25 14 17  3 23  6  5 16 15  1 26  2  7 27  8 19 13  4  0 22\n",
            " 20 28  9 12 21] \n",
            "\n",
            "hemoparasi :  int64\n",
            "[1 2 3 0 4] \n",
            "\n",
            "exame :  int64\n",
            "[0 1] \n",
            "\n",
            "gestante :  int64\n",
            "[5 4 1 2 0 3] \n",
            "\n",
            "vivax :  int64\n",
            "[0 1] \n",
            "\n",
            "falciparum :  int64\n",
            "[0 1] \n",
            "\n",
            "niv_esco :  int64\n",
            "[6 8 2 0 9 3 7 1 4 5] \n",
            "\n",
            "zona_infe :  int64\n",
            "[0 1] \n",
            "\n"
          ],
          "name": "stdout"
        }
      ]
    },
    {
      "cell_type": "code",
      "metadata": {
        "id": "9a7L3X48DQ9K"
      },
      "source": [
        "def show_categories(col):\n",
        "  df_categories = pd.DataFrame(columns=[col])\n",
        "  df_categories[col] = df_prep[col].unique().copy()\n",
        "  df_categories[\"id\"] = df_categories[col].astype('category')\n",
        "  cat_columns = df_categories.select_dtypes(['category']).columns\n",
        "  df_categories[cat_columns] = df_categories[cat_columns].apply(lambda x: x.cat.codes)\n",
        "  return df_categories"
      ],
      "execution_count": null,
      "outputs": []
    },
    {
      "cell_type": "markdown",
      "metadata": {
        "id": "Hi9_-hSzM1lN"
      },
      "source": [
        "Limpeza colunas id_diame e id_pacie"
      ]
    },
    {
      "cell_type": "code",
      "metadata": {
        "colab": {
          "base_uri": "https://localhost:8080/",
          "height": 142
        },
        "id": "XV9xQWwQNaKe",
        "outputId": "59d012ea-ec9f-4954-8e9a-8ddcff10bb7d"
      },
      "source": [
        "show_categories('id_dimea')"
      ],
      "execution_count": null,
      "outputs": [
        {
          "output_type": "execute_result",
          "data": {
            "text/html": [
              "<div>\n",
              "<style scoped>\n",
              "    .dataframe tbody tr th:only-of-type {\n",
              "        vertical-align: middle;\n",
              "    }\n",
              "\n",
              "    .dataframe tbody tr th {\n",
              "        vertical-align: top;\n",
              "    }\n",
              "\n",
              "    .dataframe thead th {\n",
              "        text-align: right;\n",
              "    }\n",
              "</style>\n",
              "<table border=\"1\" class=\"dataframe\">\n",
              "  <thead>\n",
              "    <tr style=\"text-align: right;\">\n",
              "      <th></th>\n",
              "      <th>id_dimea</th>\n",
              "      <th>id</th>\n",
              "    </tr>\n",
              "  </thead>\n",
              "  <tbody>\n",
              "    <tr>\n",
              "      <th>0</th>\n",
              "      <td>Anos</td>\n",
              "      <td>0</td>\n",
              "    </tr>\n",
              "    <tr>\n",
              "      <th>1</th>\n",
              "      <td>Meses</td>\n",
              "      <td>2</td>\n",
              "    </tr>\n",
              "    <tr>\n",
              "      <th>2</th>\n",
              "      <td>Dias</td>\n",
              "      <td>1</td>\n",
              "    </tr>\n",
              "  </tbody>\n",
              "</table>\n",
              "</div>"
            ],
            "text/plain": [
              "  id_dimea  id\n",
              "0     Anos   0\n",
              "1    Meses   2\n",
              "2     Dias   1"
            ]
          },
          "metadata": {
            "tags": []
          },
          "execution_count": 25
        }
      ]
    },
    {
      "cell_type": "code",
      "metadata": {
        "colab": {
          "base_uri": "https://localhost:8080/"
        },
        "id": "4oFs97ndM0nm",
        "outputId": "42daf19e-a603-460e-e31f-f9b36eb8ba9a"
      },
      "source": [
        "print('Removendo indivíduos com idade em meses, maior que 12 meses...')\n",
        "print(df_prep_notnull.shape)\n",
        "df_prep_notnull = df_prep_notnull[~((df_prep_notnull.id_pacie > 12) & (df_prep_notnull.id_dimea == 2))]\n",
        "print(df_prep_notnull.shape)\n",
        "\n",
        "print('\\nRemovendo indivíduos com idade maior que 100 anos...')\n",
        "print(df_prep_notnull.shape)\n",
        "df_prep_notnull = df_prep_notnull[~((df_prep_notnull.id_pacie > 100) & (df_prep_notnull.id_dimea == 0)) ]\n",
        "print(df_prep_notnull.shape)\n",
        "\n",
        "print('\\nConvertendo dias e meses para 0 anos...')\n",
        "df_prep_notnull['id_pacie'] = np.where(df_prep_notnull['id_dimea'] == 1, 0, df_prep_notnull['id_pacie'])\n",
        "df_prep_notnull['id_pacie'] = np.where(df_prep_notnull['id_dimea'] == 2, 0, df_prep_notnull['id_pacie'])\n",
        "\n",
        "print('\\nRemovendo coluna id_dimea')\n",
        "df_prep_notnull.drop(columns=['id_dimea'], axis=1, inplace=True)\n",
        "\n",
        "print('\\nIndivíduos com mais de 100 anos: %s' % df_prep_notnull[((df_prep_notnull.id_pacie > 100))].shape[0])\n",
        "print('\\nIndivíduos com menos de 1 ano: %s' % df_prep_notnull[((df_prep_notnull.id_pacie == 0))].shape[0])"
      ],
      "execution_count": null,
      "outputs": [
        {
          "output_type": "stream",
          "text": [
            "Removendo indivíduos com idade em meses, maior que 12 meses...\n",
            "(1239309, 19)\n",
            "(1239049, 19)\n",
            "\n",
            "Removendo indivíduos com idade maior que 100 anos...\n",
            "(1239049, 19)\n",
            "(1238851, 19)\n",
            "\n",
            "Convertendo dias e meses para 0 anos...\n",
            "\n",
            "Removendo coluna id_dimea\n",
            "\n",
            "Indivíduos com mais de 100 anos: 0\n",
            "\n",
            "Indivíduos com menos de 1 ano: 15627\n"
          ],
          "name": "stdout"
        }
      ]
    },
    {
      "cell_type": "code",
      "metadata": {
        "colab": {
          "base_uri": "https://localhost:8080/"
        },
        "id": "xktwU-hdPB6H",
        "outputId": "ed737f42-a8fa-4570-f97a-b1675f02a10a"
      },
      "source": [
        "df_prep_notnull.columns"
      ],
      "execution_count": null,
      "outputs": [
        {
          "output_type": "execute_result",
          "data": {
            "text/plain": [
              "Index(['tipo_lam', 'id_pacie', 'sexo', 'raca', 'sintomas', 'cod_ocup',\n",
              "       'mun_infe', 'loc_infe', 'res_exam', 'qtd_cruz', 'esquema', 'hemoparasi',\n",
              "       'exame', 'gestante', 'vivax', 'falciparum', 'niv_esco', 'zona_infe'],\n",
              "      dtype='object')"
            ]
          },
          "metadata": {
            "tags": []
          },
          "execution_count": 27
        }
      ]
    },
    {
      "cell_type": "markdown",
      "metadata": {
        "id": "8dAU_yxejNmE"
      },
      "source": [
        "A coluna ESQUEMA será utilizada como feature alvo (target). Essa feature possui 20 valores possíveis, ou seja, teríamos 20 classes. Vamos analisar a distribuição dessas classes através de um gráfico de barras."
      ]
    },
    {
      "cell_type": "code",
      "metadata": {
        "colab": {
          "base_uri": "https://localhost:8080/",
          "height": 948
        },
        "id": "d6OctaqFcU-U",
        "outputId": "652a57c1-4d55-4a18-82cb-c93f39abf8d6"
      },
      "source": [
        "df_esquema = show_categories('esquema')\n",
        "\n",
        "df_esquema.to_csv('./esquemas.csv', index=False, sep=\",\", encoding='utf-8')\n",
        "df_esquema"
      ],
      "execution_count": null,
      "outputs": [
        {
          "output_type": "execute_result",
          "data": {
            "text/html": [
              "<div>\n",
              "<style scoped>\n",
              "    .dataframe tbody tr th:only-of-type {\n",
              "        vertical-align: middle;\n",
              "    }\n",
              "\n",
              "    .dataframe tbody tr th {\n",
              "        vertical-align: top;\n",
              "    }\n",
              "\n",
              "    .dataframe thead th {\n",
              "        text-align: right;\n",
              "    }\n",
              "</style>\n",
              "<table border=\"1\" class=\"dataframe\">\n",
              "  <thead>\n",
              "    <tr style=\"text-align: right;\">\n",
              "      <th></th>\n",
              "      <th>esquema</th>\n",
              "      <th>id</th>\n",
              "    </tr>\n",
              "  </thead>\n",
              "  <tbody>\n",
              "    <tr>\n",
              "      <th>0</th>\n",
              "      <td>Infecções pelo P. vivax, ou P. ovale com Cloro...</td>\n",
              "      <td>11</td>\n",
              "    </tr>\n",
              "    <tr>\n",
              "      <th>1</th>\n",
              "      <td>Infecções pelo P. vivax, ou P. ovale com Cloro...</td>\n",
              "      <td>10</td>\n",
              "    </tr>\n",
              "    <tr>\n",
              "      <th>2</th>\n",
              "      <td>Infecções por P. falciparum com a combinação f...</td>\n",
              "      <td>18</td>\n",
              "    </tr>\n",
              "    <tr>\n",
              "      <th>3</th>\n",
              "      <td>Outro Esquema utilizado</td>\n",
              "      <td>24</td>\n",
              "    </tr>\n",
              "    <tr>\n",
              "      <th>4</th>\n",
              "      <td>Prevenção das recaídas frequentes por P. vivax...</td>\n",
              "      <td>25</td>\n",
              "    </tr>\n",
              "    <tr>\n",
              "      <th>5</th>\n",
              "      <td>Infecções por P. falciparum com Quinina em 3 d...</td>\n",
              "      <td>14</td>\n",
              "    </tr>\n",
              "    <tr>\n",
              "      <th>6</th>\n",
              "      <td>Infecções por P. falciparum com a combinação f...</td>\n",
              "      <td>17</td>\n",
              "    </tr>\n",
              "    <tr>\n",
              "      <th>7</th>\n",
              "      <td>Infecções mistas por P. falciparum e P. vivax ...</td>\n",
              "      <td>3</td>\n",
              "    </tr>\n",
              "    <tr>\n",
              "      <th>8</th>\n",
              "      <td>Malária grave e complicada pelo P. falciparum ...</td>\n",
              "      <td>23</td>\n",
              "    </tr>\n",
              "    <tr>\n",
              "      <th>9</th>\n",
              "      <td>Infecções pelo P. malariae para todas as idade...</td>\n",
              "      <td>6</td>\n",
              "    </tr>\n",
              "    <tr>\n",
              "      <th>10</th>\n",
              "      <td>Infecções não complicadas por P. falciparum no...</td>\n",
              "      <td>5</td>\n",
              "    </tr>\n",
              "    <tr>\n",
              "      <th>11</th>\n",
              "      <td>Infecções por P. falciparum com a combinação f...</td>\n",
              "      <td>16</td>\n",
              "    </tr>\n",
              "    <tr>\n",
              "      <th>12</th>\n",
              "      <td>Infecções por P. falciparum com a combinação f...</td>\n",
              "      <td>15</td>\n",
              "    </tr>\n",
              "    <tr>\n",
              "      <th>13</th>\n",
              "      <td>Infecção por P. Vivax em gestante com Cloroqui...</td>\n",
              "      <td>1</td>\n",
              "    </tr>\n",
              "    <tr>\n",
              "      <th>14</th>\n",
              "      <td>Prevenção das recaídas por P. vivax ou P. oval...</td>\n",
              "      <td>26</td>\n",
              "    </tr>\n",
              "    <tr>\n",
              "      <th>15</th>\n",
              "      <td>Infecções mistas por P. falciparum e P. vivax ...</td>\n",
              "      <td>2</td>\n",
              "    </tr>\n",
              "    <tr>\n",
              "      <th>16</th>\n",
              "      <td>Infecções pelo P. malariae para todas as idade...</td>\n",
              "      <td>7</td>\n",
              "    </tr>\n",
              "    <tr>\n",
              "      <th>17</th>\n",
              "      <td>Tratamento de Recaída pelo P. vivax com Arteme...</td>\n",
              "      <td>27</td>\n",
              "    </tr>\n",
              "    <tr>\n",
              "      <th>18</th>\n",
              "      <td>Infecções pelo P. vivax ou P. ovale em criança...</td>\n",
              "      <td>8</td>\n",
              "    </tr>\n",
              "    <tr>\n",
              "      <th>19</th>\n",
              "      <td>Infecções por P. falciparum, P. vivax ou P. ov...</td>\n",
              "      <td>19</td>\n",
              "    </tr>\n",
              "    <tr>\n",
              "      <th>20</th>\n",
              "      <td>Infecções pelo P. vivax, ou P. ovale com Cloro...</td>\n",
              "      <td>13</td>\n",
              "    </tr>\n",
              "    <tr>\n",
              "      <th>21</th>\n",
              "      <td>Infecções mistas por P. falciparum e P. vivax ...</td>\n",
              "      <td>4</td>\n",
              "    </tr>\n",
              "    <tr>\n",
              "      <th>22</th>\n",
              "      <td>Esquema de tratamento inadequado</td>\n",
              "      <td>0</td>\n",
              "    </tr>\n",
              "    <tr>\n",
              "      <th>23</th>\n",
              "      <td>Malária Grave e complicada pelo P. vivax com A...</td>\n",
              "      <td>22</td>\n",
              "    </tr>\n",
              "    <tr>\n",
              "      <th>24</th>\n",
              "      <td>Infecções por P. falciparum, P. vivax ou P. ov...</td>\n",
              "      <td>20</td>\n",
              "    </tr>\n",
              "    <tr>\n",
              "      <th>25</th>\n",
              "      <td>Tratamento de Recaída pelo P. vivax com Artesu...</td>\n",
              "      <td>28</td>\n",
              "    </tr>\n",
              "    <tr>\n",
              "      <th>26</th>\n",
              "      <td>Infecções pelo P. vivax ou P. ovale em criança...</td>\n",
              "      <td>9</td>\n",
              "    </tr>\n",
              "    <tr>\n",
              "      <th>27</th>\n",
              "      <td>Infecções pelo P. vivax, ou P. ovale com Cloro...</td>\n",
              "      <td>12</td>\n",
              "    </tr>\n",
              "    <tr>\n",
              "      <th>28</th>\n",
              "      <td>Malária Grave e complicada pelo P. falciparum ...</td>\n",
              "      <td>21</td>\n",
              "    </tr>\n",
              "  </tbody>\n",
              "</table>\n",
              "</div>"
            ],
            "text/plain": [
              "                                              esquema  id\n",
              "0   Infecções pelo P. vivax, ou P. ovale com Cloro...  11\n",
              "1   Infecções pelo P. vivax, ou P. ovale com Cloro...  10\n",
              "2   Infecções por P. falciparum com a combinação f...  18\n",
              "3                             Outro Esquema utilizado  24\n",
              "4   Prevenção das recaídas frequentes por P. vivax...  25\n",
              "5   Infecções por P. falciparum com Quinina em 3 d...  14\n",
              "6   Infecções por P. falciparum com a combinação f...  17\n",
              "7   Infecções mistas por P. falciparum e P. vivax ...   3\n",
              "8   Malária grave e complicada pelo P. falciparum ...  23\n",
              "9   Infecções pelo P. malariae para todas as idade...   6\n",
              "10  Infecções não complicadas por P. falciparum no...   5\n",
              "11  Infecções por P. falciparum com a combinação f...  16\n",
              "12  Infecções por P. falciparum com a combinação f...  15\n",
              "13  Infecção por P. Vivax em gestante com Cloroqui...   1\n",
              "14  Prevenção das recaídas por P. vivax ou P. oval...  26\n",
              "15  Infecções mistas por P. falciparum e P. vivax ...   2\n",
              "16  Infecções pelo P. malariae para todas as idade...   7\n",
              "17  Tratamento de Recaída pelo P. vivax com Arteme...  27\n",
              "18  Infecções pelo P. vivax ou P. ovale em criança...   8\n",
              "19  Infecções por P. falciparum, P. vivax ou P. ov...  19\n",
              "20  Infecções pelo P. vivax, ou P. ovale com Cloro...  13\n",
              "21  Infecções mistas por P. falciparum e P. vivax ...   4\n",
              "22                   Esquema de tratamento inadequado   0\n",
              "23  Malária Grave e complicada pelo P. vivax com A...  22\n",
              "24  Infecções por P. falciparum, P. vivax ou P. ov...  20\n",
              "25  Tratamento de Recaída pelo P. vivax com Artesu...  28\n",
              "26  Infecções pelo P. vivax ou P. ovale em criança...   9\n",
              "27  Infecções pelo P. vivax, ou P. ovale com Cloro...  12\n",
              "28  Malária Grave e complicada pelo P. falciparum ...  21"
            ]
          },
          "metadata": {
            "tags": []
          },
          "execution_count": 28
        }
      ]
    },
    {
      "cell_type": "code",
      "metadata": {
        "colab": {
          "base_uri": "https://localhost:8080/",
          "height": 383
        },
        "id": "npSW06qQkenk",
        "outputId": "ece7fd35-d935-477e-f3c4-0347f582f82b"
      },
      "source": [
        "df_plot = df_prep_notnull.copy()\n",
        "df_plot['id'] = df_plot.index + 1\n",
        "df_plot = df_plot.groupby('esquema')['id'].count().reset_index()\n",
        "df_plot.columns = ['esquema', 'count']\n",
        "df_plot['freq'] = df_plot['count'] / df_plot['count'].sum()\n",
        "df_plot = df_plot[df_plot['freq'] > 0.01]\n",
        "\n",
        "ax = sns.catplot(x=\"esquema\", y=\"freq\", kind=\"bar\", palette=\"pastel\", edgecolor=\".2\", data=df_plot, aspect=2.0)\n",
        "ax.set(ylabel='')\n",
        "#ax.set_xticklabels(rotation=90)\n",
        "\n",
        "plt.show()"
      ],
      "execution_count": null,
      "outputs": [
        {
          "output_type": "display_data",
          "data": {
            "image/png": "[encoded data removed]",
            "text/plain": [
              "<Figure size 720x360 with 1 Axes>"
            ]
          },
          "metadata": {
            "tags": [],
            "needs_background": "light"
          }
        }
      ]
    },
    {
      "cell_type": "markdown",
      "metadata": {
        "id": "R3MjB2vEmOgT"
      },
      "source": [
        "Podemos ver no gráfico que o esquema de tratamento 13 é o mais utilizado, seguido pelos tratamentos 17, 24, 15 2 e 10;\n",
        "\n",
        "11: Infecções pelo P. vivax, ou P. ovale com Cloroquina em 3 dias e Primaquina em 7 dias\n",
        "\n",
        "17: Infecções por P. falciparum com a combinação fixa de artemeter+lumefantrina em 3 dias\n",
        "\n",
        "24: Outro Esquema utilizado\n",
        "\n",
        "15: Infecções por P. falciparum com a combinação fixa de Artemeter + Lumefantrina em 3 dias e primaquina em dose única\n",
        "\n",
        "10: Infecções pelo P. vivax, ou P. ovale com Cloroquina em 3 dias e Primaquina em 14 dias (esquema longo)"
      ]
    },
    {
      "cell_type": "markdown",
      "metadata": {
        "id": "xcpQ4SqnJIFJ"
      },
      "source": [
        "### Idades inconsistentes"
      ]
    },
    {
      "cell_type": "markdown",
      "metadata": {
        "id": "slcaHjN94qzv"
      },
      "source": [
        "## First Approach\n",
        "Utilizar tratamento 11 contra o resto\n",
        "\n"
      ]
    },
    {
      "cell_type": "code",
      "metadata": {
        "id": "2P3VrBLT5viC",
        "colab": {
          "base_uri": "https://localhost:8080/",
          "height": 224
        },
        "outputId": "e3a5b4ab-88d1-4eaf-ba5f-45be5df1f775"
      },
      "source": [
        "df_prep_fa = df_prep_notnull.copy()\n",
        "df_prep_fa.head()"
      ],
      "execution_count": null,
      "outputs": [
        {
          "output_type": "execute_result",
          "data": {
            "text/html": [
              "<div>\n",
              "<style scoped>\n",
              "    .dataframe tbody tr th:only-of-type {\n",
              "        vertical-align: middle;\n",
              "    }\n",
              "\n",
              "    .dataframe tbody tr th {\n",
              "        vertical-align: top;\n",
              "    }\n",
              "\n",
              "    .dataframe thead th {\n",
              "        text-align: right;\n",
              "    }\n",
              "</style>\n",
              "<table border=\"1\" class=\"dataframe\">\n",
              "  <thead>\n",
              "    <tr style=\"text-align: right;\">\n",
              "      <th></th>\n",
              "      <th>tipo_lam</th>\n",
              "      <th>id_pacie</th>\n",
              "      <th>sexo</th>\n",
              "      <th>raca</th>\n",
              "      <th>sintomas</th>\n",
              "      <th>cod_ocup</th>\n",
              "      <th>mun_infe</th>\n",
              "      <th>loc_infe</th>\n",
              "      <th>res_exam</th>\n",
              "      <th>qtd_cruz</th>\n",
              "      <th>esquema</th>\n",
              "      <th>hemoparasi</th>\n",
              "      <th>exame</th>\n",
              "      <th>gestante</th>\n",
              "      <th>vivax</th>\n",
              "      <th>falciparum</th>\n",
              "      <th>niv_esco</th>\n",
              "      <th>zona_infe</th>\n",
              "    </tr>\n",
              "  </thead>\n",
              "  <tbody>\n",
              "    <tr>\n",
              "      <th>1721039</th>\n",
              "      <td>0</td>\n",
              "      <td>26.0</td>\n",
              "      <td>1</td>\n",
              "      <td>3</td>\n",
              "      <td>0</td>\n",
              "      <td>0</td>\n",
              "      <td>120080.0</td>\n",
              "      <td>146.0</td>\n",
              "      <td>9</td>\n",
              "      <td>0</td>\n",
              "      <td>11</td>\n",
              "      <td>1</td>\n",
              "      <td>0</td>\n",
              "      <td>5</td>\n",
              "      <td>0</td>\n",
              "      <td>0</td>\n",
              "      <td>6</td>\n",
              "      <td>0</td>\n",
              "    </tr>\n",
              "    <tr>\n",
              "      <th>1721045</th>\n",
              "      <td>0</td>\n",
              "      <td>43.0</td>\n",
              "      <td>1</td>\n",
              "      <td>3</td>\n",
              "      <td>0</td>\n",
              "      <td>8</td>\n",
              "      <td>110020.0</td>\n",
              "      <td>86.0</td>\n",
              "      <td>9</td>\n",
              "      <td>4</td>\n",
              "      <td>10</td>\n",
              "      <td>2</td>\n",
              "      <td>0</td>\n",
              "      <td>5</td>\n",
              "      <td>0</td>\n",
              "      <td>0</td>\n",
              "      <td>8</td>\n",
              "      <td>1</td>\n",
              "    </tr>\n",
              "    <tr>\n",
              "      <th>1721063</th>\n",
              "      <td>0</td>\n",
              "      <td>28.0</td>\n",
              "      <td>1</td>\n",
              "      <td>3</td>\n",
              "      <td>0</td>\n",
              "      <td>8</td>\n",
              "      <td>110020.0</td>\n",
              "      <td>317.0</td>\n",
              "      <td>9</td>\n",
              "      <td>1</td>\n",
              "      <td>11</td>\n",
              "      <td>2</td>\n",
              "      <td>0</td>\n",
              "      <td>5</td>\n",
              "      <td>0</td>\n",
              "      <td>0</td>\n",
              "      <td>2</td>\n",
              "      <td>0</td>\n",
              "    </tr>\n",
              "    <tr>\n",
              "      <th>1721072</th>\n",
              "      <td>0</td>\n",
              "      <td>24.0</td>\n",
              "      <td>1</td>\n",
              "      <td>4</td>\n",
              "      <td>0</td>\n",
              "      <td>11</td>\n",
              "      <td>120001.0</td>\n",
              "      <td>34.0</td>\n",
              "      <td>9</td>\n",
              "      <td>1</td>\n",
              "      <td>11</td>\n",
              "      <td>1</td>\n",
              "      <td>0</td>\n",
              "      <td>5</td>\n",
              "      <td>0</td>\n",
              "      <td>0</td>\n",
              "      <td>2</td>\n",
              "      <td>0</td>\n",
              "    </tr>\n",
              "    <tr>\n",
              "      <th>1721086</th>\n",
              "      <td>0</td>\n",
              "      <td>16.0</td>\n",
              "      <td>0</td>\n",
              "      <td>3</td>\n",
              "      <td>0</td>\n",
              "      <td>3</td>\n",
              "      <td>120039.0</td>\n",
              "      <td>63.0</td>\n",
              "      <td>9</td>\n",
              "      <td>1</td>\n",
              "      <td>11</td>\n",
              "      <td>2</td>\n",
              "      <td>0</td>\n",
              "      <td>4</td>\n",
              "      <td>0</td>\n",
              "      <td>0</td>\n",
              "      <td>0</td>\n",
              "      <td>0</td>\n",
              "    </tr>\n",
              "  </tbody>\n",
              "</table>\n",
              "</div>"
            ],
            "text/plain": [
              "         tipo_lam  id_pacie  sexo  raca  ...  vivax  falciparum  niv_esco  zona_infe\n",
              "1721039         0      26.0     1     3  ...      0           0         6          0\n",
              "1721045         0      43.0     1     3  ...      0           0         8          1\n",
              "1721063         0      28.0     1     3  ...      0           0         2          0\n",
              "1721072         0      24.0     1     4  ...      0           0         2          0\n",
              "1721086         0      16.0     0     3  ...      0           0         0          0\n",
              "\n",
              "[5 rows x 18 columns]"
            ]
          },
          "metadata": {
            "tags": []
          },
          "execution_count": 30
        }
      ]
    },
    {
      "cell_type": "code",
      "metadata": {
        "id": "tX66YDbppdIm"
      },
      "source": [
        "df_prep_fa['target'] = np.where(df_prep_fa['esquema'] == 11, 1, 0)"
      ],
      "execution_count": null,
      "outputs": []
    },
    {
      "cell_type": "code",
      "metadata": {
        "colab": {
          "base_uri": "https://localhost:8080/",
          "height": 224
        },
        "id": "WZ92AFdW7DAn",
        "outputId": "75c6941a-b662-4157-e5d4-a62690f226b7"
      },
      "source": [
        "df_prep_fa.head()"
      ],
      "execution_count": null,
      "outputs": [
        {
          "output_type": "execute_result",
          "data": {
            "text/html": [
              "<div>\n",
              "<style scoped>\n",
              "    .dataframe tbody tr th:only-of-type {\n",
              "        vertical-align: middle;\n",
              "    }\n",
              "\n",
              "    .dataframe tbody tr th {\n",
              "        vertical-align: top;\n",
              "    }\n",
              "\n",
              "    .dataframe thead th {\n",
              "        text-align: right;\n",
              "    }\n",
              "</style>\n",
              "<table border=\"1\" class=\"dataframe\">\n",
              "  <thead>\n",
              "    <tr style=\"text-align: right;\">\n",
              "      <th></th>\n",
              "      <th>tipo_lam</th>\n",
              "      <th>id_pacie</th>\n",
              "      <th>sexo</th>\n",
              "      <th>raca</th>\n",
              "      <th>sintomas</th>\n",
              "      <th>cod_ocup</th>\n",
              "      <th>mun_infe</th>\n",
              "      <th>loc_infe</th>\n",
              "      <th>res_exam</th>\n",
              "      <th>qtd_cruz</th>\n",
              "      <th>esquema</th>\n",
              "      <th>hemoparasi</th>\n",
              "      <th>exame</th>\n",
              "      <th>gestante</th>\n",
              "      <th>vivax</th>\n",
              "      <th>falciparum</th>\n",
              "      <th>niv_esco</th>\n",
              "      <th>zona_infe</th>\n",
              "      <th>target</th>\n",
              "    </tr>\n",
              "  </thead>\n",
              "  <tbody>\n",
              "    <tr>\n",
              "      <th>1721039</th>\n",
              "      <td>0</td>\n",
              "      <td>26.0</td>\n",
              "      <td>1</td>\n",
              "      <td>3</td>\n",
              "      <td>0</td>\n",
              "      <td>0</td>\n",
              "      <td>120080.0</td>\n",
              "      <td>146.0</td>\n",
              "      <td>9</td>\n",
              "      <td>0</td>\n",
              "      <td>11</td>\n",
              "      <td>1</td>\n",
              "      <td>0</td>\n",
              "      <td>5</td>\n",
              "      <td>0</td>\n",
              "      <td>0</td>\n",
              "      <td>6</td>\n",
              "      <td>0</td>\n",
              "      <td>1</td>\n",
              "    </tr>\n",
              "    <tr>\n",
              "      <th>1721045</th>\n",
              "      <td>0</td>\n",
              "      <td>43.0</td>\n",
              "      <td>1</td>\n",
              "      <td>3</td>\n",
              "      <td>0</td>\n",
              "      <td>8</td>\n",
              "      <td>110020.0</td>\n",
              "      <td>86.0</td>\n",
              "      <td>9</td>\n",
              "      <td>4</td>\n",
              "      <td>10</td>\n",
              "      <td>2</td>\n",
              "      <td>0</td>\n",
              "      <td>5</td>\n",
              "      <td>0</td>\n",
              "      <td>0</td>\n",
              "      <td>8</td>\n",
              "      <td>1</td>\n",
              "      <td>0</td>\n",
              "    </tr>\n",
              "    <tr>\n",
              "      <th>1721063</th>\n",
              "      <td>0</td>\n",
              "      <td>28.0</td>\n",
              "      <td>1</td>\n",
              "      <td>3</td>\n",
              "      <td>0</td>\n",
              "      <td>8</td>\n",
              "      <td>110020.0</td>\n",
              "      <td>317.0</td>\n",
              "      <td>9</td>\n",
              "      <td>1</td>\n",
              "      <td>11</td>\n",
              "      <td>2</td>\n",
              "      <td>0</td>\n",
              "      <td>5</td>\n",
              "      <td>0</td>\n",
              "      <td>0</td>\n",
              "      <td>2</td>\n",
              "      <td>0</td>\n",
              "      <td>1</td>\n",
              "    </tr>\n",
              "    <tr>\n",
              "      <th>1721072</th>\n",
              "      <td>0</td>\n",
              "      <td>24.0</td>\n",
              "      <td>1</td>\n",
              "      <td>4</td>\n",
              "      <td>0</td>\n",
              "      <td>11</td>\n",
              "      <td>120001.0</td>\n",
              "      <td>34.0</td>\n",
              "      <td>9</td>\n",
              "      <td>1</td>\n",
              "      <td>11</td>\n",
              "      <td>1</td>\n",
              "      <td>0</td>\n",
              "      <td>5</td>\n",
              "      <td>0</td>\n",
              "      <td>0</td>\n",
              "      <td>2</td>\n",
              "      <td>0</td>\n",
              "      <td>1</td>\n",
              "    </tr>\n",
              "    <tr>\n",
              "      <th>1721086</th>\n",
              "      <td>0</td>\n",
              "      <td>16.0</td>\n",
              "      <td>0</td>\n",
              "      <td>3</td>\n",
              "      <td>0</td>\n",
              "      <td>3</td>\n",
              "      <td>120039.0</td>\n",
              "      <td>63.0</td>\n",
              "      <td>9</td>\n",
              "      <td>1</td>\n",
              "      <td>11</td>\n",
              "      <td>2</td>\n",
              "      <td>0</td>\n",
              "      <td>4</td>\n",
              "      <td>0</td>\n",
              "      <td>0</td>\n",
              "      <td>0</td>\n",
              "      <td>0</td>\n",
              "      <td>1</td>\n",
              "    </tr>\n",
              "  </tbody>\n",
              "</table>\n",
              "</div>"
            ],
            "text/plain": [
              "         tipo_lam  id_pacie  sexo  ...  niv_esco  zona_infe  target\n",
              "1721039         0      26.0     1  ...         6          0       1\n",
              "1721045         0      43.0     1  ...         8          1       0\n",
              "1721063         0      28.0     1  ...         2          0       1\n",
              "1721072         0      24.0     1  ...         2          0       1\n",
              "1721086         0      16.0     0  ...         0          0       1\n",
              "\n",
              "[5 rows x 19 columns]"
            ]
          },
          "metadata": {
            "tags": []
          },
          "execution_count": 32
        }
      ]
    },
    {
      "cell_type": "code",
      "metadata": {
        "id": "FvnF030f6wsv"
      },
      "source": [
        "## Apagar a coluna esquema\n",
        "df_prep_fa.drop(axis=1, columns=['esquema'], inplace=True)"
      ],
      "execution_count": null,
      "outputs": []
    },
    {
      "cell_type": "code",
      "metadata": {
        "colab": {
          "base_uri": "https://localhost:8080/"
        },
        "id": "EdLuKzcJIt_3",
        "outputId": "302d2ce8-29df-4fa0-becc-a85656780bdb"
      },
      "source": [
        "df_prep_fa.columns"
      ],
      "execution_count": null,
      "outputs": [
        {
          "output_type": "execute_result",
          "data": {
            "text/plain": [
              "Index(['tipo_lam', 'id_pacie', 'sexo', 'raca', 'sintomas', 'cod_ocup',\n",
              "       'mun_infe', 'loc_infe', 'res_exam', 'qtd_cruz', 'hemoparasi', 'exame',\n",
              "       'gestante', 'vivax', 'falciparum', 'niv_esco', 'zona_infe', 'target'],\n",
              "      dtype='object')"
            ]
          },
          "metadata": {
            "tags": []
          },
          "execution_count": 34
        }
      ]
    },
    {
      "cell_type": "code",
      "metadata": {
        "colab": {
          "base_uri": "https://localhost:8080/"
        },
        "id": "RAFPIHSp8-Zk",
        "outputId": "c554d6c1-7f96-4fb2-aa75-5c5a82d508fb"
      },
      "source": [
        "nRows = df_prep_fa.shape[0]\n",
        "df_prep_fa['target'].value_counts()[1] / nRows"
      ],
      "execution_count": null,
      "outputs": [
        {
          "output_type": "execute_result",
          "data": {
            "text/plain": [
              "0.8277008292361229"
            ]
          },
          "metadata": {
            "tags": []
          },
          "execution_count": 35
        }
      ]
    },
    {
      "cell_type": "code",
      "metadata": {
        "colab": {
          "base_uri": "https://localhost:8080/"
        },
        "id": "prffz8Vs994t",
        "outputId": "31d001c6-92cf-464c-dbe2-0eb398f2f4e9"
      },
      "source": [
        "df_prep_fa['target'].value_counts()[0] / nRows"
      ],
      "execution_count": null,
      "outputs": [
        {
          "output_type": "execute_result",
          "data": {
            "text/plain": [
              "0.17229917076387719"
            ]
          },
          "metadata": {
            "tags": []
          },
          "execution_count": 36
        }
      ]
    },
    {
      "cell_type": "code",
      "metadata": {
        "id": "GkfLTnrW-vCA"
      },
      "source": [
        "sns.set_theme(style=\"whitegrid\")\n",
        "plt.rcParams['figure.figsize'] = (10, 6)\n",
        "plt.rcParams['axes.labelsize'] = 14\n",
        "plt.rcParams['xtick.labelsize'] = 14\n",
        "plt.rcParams['xtick.labelsize'] = 14\n",
        "plt.rcParams['ytick.labelsize'] = 14"
      ],
      "execution_count": null,
      "outputs": []
    },
    {
      "cell_type": "code",
      "metadata": {
        "colab": {
          "base_uri": "https://localhost:8080/"
        },
        "id": "_7Bqcn-r-FOk",
        "outputId": "8f8d7672-fe6e-4fba-d4a5-85ba4ecf372c"
      },
      "source": [
        "data = df_prep_fa.groupby(\"target\")[\"target\"].count()\n",
        "data"
      ],
      "execution_count": null,
      "outputs": [
        {
          "output_type": "execute_result",
          "data": {
            "text/plain": [
              "target\n",
              "0     213453\n",
              "1    1025398\n",
              "Name: target, dtype: int64"
            ]
          },
          "metadata": {
            "tags": []
          },
          "execution_count": 38
        }
      ]
    },
    {
      "cell_type": "code",
      "metadata": {
        "colab": {
          "base_uri": "https://localhost:8080/",
          "height": 357
        },
        "id": "moJzUK7KABwC",
        "outputId": "0acab469-ecc3-473b-8894-eeff43c13756"
      },
      "source": [
        "data.plot.pie(autopct=\"%.1f%%\");"
      ],
      "execution_count": null,
      "outputs": [
        {
          "output_type": "display_data",
          "data": {
            "image/png": "[encoded data removed]",
            "text/plain": [
              "<Figure size 720x432 with 1 Axes>"
            ]
          },
          "metadata": {
            "tags": []
          }
        }
      ]
    },
    {
      "cell_type": "markdown",
      "metadata": {
        "id": "jaQUX0Zjp8z3"
      },
      "source": [
        "### Dividir a base dados em treinamento e teste - 80/20\n",
        "Dos 80% de treinamento, usar 20% para validação"
      ]
    },
    {
      "cell_type": "code",
      "metadata": {
        "colab": {
          "base_uri": "https://localhost:8080/"
        },
        "id": "v9DvXnWL4hpo",
        "outputId": "bec42fab-0076-467b-af73-de6eac22142b"
      },
      "source": [
        "df_prep_fa.columns"
      ],
      "execution_count": null,
      "outputs": [
        {
          "output_type": "execute_result",
          "data": {
            "text/plain": [
              "Index(['tipo_lam', 'id_pacie', 'sexo', 'raca', 'sintomas', 'cod_ocup',\n",
              "       'mun_infe', 'loc_infe', 'res_exam', 'qtd_cruz', 'hemoparasi', 'exame',\n",
              "       'gestante', 'vivax', 'falciparum', 'niv_esco', 'zona_infe', 'target'],\n",
              "      dtype='object')"
            ]
          },
          "metadata": {
            "tags": []
          },
          "execution_count": 40
        }
      ]
    },
    {
      "cell_type": "code",
      "metadata": {
        "id": "iGnujAW8LA-W",
        "colab": {
          "base_uri": "https://localhost:8080/"
        },
        "outputId": "3a5195e0-e38e-4b05-e58a-72b2aa36ffd2"
      },
      "source": [
        "X_train, X_test = utl.train_test_split(df_prep_fa, test_size=0.20, random_state=13)\n",
        "df_train = X_train.copy()\n",
        "X_train, X_val = utl.train_test_split(X_train, test_size=0.20, random_state=13)\n",
        "\n",
        "print('Amostra para treino: %s' % X_train.shape[0])\n",
        "print('Amostra para validação: %s' % X_val.shape[0])\n",
        "print('Amostra para teste: %s' % X_test.shape[0])"
      ],
      "execution_count": null,
      "outputs": [
        {
          "output_type": "stream",
          "text": [
            "Amostra para treino: 792864\n",
            "Amostra para validação: 198216\n",
            "Amostra para teste: 247771\n"
          ],
          "name": "stdout"
        }
      ]
    },
    {
      "cell_type": "code",
      "metadata": {
        "id": "SHpOov_bLA32"
      },
      "source": [
        "y_train = X_train['target'].values\n",
        "X_train = X_train.drop(['target'], axis=1)\n",
        "\n",
        "y_val = X_val['target'].values\n",
        "X_val = X_val.drop(['target'], axis=1)"
      ],
      "execution_count": null,
      "outputs": []
    },
    {
      "cell_type": "code",
      "metadata": {
        "colab": {
          "base_uri": "https://localhost:8080/"
        },
        "id": "K4oKEZh_XwBp",
        "outputId": "219f9c1f-df12-4d38-dbfd-620ed73710c9"
      },
      "source": [
        "clf = DecisionTreeClassifier(random_state=27)\n",
        "clf.fit(X_train, y_train)"
      ],
      "execution_count": null,
      "outputs": [
        {
          "output_type": "execute_result",
          "data": {
            "text/plain": [
              "DecisionTreeClassifier(ccp_alpha=0.0, class_weight=None, criterion='gini',\n",
              "                       max_depth=None, max_features=None, max_leaf_nodes=None,\n",
              "                       min_impurity_decrease=0.0, min_impurity_split=None,\n",
              "                       min_samples_leaf=1, min_samples_split=2,\n",
              "                       min_weight_fraction_leaf=0.0, presort='deprecated',\n",
              "                       random_state=27, splitter='best')"
            ]
          },
          "metadata": {
            "tags": []
          },
          "execution_count": 43
        }
      ]
    },
    {
      "cell_type": "code",
      "metadata": {
        "id": "44eFlIRvc5J5"
      },
      "source": [
        "y_val_pred = clf.predict(X_val)\n",
        "y_val_predProba = clf.predict_proba(X_val)"
      ],
      "execution_count": null,
      "outputs": []
    },
    {
      "cell_type": "code",
      "metadata": {
        "colab": {
          "base_uri": "https://localhost:8080/"
        },
        "id": "JasbmoJrKi05",
        "outputId": "2d2734fd-c597-4dfb-9896-f4bb323664a7"
      },
      "source": [
        "generate_performance_stats(y_val, y_val_pred)"
      ],
      "execution_count": null,
      "outputs": [
        {
          "output_type": "stream",
          "text": [
            "Accuracy: 0.8995994268878396\n",
            "\n",
            "Auc: 0.8315717911112512\n",
            "\n",
            "Confusion Matrix: \n",
            "Predicted      0       1\n",
            "Actual                  \n",
            "0          24999    9367\n",
            "1          10534  153316\n",
            "\n",
            "Classification Report: \n",
            "                  precision    recall  f1-score   support\n",
            "\n",
            "Outro Tratamento       0.70      0.73      0.72     34366\n",
            "   Tratamento 11       0.94      0.94      0.94    163850\n",
            "\n",
            "        accuracy                           0.90    198216\n",
            "       macro avg       0.82      0.83      0.83    198216\n",
            "    weighted avg       0.90      0.90      0.90    198216\n",
            "\n",
            "\n"
          ],
          "name": "stdout"
        }
      ]
    },
    {
      "cell_type": "code",
      "metadata": {
        "colab": {
          "base_uri": "https://localhost:8080/",
          "height": 527
        },
        "id": "GkCbJ9VEwxTa",
        "outputId": "d9803350-d11c-4fa9-e02b-a03d9b86cdab"
      },
      "source": [
        "plt.figure(figsize=(7,7))\n",
        "cm = metrics.confusion_matrix(y_val, y_val_pred)\n",
        "utl.plot_confusion_matrix(cm, ['Outro Tratamento', 'Tratamento 11'], normalize=True)"
      ],
      "execution_count": null,
      "outputs": [
        {
          "output_type": "stream",
          "text": [
            "Normalized confusion matrix\n"
          ],
          "name": "stdout"
        },
        {
          "output_type": "display_data",
          "data": {
            "image/png": "[encoded data removed]",
            "text/plain": [
              "<Figure size 504x504 with 2 Axes>"
            ]
          },
          "metadata": {
            "tags": []
          }
        }
      ]
    },
    {
      "cell_type": "code",
      "metadata": {
        "id": "gfL3GxknrcWq"
      },
      "source": [
        "df_featImport = pd.DataFrame(columns=['feature', 'feat_importance'])"
      ],
      "execution_count": null,
      "outputs": []
    },
    {
      "cell_type": "code",
      "metadata": {
        "colab": {
          "base_uri": "https://localhost:8080/",
          "height": 576
        },
        "id": "lv-W5pyvsgCo",
        "outputId": "786755dd-7c52-46b5-96a9-ffb4a432731b"
      },
      "source": [
        "df_featImport['feature'] = X_val.columns\n",
        "df_featImport['feat_importance'] = clf.feature_importances_\n",
        "df_featImport = df_featImport.sort_values(by='feat_importance', ascending=False)\n",
        "df_featImport"
      ],
      "execution_count": null,
      "outputs": [
        {
          "output_type": "execute_result",
          "data": {
            "text/html": [
              "<div>\n",
              "<style scoped>\n",
              "    .dataframe tbody tr th:only-of-type {\n",
              "        vertical-align: middle;\n",
              "    }\n",
              "\n",
              "    .dataframe tbody tr th {\n",
              "        vertical-align: top;\n",
              "    }\n",
              "\n",
              "    .dataframe thead th {\n",
              "        text-align: right;\n",
              "    }\n",
              "</style>\n",
              "<table border=\"1\" class=\"dataframe\">\n",
              "  <thead>\n",
              "    <tr style=\"text-align: right;\">\n",
              "      <th></th>\n",
              "      <th>feature</th>\n",
              "      <th>feat_importance</th>\n",
              "    </tr>\n",
              "  </thead>\n",
              "  <tbody>\n",
              "    <tr>\n",
              "      <th>8</th>\n",
              "      <td>res_exam</td>\n",
              "      <td>0.570048</td>\n",
              "    </tr>\n",
              "    <tr>\n",
              "      <th>1</th>\n",
              "      <td>id_pacie</td>\n",
              "      <td>0.102356</td>\n",
              "    </tr>\n",
              "    <tr>\n",
              "      <th>7</th>\n",
              "      <td>loc_infe</td>\n",
              "      <td>0.092021</td>\n",
              "    </tr>\n",
              "    <tr>\n",
              "      <th>6</th>\n",
              "      <td>mun_infe</td>\n",
              "      <td>0.068722</td>\n",
              "    </tr>\n",
              "    <tr>\n",
              "      <th>15</th>\n",
              "      <td>niv_esco</td>\n",
              "      <td>0.039347</td>\n",
              "    </tr>\n",
              "    <tr>\n",
              "      <th>9</th>\n",
              "      <td>qtd_cruz</td>\n",
              "      <td>0.035056</td>\n",
              "    </tr>\n",
              "    <tr>\n",
              "      <th>12</th>\n",
              "      <td>gestante</td>\n",
              "      <td>0.022247</td>\n",
              "    </tr>\n",
              "    <tr>\n",
              "      <th>5</th>\n",
              "      <td>cod_ocup</td>\n",
              "      <td>0.021779</td>\n",
              "    </tr>\n",
              "    <tr>\n",
              "      <th>3</th>\n",
              "      <td>raca</td>\n",
              "      <td>0.012938</td>\n",
              "    </tr>\n",
              "    <tr>\n",
              "      <th>2</th>\n",
              "      <td>sexo</td>\n",
              "      <td>0.010842</td>\n",
              "    </tr>\n",
              "    <tr>\n",
              "      <th>0</th>\n",
              "      <td>tipo_lam</td>\n",
              "      <td>0.008790</td>\n",
              "    </tr>\n",
              "    <tr>\n",
              "      <th>10</th>\n",
              "      <td>hemoparasi</td>\n",
              "      <td>0.007595</td>\n",
              "    </tr>\n",
              "    <tr>\n",
              "      <th>16</th>\n",
              "      <td>zona_infe</td>\n",
              "      <td>0.003763</td>\n",
              "    </tr>\n",
              "    <tr>\n",
              "      <th>14</th>\n",
              "      <td>falciparum</td>\n",
              "      <td>0.002303</td>\n",
              "    </tr>\n",
              "    <tr>\n",
              "      <th>13</th>\n",
              "      <td>vivax</td>\n",
              "      <td>0.001134</td>\n",
              "    </tr>\n",
              "    <tr>\n",
              "      <th>11</th>\n",
              "      <td>exame</td>\n",
              "      <td>0.000998</td>\n",
              "    </tr>\n",
              "    <tr>\n",
              "      <th>4</th>\n",
              "      <td>sintomas</td>\n",
              "      <td>0.000062</td>\n",
              "    </tr>\n",
              "  </tbody>\n",
              "</table>\n",
              "</div>"
            ],
            "text/plain": [
              "       feature  feat_importance\n",
              "8     res_exam         0.570048\n",
              "1     id_pacie         0.102356\n",
              "7     loc_infe         0.092021\n",
              "6     mun_infe         0.068722\n",
              "15    niv_esco         0.039347\n",
              "9     qtd_cruz         0.035056\n",
              "12    gestante         0.022247\n",
              "5     cod_ocup         0.021779\n",
              "3         raca         0.012938\n",
              "2         sexo         0.010842\n",
              "0     tipo_lam         0.008790\n",
              "10  hemoparasi         0.007595\n",
              "16   zona_infe         0.003763\n",
              "14  falciparum         0.002303\n",
              "13       vivax         0.001134\n",
              "11       exame         0.000998\n",
              "4     sintomas         0.000062"
            ]
          },
          "metadata": {
            "tags": []
          },
          "execution_count": 48
        }
      ]
    },
    {
      "cell_type": "code",
      "metadata": {
        "colab": {
          "base_uri": "https://localhost:8080/",
          "height": 531
        },
        "id": "8yT2xBgVus2f",
        "outputId": "b278fdab-7834-4253-9345-449a26572f97"
      },
      "source": [
        "plt.figure(figsize=(10, 8))\n",
        "sns.barplot(data=df_featImport, x='feat_importance', y='feature')\n",
        "plt.xticks(rotation=90)\n",
        "plt.xlabel('Importance')\n",
        "plt.ylabel('Feature')\n",
        "plt.title('Feature Importance')\n",
        "plt.show()"
      ],
      "execution_count": null,
      "outputs": [
        {
          "output_type": "display_data",
          "data": {
            "image/png": "[encoded data removed]",
            "text/plain": [
              "<Figure size 720x576 with 1 Axes>"
            ]
          },
          "metadata": {
            "tags": []
          }
        }
      ]
    },
    {
      "cell_type": "markdown",
      "metadata": {
        "id": "c6zvF-RBxxLP"
      },
      "source": [
        "### Aplicar validação cruzada no conjunto de treinamento"
      ]
    },
    {
      "cell_type": "code",
      "metadata": {
        "id": "PoeNQooMtGu1"
      },
      "source": [
        "models = {\n",
        "    'XGBoost': XGBClassifier(),\n",
        "    'Logistic': LogisticRegression(),\n",
        "    'DecisionTree': DecisionTreeClassifier()\n",
        "    #'SVM': SVC(gamma='auto')\n",
        "    #'RF': RandomForestClassifier(n_estimators=100,criterion='gini'),\n",
        "}"
      ],
      "execution_count": null,
      "outputs": []
    },
    {
      "cell_type": "code",
      "metadata": {
        "id": "gwfbGrp6Fh58",
        "colab": {
          "base_uri": "https://localhost:8080/"
        },
        "outputId": "1401d464-e798-49fe-c751-2d817230d7ba"
      },
      "source": [
        "n_folds = 5\n",
        "results_exp1, models_pred_exp1 = utl.perform_cv(df_train, models, n_folds, True)"
      ],
      "execution_count": null,
      "outputs": [
        {
          "output_type": "stream",
          "text": [
            "Model: XGBoost\n",
            "\n",
            "Fold[1]\n",
            "\n",
            "Fold[2]\n",
            "\n",
            "Fold[3]\n",
            "\n",
            "Fold[4]\n",
            "\n",
            "Fold[5]\n",
            "\n",
            "Accuracy: 0.914599225087783\n",
            "\n",
            "Auc: 0.8425311767191789\n",
            "\n",
            "Confusion Matrix: \n",
            "Predicted     0.0     1.0\n",
            "Actual                   \n",
            "0.0        138799   52621\n",
            "1.0         32018  767642\n",
            "\n",
            "Classification Report: \n",
            "                  precision    recall  f1-score   support\n",
            "\n",
            "Outro Tratamento       0.81      0.73      0.77    191420\n",
            "   Tratamento 11       0.94      0.96      0.95    799660\n",
            "\n",
            "        accuracy                           0.91    991080\n",
            "       macro avg       0.87      0.84      0.86    991080\n",
            "    weighted avg       0.91      0.91      0.91    991080\n",
            "\n",
            "\n",
            "########################################################\n",
            "\n",
            "Model: Logistic\n",
            "\n",
            "Fold[1]\n",
            "\n"
          ],
          "name": "stdout"
        },
        {
          "output_type": "stream",
          "text": [
            "[WARNING] /usr/local/lib/python3.7/dist-packages/sklearn/linear_model/_logistic.py:940: ConvergenceWarning: lbfgs failed to converge (status=1):\n",
            "STOP: TOTAL NO. of ITERATIONS REACHED LIMIT.\n",
            "\n",
            "Increase the number of iterations (max_iter) or scale the data as shown in:\n",
            "    https://scikit-learn.org/stable/modules/preprocessing.html\n",
            "Please also refer to the documentation for alternative solver options:\n",
            "    https://scikit-learn.org/stable/modules/linear_model.html#logistic-regression\n",
            "  extra_warning_msg=_LOGISTIC_SOLVER_CONVERGENCE_MSG)\n",
            "\n"
          ],
          "name": "stderr"
        },
        {
          "output_type": "stream",
          "text": [
            "Fold[2]\n",
            "\n",
            "Fold[3]\n",
            "\n",
            "Fold[4]\n",
            "\n"
          ],
          "name": "stdout"
        },
        {
          "output_type": "stream",
          "text": [
            "[WARNING] /usr/local/lib/python3.7/dist-packages/sklearn/linear_model/_logistic.py:940: ConvergenceWarning: lbfgs failed to converge (status=1):\n",
            "STOP: TOTAL NO. of ITERATIONS REACHED LIMIT.\n",
            "\n",
            "Increase the number of iterations (max_iter) or scale the data as shown in:\n",
            "    https://scikit-learn.org/stable/modules/preprocessing.html\n",
            "Please also refer to the documentation for alternative solver options:\n",
            "    https://scikit-learn.org/stable/modules/linear_model.html#logistic-regression\n",
            "  extra_warning_msg=_LOGISTIC_SOLVER_CONVERGENCE_MSG)\n",
            "\n"
          ],
          "name": "stderr"
        },
        {
          "output_type": "stream",
          "text": [
            "Fold[5]\n",
            "\n",
            "Accuracy: 0.8942719053961335\n",
            "\n",
            "Auc: 0.8174748437448628\n",
            "\n",
            "Confusion Matrix: \n",
            "Predicted     0.0     1.0\n",
            "Actual                   \n",
            "0.0        114249   48217\n",
            "1.0         56568  772046\n",
            "\n",
            "Classification Report: \n",
            "                  precision    recall  f1-score   support\n",
            "\n",
            "Outro Tratamento       0.67      0.70      0.69    162466\n",
            "   Tratamento 11       0.94      0.93      0.94    828614\n",
            "\n",
            "        accuracy                           0.89    991080\n",
            "       macro avg       0.81      0.82      0.81    991080\n",
            "    weighted avg       0.90      0.89      0.90    991080\n",
            "\n",
            "\n",
            "########################################################\n",
            "\n",
            "Model: DecisionTree\n",
            "\n",
            "Fold[1]\n",
            "\n",
            "Fold[2]\n",
            "\n",
            "Fold[3]\n",
            "\n",
            "Fold[4]\n",
            "\n",
            "Fold[5]\n",
            "\n",
            "Accuracy: 0.8356671509868023\n",
            "\n",
            "Auc: 0.738299662504905\n",
            "\n",
            "Confusion Matrix: \n",
            "Predicted     0.0     1.0\n",
            "Actual                   \n",
            "0.0        144101  136151\n",
            "1.0         26716  684112\n",
            "\n",
            "Classification Report: \n",
            "                  precision    recall  f1-score   support\n",
            "\n",
            "Outro Tratamento       0.84      0.51      0.64    280252\n",
            "   Tratamento 11       0.83      0.96      0.89    710828\n",
            "\n",
            "        accuracy                           0.84    991080\n",
            "       macro avg       0.84      0.74      0.77    991080\n",
            "    weighted avg       0.84      0.84      0.82    991080\n",
            "\n",
            "\n",
            "########################################################\n",
            "\n"
          ],
          "name": "stdout"
        }
      ]
    },
    {
      "cell_type": "code",
      "metadata": {
        "id": "15tpWbU46TxR",
        "colab": {
          "base_uri": "https://localhost:8080/",
          "height": 524
        },
        "outputId": "e5d5cdef-d59e-4f9c-d51c-3ec9607c46b9"
      },
      "source": [
        "plot_roc_curve(results_exp1, \"roc_curve_balanced_5kfold\")"
      ],
      "execution_count": null,
      "outputs": [
        {
          "output_type": "display_data",
          "data": {
            "image/png": "[encoded data removed]",
            "text/plain": [
              "<Figure size 720x576 with 1 Axes>"
            ]
          },
          "metadata": {
            "tags": []
          }
        }
      ]
    },
    {
      "cell_type": "code",
      "metadata": {
        "id": "NwF19lzc6HSO",
        "colab": {
          "base_uri": "https://localhost:8080/"
        },
        "outputId": "ef044450-c9c6-4f28-b12c-5d5279f27d73"
      },
      "source": [
        "for idx, result in enumerate(results_exp1):\n",
        "  print(idx)\n",
        "  print(result.model_name)\n",
        "  print(len(result.y_pred))\n",
        "len(results_exp1)"
      ],
      "execution_count": null,
      "outputs": [
        {
          "output_type": "stream",
          "text": [
            "0\n",
            "XGBoost\n",
            "991080\n",
            "1\n",
            "Logistic\n",
            "991080\n",
            "2\n",
            "DecisionTree\n",
            "991080\n"
          ],
          "name": "stdout"
        },
        {
          "output_type": "execute_result",
          "data": {
            "text/plain": [
              "3"
            ]
          },
          "metadata": {
            "tags": []
          },
          "execution_count": 53
        }
      ]
    },
    {
      "cell_type": "code",
      "metadata": {
        "id": "vCGo44hc74q8",
        "colab": {
          "base_uri": "https://localhost:8080/"
        },
        "outputId": "d33a06e7-04ef-4f09-d88f-cec06ecfd9c3"
      },
      "source": [
        "print(int(7 / 2))\n",
        "3 % 2"
      ],
      "execution_count": null,
      "outputs": [
        {
          "output_type": "stream",
          "text": [
            "3\n"
          ],
          "name": "stdout"
        },
        {
          "output_type": "execute_result",
          "data": {
            "text/plain": [
              "1"
            ]
          },
          "metadata": {
            "tags": []
          },
          "execution_count": 54
        }
      ]
    },
    {
      "cell_type": "code",
      "metadata": {
        "id": "pZOMei-bR-LG"
      },
      "source": [
        "def plot_confusion_matrix(results, classes=[''],\n",
        "                          normalize=False,\n",
        "                          title='Confusion matrix',\n",
        "                          cmap=plt.cm.Blues):\n",
        "\n",
        "  nRows = (len(results) % 2)\n",
        "  if (len(results) % 2) != 0:\n",
        "    nRows = (len(results) % 2) + 1\n",
        "\n",
        "  fig, axs = plt.subplots(nrows=nRows, ncols=2, sharex=True, sharey=True)\n",
        "  for idx, result in enumerate(results):\n",
        "    print(idx)\n",
        "\n",
        "    \"\"\"\n",
        "    This function prints and plots the confusion matrix.\n",
        "    Normalization can be applied by setting `normalize=True`.\n",
        "    \"\"\"\n",
        "    cm = confusion_matrix(result.y_test, result.y_pred)\n",
        "    if normalize:\n",
        "        cm = cm.astype('float') / cm.sum(axis=1)[:, np.newaxis]\n",
        "        print(\"Normalized confusion matrix\")\n",
        "    else:\n",
        "        print('Confusion matrix, without normalization')\n",
        "\n",
        "    print(cm)\n",
        "\n",
        "    plt.imshow(cm, interpolation='nearest', cmap=cmap)\n",
        "    plt.title(title)\n",
        "    plt.colorbar()\n",
        "    tick_marks = np.arange(len(classes))\n",
        "    plt.xticks(tick_marks, classes, rotation=90)\n",
        "    plt.yticks(tick_marks, classes)\n",
        "\n",
        "    fmt = '.2f' if normalize else 'd'\n",
        "    thresh = cm.max() / 2.\n",
        "    for i, j in itertools.product(range(cm.shape[0]), range(cm.shape[1])):\n",
        "        plt.text(j, i, format(cm[i, j], fmt),\n",
        "                 horizontalalignment=\"center\",\n",
        "                 color=\"white\" if cm[i, j] > thresh else \"black\")\n",
        "\n",
        "  plt.tight_layout()\n",
        "  plt.ylabel('True label')\n",
        "  plt.xlabel('Predicted label')\n",
        ""
      ],
      "execution_count": null,
      "outputs": []
    },
    {
      "cell_type": "code",
      "metadata": {
        "id": "g1QWd8YCFlO_",
        "colab": {
          "base_uri": "https://localhost:8080/",
          "height": 600
        },
        "outputId": "c2223ff9-b1a7-4a09-8570-a576b40c4f38"
      },
      "source": [
        "fig, axs = plt.subplots(nrows=1, ncols=2, sharex=True, sharey=True, figsize=(15,6))\n",
        "\n",
        "classes=['Outro Tratamento', 'Tratamento 11']\n",
        "cm = confusion_matrix(results_exp1[0].y_test, results_exp1[0].y_pred)\n",
        "cm = cm.astype('float') / cm.sum(axis=1)[:, np.newaxis]\n",
        "sns.heatmap(cm, annot=True, annot_kws={\"size\": 16}, cmap=plt.cm.Blues, ax=axs[0]) # font size\n",
        "\n",
        "tick_marks = np.arange(len(classes))\n",
        "plt.xticks(tick_marks, classes, rotation=90)\n",
        "plt.show()"
      ],
      "execution_count": null,
      "outputs": [
        {
          "output_type": "error",
          "ename": "NameError",
          "evalue": "ignored",
          "traceback": [
            "\u001b[0;31m---------------------------------------------------------------------------\u001b[0m",
            "\u001b[0;31mNameError\u001b[0m                                 Traceback (most recent call last)",
            "\u001b[0;32m<ipython-input-56-d6245af1167e>\u001b[0m in \u001b[0;36m<module>\u001b[0;34m()\u001b[0m\n\u001b[1;32m      2\u001b[0m \u001b[0;34m\u001b[0m\u001b[0m\n\u001b[1;32m      3\u001b[0m \u001b[0mclasses\u001b[0m\u001b[0;34m=\u001b[0m\u001b[0;34m[\u001b[0m\u001b[0;34m'Outro Tratamento'\u001b[0m\u001b[0;34m,\u001b[0m \u001b[0;34m'Tratamento 11'\u001b[0m\u001b[0;34m]\u001b[0m\u001b[0;34m\u001b[0m\u001b[0;34m\u001b[0m\u001b[0m\n\u001b[0;32m----> 4\u001b[0;31m \u001b[0mcm\u001b[0m \u001b[0;34m=\u001b[0m \u001b[0mconfusion_matrix\u001b[0m\u001b[0;34m(\u001b[0m\u001b[0mresults_exp1\u001b[0m\u001b[0;34m[\u001b[0m\u001b[0;36m0\u001b[0m\u001b[0;34m]\u001b[0m\u001b[0;34m.\u001b[0m\u001b[0my_test\u001b[0m\u001b[0;34m,\u001b[0m \u001b[0mresults_exp1\u001b[0m\u001b[0;34m[\u001b[0m\u001b[0;36m0\u001b[0m\u001b[0;34m]\u001b[0m\u001b[0;34m.\u001b[0m\u001b[0my_pred\u001b[0m\u001b[0;34m)\u001b[0m\u001b[0;34m\u001b[0m\u001b[0;34m\u001b[0m\u001b[0m\n\u001b[0m\u001b[1;32m      5\u001b[0m \u001b[0mcm\u001b[0m \u001b[0;34m=\u001b[0m \u001b[0mcm\u001b[0m\u001b[0;34m.\u001b[0m\u001b[0mastype\u001b[0m\u001b[0;34m(\u001b[0m\u001b[0;34m'float'\u001b[0m\u001b[0;34m)\u001b[0m \u001b[0;34m/\u001b[0m \u001b[0mcm\u001b[0m\u001b[0;34m.\u001b[0m\u001b[0msum\u001b[0m\u001b[0;34m(\u001b[0m\u001b[0maxis\u001b[0m\u001b[0;34m=\u001b[0m\u001b[0;36m1\u001b[0m\u001b[0;34m)\u001b[0m\u001b[0;34m[\u001b[0m\u001b[0;34m:\u001b[0m\u001b[0;34m,\u001b[0m \u001b[0mnp\u001b[0m\u001b[0;34m.\u001b[0m\u001b[0mnewaxis\u001b[0m\u001b[0;34m]\u001b[0m\u001b[0;34m\u001b[0m\u001b[0;34m\u001b[0m\u001b[0m\n\u001b[1;32m      6\u001b[0m \u001b[0msns\u001b[0m\u001b[0;34m.\u001b[0m\u001b[0mheatmap\u001b[0m\u001b[0;34m(\u001b[0m\u001b[0mcm\u001b[0m\u001b[0;34m,\u001b[0m \u001b[0mannot\u001b[0m\u001b[0;34m=\u001b[0m\u001b[0;32mTrue\u001b[0m\u001b[0;34m,\u001b[0m \u001b[0mannot_kws\u001b[0m\u001b[0;34m=\u001b[0m\u001b[0;34m{\u001b[0m\u001b[0;34m\"size\"\u001b[0m\u001b[0;34m:\u001b[0m \u001b[0;36m16\u001b[0m\u001b[0;34m}\u001b[0m\u001b[0;34m,\u001b[0m \u001b[0mcmap\u001b[0m\u001b[0;34m=\u001b[0m\u001b[0mplt\u001b[0m\u001b[0;34m.\u001b[0m\u001b[0mcm\u001b[0m\u001b[0;34m.\u001b[0m\u001b[0mBlues\u001b[0m\u001b[0;34m,\u001b[0m \u001b[0max\u001b[0m\u001b[0;34m=\u001b[0m\u001b[0maxs\u001b[0m\u001b[0;34m[\u001b[0m\u001b[0;36m0\u001b[0m\u001b[0;34m]\u001b[0m\u001b[0;34m)\u001b[0m \u001b[0;31m# font size\u001b[0m\u001b[0;34m\u001b[0m\u001b[0;34m\u001b[0m\u001b[0m\n",
            "\u001b[0;31mNameError\u001b[0m: name 'confusion_matrix' is not defined"
          ]
        },
        {
          "output_type": "display_data",
          "data": {
            "image/png": "[encoded data removed]",
            "text/plain": [
              "<Figure size 1080x432 with 2 Axes>"
            ]
          },
          "metadata": {
            "tags": []
          }
        }
      ]
    },
    {
      "cell_type": "code",
      "metadata": {
        "id": "RXQ3RXry7BgC"
      },
      "source": [
        "plot_confusion_matrix(results_exp1, classes=['Outro Tratamento', 'Tratamento 11'])"
      ],
      "execution_count": null,
      "outputs": []
    },
    {
      "cell_type": "code",
      "metadata": {
        "id": "entykQluFkoI"
      },
      "source": [],
      "execution_count": null,
      "outputs": []
    },
    {
      "cell_type": "code",
      "metadata": {
        "id": "mGUGacCt8q_O"
      },
      "source": [],
      "execution_count": null,
      "outputs": []
    }
  ]
}