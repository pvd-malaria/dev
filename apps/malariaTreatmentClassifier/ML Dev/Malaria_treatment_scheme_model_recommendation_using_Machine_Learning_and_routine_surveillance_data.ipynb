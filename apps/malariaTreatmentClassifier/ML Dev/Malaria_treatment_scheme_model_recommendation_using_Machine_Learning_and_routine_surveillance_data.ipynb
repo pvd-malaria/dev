{
 "nbformat": 4,
 "nbformat_minor": 0,
 "metadata": {
  "alphastudio": {
   "as_jupyter_image_name": "gcr.io/ts-quantsource/as-jupyter-v6",
   "as_jupyter_image_tag": "89a867672844"
  },
  "colab": {
   "name": "Malaria_treatment_scheme_model_recommendation_using_Machine_Learning_and_routine_surveillance_data.ipynb",
   "provenance": [],
   "collapsed_sections": []
  },
  "kernelspec": {
   "display_name": "Python 3",
   "language": "python",
   "name": "python3"
  },
  "language_info": {
   "codemirror_mode": {
    "name": "ipython",
    "version": 3
   },
   "file_extension": ".py",
   "mimetype": "text/x-python",
   "name": "python",
   "nbconvert_exporter": "python",
   "pygments_lexer": "ipython3",
   "version": "3.8.6"
  },
  "publish_permission": {
   "read": {},
   "write": {
    "user": [
     "jlandesman",
     "gwp"
    ]
   }
  },
  "publish_uri": "tsuri/application/ts/beakerx/jlandesman/Week1ProjectWalkthrough.ipynb",
  "toc": {
   "base_numbering": 1,
   "nav_menu": {},
   "number_sections": false,
   "sideBar": false,
   "skip_h1_title": false,
   "title_cell": "Table of Contents",
   "title_sidebar": "Contents",
   "toc_cell": false,
   "toc_position": {},
   "toc_section_display": false,
   "toc_window_display": false
  }
 },
 "cells": [
  {
   "cell_type": "markdown",
   "metadata": {
    "id": "DSsPVtuPl-fB"
   },
   "source": [
    "# Experiments to Malaria Project\n",
    "\n",
    "#### This notebook describes performed experiments, qualitative analysis and results discussion"
   ]
  },
  {
   "cell_type": "markdown",
   "metadata": {
    "id": "Qnj2R1zxl-fC"
   },
   "source": [
    "<a id='imports'></a>\n",
    "### Imports"
   ]
  },
  {
   "cell_type": "code",
   "metadata": {
    "id": "S2lSmlPYtGO3"
   },
   "source": [
    "! pip install shap lime synapseclient"
   ],
   "execution_count": null,
   "outputs": []
  },
  {
   "cell_type": "code",
   "metadata": {
    "id": "PdMXhsNEl-fD"
   },
   "source": [
    "%matplotlib inline\n",
    "import os\n",
    "import numpy as np\n",
    "import pandas as pd\n",
    "import matplotlib.pyplot as plt\n",
    "import xgboost as xgb\n",
    "import shap\n",
    "import lime\n",
    "import math\n",
    "import seaborn as sns\n",
    "\n",
    "import zipfile as zp\n",
    "import synapseclient as syna\n",
    "from getpass import getpass\n",
    "\n",
    "from lime import lime_tabular\n",
    "\n",
    "from termcolor import colored\n",
    "from datetime import datetime\n",
    "from numpy import interp\n",
    "\n",
    "from sklearn.model_selection import KFold, train_test_split\n",
    "\n",
    "from sklearn import metrics\n",
    "from sklearn.metrics import roc_curve, precision_recall_curve, auc, confusion_matrix\n",
    "from sklearn.metrics import classification_report\n",
    "from sklearn.metrics import accuracy_score, f1_score\n",
    "from sklearn.preprocessing import OneHotEncoder\n",
    "\n",
    "import xgboost as xgb\n",
    "from xgboost import XGBClassifier\n",
    "from sklearn.ensemble import RandomForestClassifier\n",
    "from sklearn.linear_model import LogisticRegression\n",
    "from sklearn.neighbors import KNeighborsClassifier\n",
    "from sklearn.tree import DecisionTreeClassifier\n",
    "from sklearn.svm import SVC\n",
    "\n",
    "import itertools\n",
    "\n",
    "import warnings\n",
    "warnings.simplefilter(action='ignore', category=FutureWarning)"
   ],
   "execution_count": null,
   "outputs": []
  },
  {
   "cell_type": "markdown",
   "metadata": {
    "id": "vGs6H2RKl-fD"
   },
   "source": [
    "<a id='functions_definition'></a>\n",
    "## Functions definition"
   ]
  },
  {
   "cell_type": "code",
   "metadata": {
    "id": "NNQOfqbhl-fD"
   },
   "source": [
    "# Function to plot a histogram that shows the number of NaN values for each column.\n",
    "def plot_hist_nan(df: pd.DataFrame, plot_name):\n",
    "        \n",
    "    nan_df = pd.DataFrame(df.isna().sum().tolist(), df.columns.tolist()).reset_index()\n",
    "    nan_df.columns = ['column_name', 'total_nan']\n",
    "    nan_df['nan_perc'] = 100*round(nan_df['total_nan']/len(df),3)\n",
    "    nan_df = nan_df.sort_values('total_nan', ascending=False)\n",
    "    nan_df = nan_df[nan_df['total_nan'] > 0]\n",
    "    \n",
    "    fig, ax = plt.subplots(figsize=(10,6))\n",
    "    \n",
    "    sns.barplot(x=\"nan_perc\", y=\"column_name\", data=nan_df)\n",
    "    ax.set_ylabel('Columns', fontsize = 10)\n",
    "    ax.set_xlabel('NaN %', fontsize = 10)    \n",
    "    ax.tick_params(length=10, width=2, labelsize=10)\n",
    "    \n",
    "    dst = \"../out/\"\n",
    "    if os.path.isdir(dst) == False:\n",
    "        os.makedirs(dst)\n",
    "    dst = dst + \"/\" + plot_name + \".pdf\"\n",
    "    plt.savefig(dst, bbox_inches = 'tight')\n",
    "    \n",
    "    plt.show()"
   ],
   "execution_count": null,
   "outputs": []
  },
  {
   "cell_type": "code",
   "metadata": {
    "id": "Py571V1Iww6I"
   },
   "source": [
    "def plot_confusion_matrix(cm, classes,\n",
    "                          normalize=False,\n",
    "                          title='Confusion matrix',\n",
    "                          cmap=plt.cm.Blues):\n",
    "    \"\"\"\n",
    "    This function prints and plots the confusion matrix.\n",
    "    Normalization can be applied by setting `normalize=True`.\n",
    "    \"\"\"\n",
    "    if normalize:\n",
    "        cm = cm.astype('float') / cm.sum(axis=1)[:, np.newaxis]\n",
    "        print(\"Normalized confusion matrix\")\n",
    "    else:\n",
    "        print('Confusion matrix, without normalization')\n",
    "\n",
    "    # print(cm)\n",
    "\n",
    "    plt.imshow(cm, interpolation='nearest', cmap=cmap)\n",
    "    plt.title(title)\n",
    "    plt.colorbar()\n",
    "    tick_marks = np.arange(len(classes))\n",
    "    plt.xticks(tick_marks, classes, rotation=90)\n",
    "    plt.yticks(tick_marks, classes)\n",
    "\n",
    "    fmt = '.2f' if normalize else 'd'\n",
    "    thresh = cm.max() / 2.\n",
    "    for i, j in itertools.product(range(cm.shape[0]), range(cm.shape[1])):\n",
    "        plt.text(j, i, format(cm[i, j], fmt),\n",
    "                 horizontalalignment=\"center\",\n",
    "                 color=\"white\" if cm[i, j] > thresh else \"black\")\n",
    "\n",
    "    plt.tight_layout()\n",
    "    plt.ylabel('True label')\n",
    "    plt.xlabel('Predicted label')"
   ],
   "execution_count": null,
   "outputs": []
  },
  {
   "cell_type": "code",
   "metadata": {
    "id": "LyK1rdLR2Qso"
   },
   "source": [
    "def plot_confusion_matrix(results, labels, image_name):\n",
    "        \n",
    "    sns.set(font_scale = 1.5)\n",
    "    plt.figure(figsize=(10,8))\n",
    "    threshold = 0.5\n",
    "    index = 0\n",
    "        \n",
    "    for result in results:\n",
    "                            \n",
    "        cm = confusion_matrix(result.y_pred, result.y_test)\n",
    "        ax = plt.subplot(2, 2, index+1)\n",
    "\n",
    "        sns.set_palette(\"PuBuGn_d\")\n",
    "        \n",
    "        #if index == 0 or index == 2:\n",
    "        #    show_scale = False\n",
    "        #else:\n",
    "        #    show_scale = True\n",
    "            \n",
    "        sum_0 =  cm.sum(axis=1)[0]\n",
    "        sum_1 = cm.sum(axis=1)[1]\n",
    "        \n",
    "        cm_aux = np.zeros((2,2))\n",
    "        cm_aux[0][0] = (cm[1][1] / sum_1)\n",
    "        cm_aux[0][1] = (cm[1][0] / sum_1)\n",
    "        cm_aux[1][0] = (cm[0][1] / sum_0)\n",
    "        cm_aux[1][1] = (cm[0][0] / sum_0)\n",
    "        \n",
    "        sns.heatmap(cm_aux, annot=True, ax = ax, fmt=\".2%\", cmap=\"Blues\", cbar=False)\n",
    "        #sns.heatmap(cm_aux, annot=True, ax = ax, cmap=\"Blues\", cbar=False)\n",
    "        \n",
    "        ax.set_title(result.model_name)\n",
    "        ax.yaxis.set_ticklabels(labels)\n",
    "        ax.xaxis.set_ticklabels(labels)\n",
    "        \n",
    "        if index == 0 or index == 1:\n",
    "            ax.set_xlabel('');\n",
    "        else:\n",
    "            ax.set_xlabel('Predicted labels');\n",
    "            \n",
    "        if index == 1 or index == 3:\n",
    "            ax.set_ylabel(''); \n",
    "        else:\n",
    "            ax.set_ylabel('True labels')\n",
    "            \n",
    "        index = index + 1\n",
    "        \n",
    "    dst = \"../out/\"\n",
    "    if os.path.isdir(dst) == False:\n",
    "        os.makedirs(dst)\n",
    "    dst = dst + image_name + \".pdf\"\n",
    "    plt.savefig(dst, bbox_inches = 'tight')\n",
    "    \n",
    "    plt.subplots_adjust(top = 0.99, bottom=0.01, hspace=0.4, wspace=0.4)\n",
    "    plt.show()\n",
    "    "
   ],
   "execution_count": null,
   "outputs": []
  },
  {
   "cell_type": "code",
   "metadata": {
    "id": "x73DZ1Ox1h2N"
   },
   "source": [
    "def plot_roc_curve(results, file_name):\n",
    "        \n",
    "    plt.figure(figsize=(10,8))\n",
    "    mean_fpr = np.linspace(0, 1, 100)\n",
    "    tprs = []\n",
    "    i = 0\n",
    "    \n",
    "    colors = ['r','b','g']\n",
    "    \n",
    "    for idx,result in enumerate(results):\n",
    "    \n",
    "        plt.plot([0, 1], [0, 1], linestyle='--', lw=2, color='r', alpha=.8)\n",
    "        mean_tpr = np.mean(result.tprs, axis=0)\n",
    "        mean_tpr[-1] = 1.0\n",
    "        std_auc = np.std(result.aucs)\n",
    "        avg_auc = metrics.roc_auc_score(result.y_test, result.y_pred)\n",
    "        \n",
    "        plt.plot(mean_fpr, mean_tpr, color=colors[idx],\n",
    "                 label=result.model_name + ' (AUC = %0.3f $\\pm$ %0.3f)' % (avg_auc, std_auc), lw=2, alpha=0.8)\n",
    "        \n",
    "        std_tpr = np.std(result.tprs, axis=0)\n",
    "        tprs_upper = np.minimum(mean_tpr + std_tpr, 1)\n",
    "        tprs_lower = np.maximum(mean_tpr - std_tpr, 0)\n",
    "        \n",
    "        if i == 0:\n",
    "            plt.fill_between(mean_fpr, tprs_lower, tprs_upper, color=colors[idx], alpha=.2)\n",
    "        else:\n",
    "            plt.fill_between(mean_fpr, tprs_lower, tprs_upper, color=colors[idx], alpha=.2)\n",
    "        i = i + 1\n",
    "    \n",
    "    plt.plot([0, 1], [0, 1], linestyle='--', lw=2, color='black', label='Chance', alpha=.8)\n",
    "    plt.xlim([-0.05, 1.05])\n",
    "    plt.ylim([-0.05, 1.05])\n",
    "    plt.xlabel('1 - Specificity', size=15)\n",
    "    plt.ylabel('Sensitivity', size=15)\n",
    "    plt.legend(loc=\"lower right\", fontsize=14)\n",
    "    plt.title('ROC CURVE')    \n",
    "    \n",
    "    #dst = \"../out/\"\n",
    "    dst = \"./\"\n",
    "    if os.path.isdir(dst) == False:\n",
    "        os.makedirs(dst)\n",
    "    dst = dst + \"/\" + file_name + \".pdf\"\n",
    "    plt.savefig(dst, bbox_inches = 'tight')\n",
    "    \n",
    "    plt.show()"
   ],
   "execution_count": null,
   "outputs": []
  },
  {
   "cell_type": "code",
   "metadata": {
    "id": "Et9GgOdbyKb4"
   },
   "source": [
    "def generate_performance_stats(y_test, y_pred): \n",
    "    target_names = ['Outro Tratamento', 'Tratamento 11'] \n",
    "    cm = confusion_matrix(y_test, y_pred)\n",
    "    print(\"Accuracy: {}\\n\".format(metrics.accuracy_score(y_test,y_pred)))\n",
    "    print(\"Auc-macro: {}\\n\".format(metrics.roc_auc_score(y_test,y_pred))) \n",
    "    print(\"Auc-weighted: {}\\n\".format(metrics.roc_auc_score(y_test,y_pred, average='weighted')))\n",
    "    #print(\"Log loss: {}\\n\".format(metrics.log_loss(y_test,y_pred)))\n",
    "    print(\"Confusion Matrix: \\n{}\\n\".format(pd.crosstab(y_test, y_pred, rownames=['Actual'], colnames=['Predicted'])))\n",
    "    print(\"Classification Report: \\n{}\\n\".format(classification_report(y_test, y_pred, target_names=target_names)))"
   ],
   "execution_count": null,
   "outputs": []
  },
  {
   "cell_type": "code",
   "metadata": {
    "id": "We8UDH26x5Fs"
   },
   "source": [
    "def create_balanced_dataset(df: pd.DataFrame, percent):\n",
    "    # Class count\n",
    "    count_class_0, count_class_1 = df['target'].value_counts() * percent\n",
    "    count_class_0 = int(count_class_0)\n",
    "    count_class_1 = int(count_class_1)\n",
    "\n",
    "    # Divide by class\n",
    "    df_class_0 = df[df['target'] == 0]\n",
    "    df_class_1 = df[df['target'] == 1]\n",
    "    \n",
    "    df_class_1 = df_class_1.sample(count_class_1, random_state=1)\n",
    "    \n",
    "    df_class_0_under = df_class_0.sample(count_class_1, random_state=1)\n",
    "    df_balanced = pd.concat([df_class_0_under, df_class_1], axis=0)    \n",
    "    \n",
    "    return df_balanced"
   ],
   "execution_count": null,
   "outputs": []
  },
  {
   "cell_type": "code",
   "metadata": {
    "id": "IcD4nkTQyXAz"
   },
   "source": [
    "def evaluate_model(model, X_train: pd.DataFrame, X_test: pd.DataFrame, y_train: pd.DataFrame, y_test: pd.DataFrame):\n",
    "    \"\"\"\n",
    "    Used to evaluate a given model. Just an API wrapper.    \n",
    "    Returns the fitted model along with the predictions generated for the test set\n",
    "    \"\"\"\n",
    "    model.fit(X_train, y_train)\n",
    "    y_preds = model.predict(X_test)\n",
    "    y_preds_proba = model.predict_proba(X_test)\n",
    "    return model, y_preds, y_preds_proba"
   ],
   "execution_count": null,
   "outputs": []
  },
  {
   "cell_type": "code",
   "metadata": {
    "id": "M9TnufpgyABs"
   },
   "source": [
    "def perform_cv(df_train, models, n_folds, use_oversampling):\n",
    "        \n",
    "    results = []\n",
    "    mean_fpr = np.linspace(0, 1, 100)\n",
    "    models_predictions = {}\n",
    "\n",
    "    for model_alias in models:\n",
    "    \n",
    "        print(\"Model: {}\\n\".format(model_alias))\n",
    "        y_preds = []\n",
    "        y_probs = []\n",
    "        y_tests = []\n",
    "        tprs = []\n",
    "        aucs = []\n",
    "        thresholds = []\n",
    "        model = models[model_alias]\n",
    "\n",
    "        i = 0\n",
    "        kf = KFold(n_splits=n_folds, random_state=13, shuffle=True)\n",
    "        #model_predicted = []\n",
    "        #model_gt = []\n",
    "    \n",
    "        for index in kf.split(df_train):\n",
    "\n",
    "            print(\"Fold[{}]\\n\".format(i+1))\n",
    "\n",
    "            X_train, X_test = df_train.iloc[index[0]], df_train.iloc[index[1]]\n",
    "            \n",
    "            if use_oversampling:\n",
    "                X_train = create_balanced_dataset(X_train, 1.0)\n",
    "                     \n",
    "            y_train = X_train['target']\n",
    "            X_train = X_train.drop(['target'], axis = 1)\n",
    "                     \n",
    "            y_test = X_test['target']\n",
    "            X_test = X_test.drop(['target'], axis = 1)\n",
    "            \n",
    "            model_fit, y_pred, y_pred_proba = evaluate_model(model, X_train, X_test, y_train, y_test)                   \n",
    "\n",
    "            # Compute ROC curve and area the curve\n",
    "            fpr, tpr, threshold = roc_curve(y_test, y_pred_proba[:,1])\n",
    "            prec, rec, tre = precision_recall_curve(y_test, y_pred_proba[:,1])\n",
    "            \n",
    "            y_preds = np.append(y_preds, y_pred)\n",
    "            y_probs = np.append(y_probs, y_pred_proba[:,1])\n",
    "            y_tests = np.append(y_tests, y_test)        \n",
    "            \n",
    "            tprs.append(interp(mean_fpr, fpr, tpr))\n",
    "            tprs[-1][0] = 0.0\n",
    "            roc_auc = auc(fpr, tpr)\n",
    "            aucs.append(roc_auc)\n",
    "            thresholds.append(threshold)\n",
    "            i = i + 1\n",
    "    \n",
    "        generate_performance_stats(y_preds, y_tests)\n",
    "\n",
    "        result = RESULT(model_alias, y_preds, y_probs, y_tests, tprs, aucs, thresholds)\n",
    "        results.append(result)\n",
    "        models_predictions[model_alias] = (y_preds, y_tests)\n",
    "        print(\"########################################################\\n\")\n",
    "    \n",
    "    return results, models_predictions"
   ],
   "execution_count": null,
   "outputs": []
  },
  {
   "cell_type": "markdown",
   "metadata": {
    "id": "pofeL-lal-fE"
   },
   "source": [
    "<a id='loading_dataset'></a>\n",
    "## Load dataset"
   ]
  },
  {
   "cell_type": "code",
   "metadata": {
    "colab": {
     "base_uri": "https://localhost:8080/"
    },
    "id": "SLH-7kDH4lMk",
    "outputId": "d7e60ac7-ebde-4a32-8eeb-0cd79f64e2cf"
   },
   "source": [
    " # Getting BD from Synapse\n",
    " syn = syna.Synapse() \n",
    " syn.login(input('Sybapse User: '), getpass('Passwd:')) \n",
    " \n",
    " # Obtain a pointer and download the data\n",
    " # sivep_completo.csv.zip - https://www.synapse.org/#!Synapse:syn24225699\n",
    " dataset = syn.get(entity='syn25713874')\n",
    " \n",
    " # Get the path to the local copy of the data file \n",
    " filepath = dataset.path\n",
    "\n",
    " with zp.ZipFile(filepath,\"r\") as zip_ref:\n",
    "    zip_ref.extractall(\"\")\n"
   ],
   "execution_count": null,
   "outputs": [
    {
     "output_type": "stream",
     "name": "stdout",
     "text": [
      "Sybapse User: evertonjsilva\n",
      "Passwd:··········\n",
      "Welcome, Everton Silva!\n",
      "\n"
     ]
    }
   ]
  },
  {
   "cell_type": "markdown",
   "metadata": {
    "id": "D9kcytN-17Z6"
   },
   "source": [
    "Adicionei low_memory=False, por causa do warning de dtype"
   ]
  },
  {
   "cell_type": "code",
   "metadata": {
    "id": "kCCYfqt0l-fE",
    "colab": {
     "base_uri": "https://localhost:8080/"
    },
    "outputId": "d7ff14e1-68b6-47cd-f323-f35be0ad1d16"
   },
   "source": [
    "df_full = pd.read_csv('./dados/sivep_data.csv', sep=';', low_memory=False, encoding=\"ISO-8859-1\")\n",
    "df_full.shape"
   ],
   "execution_count": null,
   "outputs": [
    {
     "output_type": "execute_result",
     "data": {
      "text/plain": [
       "(3737123, 51)"
      ]
     },
     "metadata": {},
     "execution_count": 12
    }
   ]
  },
  {
   "cell_type": "code",
   "metadata": {
    "id": "OByuGsOZl-fF",
    "scrolled": true,
    "colab": {
     "base_uri": "https://localhost:8080/",
     "height": 649
    },
    "outputId": "554260ea-c413-483d-92ea-79b49dcd3d60"
   },
   "source": [
    "df_full.head()"
   ],
   "execution_count": null,
   "outputs": [
    {
     "output_type": "execute_result",
     "data": {
      "text/html": [
       "<div>\n",
       "<style scoped>\n",
       "    .dataframe tbody tr th:only-of-type {\n",
       "        vertical-align: middle;\n",
       "    }\n",
       "\n",
       "    .dataframe tbody tr th {\n",
       "        vertical-align: top;\n",
       "    }\n",
       "\n",
       "    .dataframe thead th {\n",
       "        text-align: right;\n",
       "    }\n",
       "</style>\n",
       "<table border=\"1\" class=\"dataframe\">\n",
       "  <thead>\n",
       "    <tr style=\"text-align: right;\">\n",
       "      <th></th>\n",
       "      <th>ï»¿uid</th>\n",
       "      <th>ano</th>\n",
       "      <th>cod_noti</th>\n",
       "      <th>dt_notif</th>\n",
       "      <th>dt_envlo</th>\n",
       "      <th>dt_digit</th>\n",
       "      <th>sem_noti</th>\n",
       "      <th>tipo_lam</th>\n",
       "      <th>uf_notif</th>\n",
       "      <th>mun_noti</th>\n",
       "      <th>cod_unin</th>\n",
       "      <th>cod_agen</th>\n",
       "      <th>dt_nasci</th>\n",
       "      <th>id_pacie</th>\n",
       "      <th>id_dimea</th>\n",
       "      <th>sexo</th>\n",
       "      <th>raca</th>\n",
       "      <th>pais_res</th>\n",
       "      <th>uf_resid</th>\n",
       "      <th>mun_resi</th>\n",
       "      <th>loc_resi</th>\n",
       "      <th>sintomas</th>\n",
       "      <th>dt_sinto</th>\n",
       "      <th>cod_ocup</th>\n",
       "      <th>uf_infec</th>\n",
       "      <th>pais_inf</th>\n",
       "      <th>mun_infe</th>\n",
       "      <th>loc_infe</th>\n",
       "      <th>dt_exame</th>\n",
       "      <th>res_exam</th>\n",
       "      <th>qtd_para</th>\n",
       "      <th>qtd_cruz</th>\n",
       "      <th>dt_trata</th>\n",
       "      <th>esquema</th>\n",
       "      <th>hemoparasi</th>\n",
       "      <th>exame</th>\n",
       "      <th>examinador</th>\n",
       "      <th>id_lvc</th>\n",
       "      <th>gestante</th>\n",
       "      <th>vivax</th>\n",
       "      <th>falciparum</th>\n",
       "      <th>niv_esco</th>\n",
       "      <th>id_pacie_anos</th>\n",
       "      <th>nu_predi_infe</th>\n",
       "      <th>nu_habit_infe</th>\n",
       "      <th>zona_infe</th>\n",
       "      <th>categori_infe</th>\n",
       "      <th>nu_predi_resi</th>\n",
       "      <th>nu_habit_resi</th>\n",
       "      <th>zona_resi</th>\n",
       "      <th>categori_resi</th>\n",
       "    </tr>\n",
       "  </thead>\n",
       "  <tbody>\n",
       "    <tr>\n",
       "      <th>0</th>\n",
       "      <td>1</td>\n",
       "      <td>2007</td>\n",
       "      <td>1</td>\n",
       "      <td>2007-01-02</td>\n",
       "      <td>2011-03-23</td>\n",
       "      <td>2007-01-03</td>\n",
       "      <td>1.0</td>\n",
       "      <td>Detecção Passiva</td>\n",
       "      <td>AC</td>\n",
       "      <td>120042</td>\n",
       "      <td>11</td>\n",
       "      <td>209890.0</td>\n",
       "      <td>NaN</td>\n",
       "      <td>6.0</td>\n",
       "      <td>Anos</td>\n",
       "      <td>Feminino</td>\n",
       "      <td>NaN</td>\n",
       "      <td>BRASIL</td>\n",
       "      <td>Acre</td>\n",
       "      <td>120042.0</td>\n",
       "      <td>53.0</td>\n",
       "      <td>Com</td>\n",
       "      <td>2007-01-01</td>\n",
       "      <td>Doméstica</td>\n",
       "      <td>Acre</td>\n",
       "      <td>BRASIL</td>\n",
       "      <td>120042.0</td>\n",
       "      <td>53.0</td>\n",
       "      <td>2007-01-02</td>\n",
       "      <td>Vivax</td>\n",
       "      <td>NaN</td>\n",
       "      <td>++</td>\n",
       "      <td>2007-07-02</td>\n",
       "      <td>Infecções pelo P. vivax, ou P. ovale com Cloro...</td>\n",
       "      <td>NaN</td>\n",
       "      <td>NaN</td>\n",
       "      <td>NaN</td>\n",
       "      <td>Não LVC</td>\n",
       "      <td>Não se aplica</td>\n",
       "      <td>NaN</td>\n",
       "      <td>NaN</td>\n",
       "      <td>Não se aplica</td>\n",
       "      <td>6</td>\n",
       "      <td>85.0</td>\n",
       "      <td>201.0</td>\n",
       "      <td>Rural</td>\n",
       "      <td>Ramal</td>\n",
       "      <td>85.0</td>\n",
       "      <td>201.0</td>\n",
       "      <td>Rural</td>\n",
       "      <td>Ramal</td>\n",
       "    </tr>\n",
       "    <tr>\n",
       "      <th>1</th>\n",
       "      <td>2</td>\n",
       "      <td>2007</td>\n",
       "      <td>2</td>\n",
       "      <td>2007-01-02</td>\n",
       "      <td>2011-03-23</td>\n",
       "      <td>2007-01-03</td>\n",
       "      <td>1.0</td>\n",
       "      <td>Detecção Passiva</td>\n",
       "      <td>AC</td>\n",
       "      <td>120042</td>\n",
       "      <td>11</td>\n",
       "      <td>209890.0</td>\n",
       "      <td>NaN</td>\n",
       "      <td>2.0</td>\n",
       "      <td>Anos</td>\n",
       "      <td>Masculino</td>\n",
       "      <td>NaN</td>\n",
       "      <td>BRASIL</td>\n",
       "      <td>Acre</td>\n",
       "      <td>120042.0</td>\n",
       "      <td>53.0</td>\n",
       "      <td>Com</td>\n",
       "      <td>2007-01-02</td>\n",
       "      <td>Doméstica</td>\n",
       "      <td>Acre</td>\n",
       "      <td>BRASIL</td>\n",
       "      <td>120042.0</td>\n",
       "      <td>53.0</td>\n",
       "      <td>2007-01-02</td>\n",
       "      <td>Vivax</td>\n",
       "      <td>NaN</td>\n",
       "      <td>&lt; +/2</td>\n",
       "      <td>2007-07-02</td>\n",
       "      <td>Infecções pelo P. vivax, ou P. ovale com Cloro...</td>\n",
       "      <td>NaN</td>\n",
       "      <td>NaN</td>\n",
       "      <td>NaN</td>\n",
       "      <td>Não LVC</td>\n",
       "      <td>Não se aplica</td>\n",
       "      <td>NaN</td>\n",
       "      <td>NaN</td>\n",
       "      <td>Não se aplica</td>\n",
       "      <td>2</td>\n",
       "      <td>85.0</td>\n",
       "      <td>201.0</td>\n",
       "      <td>Rural</td>\n",
       "      <td>Ramal</td>\n",
       "      <td>85.0</td>\n",
       "      <td>201.0</td>\n",
       "      <td>Rural</td>\n",
       "      <td>Ramal</td>\n",
       "    </tr>\n",
       "    <tr>\n",
       "      <th>2</th>\n",
       "      <td>3</td>\n",
       "      <td>2007</td>\n",
       "      <td>14</td>\n",
       "      <td>2007-01-02</td>\n",
       "      <td>2011-03-23</td>\n",
       "      <td>2007-01-03</td>\n",
       "      <td>1.0</td>\n",
       "      <td>Detecção Passiva</td>\n",
       "      <td>AC</td>\n",
       "      <td>120042</td>\n",
       "      <td>11</td>\n",
       "      <td>208614.0</td>\n",
       "      <td>1959-04-30</td>\n",
       "      <td>47.0</td>\n",
       "      <td>Anos</td>\n",
       "      <td>Feminino</td>\n",
       "      <td>NaN</td>\n",
       "      <td>BRASIL</td>\n",
       "      <td>Acre</td>\n",
       "      <td>120042.0</td>\n",
       "      <td>53.0</td>\n",
       "      <td>Com</td>\n",
       "      <td>2007-01-01</td>\n",
       "      <td>Doméstica</td>\n",
       "      <td>Acre</td>\n",
       "      <td>BRASIL</td>\n",
       "      <td>120042.0</td>\n",
       "      <td>53.0</td>\n",
       "      <td>2007-01-02</td>\n",
       "      <td>Vivax</td>\n",
       "      <td>NaN</td>\n",
       "      <td>&lt; +/2</td>\n",
       "      <td>2007-01-02</td>\n",
       "      <td>Infecções pelo P. vivax, ou P. ovale com Cloro...</td>\n",
       "      <td>NaN</td>\n",
       "      <td>NaN</td>\n",
       "      <td>NaN</td>\n",
       "      <td>Não LVC</td>\n",
       "      <td>Não</td>\n",
       "      <td>NaN</td>\n",
       "      <td>NaN</td>\n",
       "      <td>Analfabeto</td>\n",
       "      <td>47</td>\n",
       "      <td>85.0</td>\n",
       "      <td>201.0</td>\n",
       "      <td>Rural</td>\n",
       "      <td>Ramal</td>\n",
       "      <td>85.0</td>\n",
       "      <td>201.0</td>\n",
       "      <td>Rural</td>\n",
       "      <td>Ramal</td>\n",
       "    </tr>\n",
       "    <tr>\n",
       "      <th>3</th>\n",
       "      <td>4</td>\n",
       "      <td>2007</td>\n",
       "      <td>18</td>\n",
       "      <td>2007-01-02</td>\n",
       "      <td>2011-03-23</td>\n",
       "      <td>2007-01-03</td>\n",
       "      <td>1.0</td>\n",
       "      <td>Detecção Passiva</td>\n",
       "      <td>AC</td>\n",
       "      <td>120042</td>\n",
       "      <td>11</td>\n",
       "      <td>208614.0</td>\n",
       "      <td>NaN</td>\n",
       "      <td>15.0</td>\n",
       "      <td>Anos</td>\n",
       "      <td>Feminino</td>\n",
       "      <td>NaN</td>\n",
       "      <td>BRASIL</td>\n",
       "      <td>Acre</td>\n",
       "      <td>120042.0</td>\n",
       "      <td>53.0</td>\n",
       "      <td>Com</td>\n",
       "      <td>2006-12-30</td>\n",
       "      <td>Doméstica</td>\n",
       "      <td>Acre</td>\n",
       "      <td>BRASIL</td>\n",
       "      <td>120042.0</td>\n",
       "      <td>53.0</td>\n",
       "      <td>2007-01-02</td>\n",
       "      <td>Vivax</td>\n",
       "      <td>NaN</td>\n",
       "      <td>+/2</td>\n",
       "      <td>2007-01-02</td>\n",
       "      <td>Infecções pelo P. vivax, ou P. ovale com Cloro...</td>\n",
       "      <td>NaN</td>\n",
       "      <td>NaN</td>\n",
       "      <td>NaN</td>\n",
       "      <td>Não LVC</td>\n",
       "      <td>Não</td>\n",
       "      <td>NaN</td>\n",
       "      <td>NaN</td>\n",
       "      <td>5ª a 8ª série incompleta do EF</td>\n",
       "      <td>15</td>\n",
       "      <td>85.0</td>\n",
       "      <td>201.0</td>\n",
       "      <td>Rural</td>\n",
       "      <td>Ramal</td>\n",
       "      <td>85.0</td>\n",
       "      <td>201.0</td>\n",
       "      <td>Rural</td>\n",
       "      <td>Ramal</td>\n",
       "    </tr>\n",
       "    <tr>\n",
       "      <th>4</th>\n",
       "      <td>5</td>\n",
       "      <td>2007</td>\n",
       "      <td>24</td>\n",
       "      <td>2007-01-02</td>\n",
       "      <td>2011-03-23</td>\n",
       "      <td>2007-01-06</td>\n",
       "      <td>1.0</td>\n",
       "      <td>Detecção Passiva</td>\n",
       "      <td>AC</td>\n",
       "      <td>120042</td>\n",
       "      <td>11</td>\n",
       "      <td>209890.0</td>\n",
       "      <td>1984-12-13</td>\n",
       "      <td>22.0</td>\n",
       "      <td>Anos</td>\n",
       "      <td>Masculino</td>\n",
       "      <td>NaN</td>\n",
       "      <td>BRASIL</td>\n",
       "      <td>Acre</td>\n",
       "      <td>120042.0</td>\n",
       "      <td>53.0</td>\n",
       "      <td>Com</td>\n",
       "      <td>2007-01-02</td>\n",
       "      <td>Agricultura</td>\n",
       "      <td>Acre</td>\n",
       "      <td>BRASIL</td>\n",
       "      <td>120042.0</td>\n",
       "      <td>53.0</td>\n",
       "      <td>2007-01-03</td>\n",
       "      <td>Vivax</td>\n",
       "      <td>NaN</td>\n",
       "      <td>+</td>\n",
       "      <td>2007-01-03</td>\n",
       "      <td>Infecções pelo P. vivax, ou P. ovale com Cloro...</td>\n",
       "      <td>NaN</td>\n",
       "      <td>NaN</td>\n",
       "      <td>NaN</td>\n",
       "      <td>Não LVC</td>\n",
       "      <td>Não se aplica</td>\n",
       "      <td>NaN</td>\n",
       "      <td>NaN</td>\n",
       "      <td>5ª a 8ª série incompleta do EF</td>\n",
       "      <td>22</td>\n",
       "      <td>85.0</td>\n",
       "      <td>201.0</td>\n",
       "      <td>Rural</td>\n",
       "      <td>Ramal</td>\n",
       "      <td>85.0</td>\n",
       "      <td>201.0</td>\n",
       "      <td>Rural</td>\n",
       "      <td>Ramal</td>\n",
       "    </tr>\n",
       "  </tbody>\n",
       "</table>\n",
       "</div>"
      ],
      "text/plain": [
       "   ï»¿uid   ano  cod_noti  ... nu_habit_resi zona_resi categori_resi\n",
       "0       1  2007         1  ...         201.0     Rural         Ramal\n",
       "1       2  2007         2  ...         201.0     Rural         Ramal\n",
       "2       3  2007        14  ...         201.0     Rural         Ramal\n",
       "3       4  2007        18  ...         201.0     Rural         Ramal\n",
       "4       5  2007        24  ...         201.0     Rural         Ramal\n",
       "\n",
       "[5 rows x 51 columns]"
      ]
     },
     "metadata": {},
     "execution_count": 13
    }
   ]
  },
  {
   "cell_type": "markdown",
   "metadata": {
    "id": "hrYdaN5kl-fF"
   },
   "source": [
    "## Data Preprocessing"
   ]
  },
  {
   "cell_type": "code",
   "metadata": {
    "id": "h42uZxSsvnzz"
   },
   "source": [
    "df_prep = df_full.copy()"
   ],
   "execution_count": null,
   "outputs": []
  },
  {
   "cell_type": "code",
   "metadata": {
    "colab": {
     "base_uri": "https://localhost:8080/"
    },
    "id": "seVDpxyml-fG",
    "outputId": "c63318b8-6cf4-4de6-ebfa-219d2aaf4c12"
   },
   "source": [
    "df_prep.columns"
   ],
   "execution_count": null,
   "outputs": [
    {
     "output_type": "execute_result",
     "data": {
      "text/plain": [
       "Index(['ï»¿uid', 'ano', 'cod_noti', 'dt_notif', 'dt_envlo', 'dt_digit',\n",
       "       'sem_noti', 'tipo_lam', 'uf_notif', 'mun_noti', 'cod_unin', 'cod_agen',\n",
       "       'dt_nasci', 'id_pacie', 'id_dimea', 'sexo', 'raca', 'pais_res',\n",
       "       'uf_resid', 'mun_resi', 'loc_resi', 'sintomas', 'dt_sinto', 'cod_ocup',\n",
       "       'uf_infec', 'pais_inf', 'mun_infe', 'loc_infe', 'dt_exame', 'res_exam',\n",
       "       'qtd_para', 'qtd_cruz', 'dt_trata', 'esquema', 'hemoparasi', 'exame',\n",
       "       'examinador', 'id_lvc', 'gestante', 'vivax', 'falciparum', 'niv_esco',\n",
       "       'id_pacie_anos', 'nu_predi_infe', 'nu_habit_infe', 'zona_infe',\n",
       "       'categori_infe', 'nu_predi_resi', 'nu_habit_resi', 'zona_resi',\n",
       "       'categori_resi'],\n",
       "      dtype='object')"
      ]
     },
     "metadata": {},
     "execution_count": 15
    }
   ]
  },
  {
   "cell_type": "markdown",
   "metadata": {
    "id": "nYbplSqUuQkv"
   },
   "source": [
    "**Converter colunas de datas para datetime**"
   ]
  },
  {
   "cell_type": "code",
   "metadata": {
    "colab": {
     "base_uri": "https://localhost:8080/",
     "height": 204
    },
    "id": "hDzUEb-Lk6ej",
    "outputId": "7a99df6d-0c73-454d-993d-e20769735e71"
   },
   "source": [
    "date_cols = ['dt_sinto', 'dt_notif', 'dt_exame', 'dt_trata']\n",
    "df_prep[date_cols] = df_prep[date_cols].apply(pd.to_datetime,  errors='coerce')\n",
    "df_prep[date_cols].head()"
   ],
   "execution_count": null,
   "outputs": [
    {
     "output_type": "execute_result",
     "data": {
      "text/html": [
       "<div>\n",
       "<style scoped>\n",
       "    .dataframe tbody tr th:only-of-type {\n",
       "        vertical-align: middle;\n",
       "    }\n",
       "\n",
       "    .dataframe tbody tr th {\n",
       "        vertical-align: top;\n",
       "    }\n",
       "\n",
       "    .dataframe thead th {\n",
       "        text-align: right;\n",
       "    }\n",
       "</style>\n",
       "<table border=\"1\" class=\"dataframe\">\n",
       "  <thead>\n",
       "    <tr style=\"text-align: right;\">\n",
       "      <th></th>\n",
       "      <th>dt_sinto</th>\n",
       "      <th>dt_notif</th>\n",
       "      <th>dt_exame</th>\n",
       "      <th>dt_trata</th>\n",
       "    </tr>\n",
       "  </thead>\n",
       "  <tbody>\n",
       "    <tr>\n",
       "      <th>0</th>\n",
       "      <td>2007-01-01</td>\n",
       "      <td>2007-01-02</td>\n",
       "      <td>2007-01-02</td>\n",
       "      <td>2007-07-02</td>\n",
       "    </tr>\n",
       "    <tr>\n",
       "      <th>1</th>\n",
       "      <td>2007-01-02</td>\n",
       "      <td>2007-01-02</td>\n",
       "      <td>2007-01-02</td>\n",
       "      <td>2007-07-02</td>\n",
       "    </tr>\n",
       "    <tr>\n",
       "      <th>2</th>\n",
       "      <td>2007-01-01</td>\n",
       "      <td>2007-01-02</td>\n",
       "      <td>2007-01-02</td>\n",
       "      <td>2007-01-02</td>\n",
       "    </tr>\n",
       "    <tr>\n",
       "      <th>3</th>\n",
       "      <td>2006-12-30</td>\n",
       "      <td>2007-01-02</td>\n",
       "      <td>2007-01-02</td>\n",
       "      <td>2007-01-02</td>\n",
       "    </tr>\n",
       "    <tr>\n",
       "      <th>4</th>\n",
       "      <td>2007-01-02</td>\n",
       "      <td>2007-01-02</td>\n",
       "      <td>2007-01-03</td>\n",
       "      <td>2007-01-03</td>\n",
       "    </tr>\n",
       "  </tbody>\n",
       "</table>\n",
       "</div>"
      ],
      "text/plain": [
       "    dt_sinto   dt_notif   dt_exame   dt_trata\n",
       "0 2007-01-01 2007-01-02 2007-01-02 2007-07-02\n",
       "1 2007-01-02 2007-01-02 2007-01-02 2007-07-02\n",
       "2 2007-01-01 2007-01-02 2007-01-02 2007-01-02\n",
       "3 2006-12-30 2007-01-02 2007-01-02 2007-01-02\n",
       "4 2007-01-02 2007-01-02 2007-01-03 2007-01-03"
      ]
     },
     "metadata": {},
     "execution_count": 16
    }
   ]
  },
  {
   "cell_type": "markdown",
   "metadata": {
    "id": "tbgD458JP0ex"
   },
   "source": [
    "**Deixar somente registros a partir de 2011 considerando a data em que o paciente sentiu os primeiros sintomas da malária: dt_sinto**"
   ]
  },
  {
   "cell_type": "code",
   "metadata": {
    "colab": {
     "base_uri": "https://localhost:8080/"
    },
    "id": "mMKUELOev5md",
    "outputId": "a7e0655f-27c8-4ed2-875e-e15af153bad5"
   },
   "source": [
    "df_prep = df_prep[df_prep['dt_sinto'] > pd.to_datetime(\"2010-12-31\")]\n",
    "df_prep.shape"
   ],
   "execution_count": null,
   "outputs": [
    {
     "output_type": "execute_result",
     "data": {
      "text/plain": [
       "(1896254, 51)"
      ]
     },
     "metadata": {},
     "execution_count": 17
    }
   ]
  },
  {
   "cell_type": "code",
   "metadata": {
    "id": "h9WF4IudXJnw"
   },
   "source": [
    "#Drop ununsable features\n",
    "cols_to_drop = ['ï»¿uid', 'ano', 'cod_noti', 'dt_envlo', 'dt_digit', 'sem_noti', 'uf_notif', 'mun_noti', 'cod_unin',\n",
    "                'cod_agen', 'dt_nasci', 'pais_res', 'uf_resid', 'mun_resi', 'loc_resi', 'examinador',\n",
    "                'nu_predi_infe', 'nu_habit_infe', 'nu_predi_resi', 'nu_habit_resi', 'zona_resi', 'categori_resi',\n",
    "                'id_pacie_anos']\n",
    "df_prep = df_prep.drop(columns=cols_to_drop, axis=1)"
   ],
   "execution_count": null,
   "outputs": []
  },
  {
   "cell_type": "code",
   "metadata": {
    "colab": {
     "base_uri": "https://localhost:8080/"
    },
    "id": "q6NYkxE6xSD3",
    "outputId": "e2237147-abff-48fc-f603-16d6a5303a9d"
   },
   "source": [
    "df_prep.columns"
   ],
   "execution_count": null,
   "outputs": [
    {
     "output_type": "execute_result",
     "data": {
      "text/plain": [
       "Index(['dt_notif', 'tipo_lam', 'id_pacie', 'id_dimea', 'sexo', 'raca',\n",
       "       'sintomas', 'dt_sinto', 'cod_ocup', 'uf_infec', 'pais_inf', 'mun_infe',\n",
       "       'loc_infe', 'dt_exame', 'res_exam', 'qtd_para', 'qtd_cruz', 'dt_trata',\n",
       "       'esquema', 'hemoparasi', 'exame', 'id_lvc', 'gestante', 'vivax',\n",
       "       'falciparum', 'niv_esco', 'zona_infe', 'categori_infe'],\n",
       "      dtype='object')"
      ]
     },
     "metadata": {},
     "execution_count": 19
    }
   ]
  },
  {
   "cell_type": "code",
   "metadata": {
    "id": "NNHndGKBl-fG",
    "scrolled": true,
    "colab": {
     "base_uri": "https://localhost:8080/"
    },
    "outputId": "9f65c42b-c3b5-4b7c-82f9-b5262891bd6e"
   },
   "source": [
    "cols = df_prep.columns\n",
    "for col in cols:\n",
    "    print(col, \": \", df_prep[col].dtype)\n",
    "    print(df_prep[col].unique(), \"\\n\")"
   ],
   "execution_count": null,
   "outputs": [
    {
     "output_type": "stream",
     "name": "stdout",
     "text": [
      "dt_notif :  datetime64[ns]\n",
      "['2009-12-30T00:00:00.000000000' '2011-01-31T00:00:00.000000000'\n",
      " '2011-02-17T00:00:00.000000000' ... '2020-06-13T00:00:00.000000000'\n",
      " '2020-06-14T00:00:00.000000000' '2020-06-16T00:00:00.000000000'] \n",
      "\n",
      "tipo_lam :  object\n",
      "['Detecção Ativa' 'LVC (ficha antiga)' 'Detecção Passiva'] \n",
      "\n",
      "id_pacie :  float64\n",
      "[3.100e+01 1.800e+01 2.100e+01 9.000e+00 4.600e+01 2.000e+00 1.200e+01\n",
      " 2.600e+01 6.000e+00 1.900e+01 2.400e+01 3.200e+01 4.700e+01 3.600e+01\n",
      " 8.000e+00 2.900e+01 2.300e+01 1.700e+01 1.000e+01 6.200e+01 1.600e+01\n",
      " 5.700e+01 4.100e+01 2.700e+01 1.500e+01 2.200e+01 1.100e+01 3.700e+01\n",
      " 3.800e+01 2.000e+01 3.000e+01 3.900e+01 4.300e+01 3.500e+01 6.600e+01\n",
      " 4.800e+01 3.300e+01 2.800e+01 6.000e+01 4.000e+00 6.400e+01 5.300e+01\n",
      " 5.000e+01 1.400e+01 3.400e+01 5.600e+01 4.000e+01 7.000e+00 6.100e+01\n",
      " 3.000e+00 5.400e+01 4.900e+01 5.000e+00 7.400e+01 5.500e+01 5.100e+01\n",
      " 1.000e+00 2.500e+01 4.200e+01 5.900e+01 1.300e+01 7.200e+01 6.700e+01\n",
      " 4.500e+01 5.800e+01 6.900e+01 4.380e+02 4.400e+01 7.300e+01 6.300e+01\n",
      " 7.500e+01 5.200e+01 7.000e+01 6.500e+01 7.700e+01 7.100e+01 8.700e+01\n",
      " 8.200e+01 6.800e+01 8.100e+01 7.900e+01 8.400e+01 1.050e+02 7.800e+01\n",
      " 7.600e+01 1.180e+02 9.200e+01 9.300e+01 8.900e+01 8.300e+01 9.700e+01\n",
      " 9.600e+01 8.500e+01 9.100e+01 8.800e+01 3.600e+02 8.000e+01 9.000e+01\n",
      " 8.600e+01 1.320e+02 9.400e+01 9.800e+01 7.580e+02 3.660e+02 1.560e+02\n",
      " 1.010e+02 9.500e+01 1.530e+02 1.004e+03 1.600e+02 1.690e+02 9.900e+01\n",
      " 1.000e+02 1.210e+02 0.000e+00 8.110e+02 1.460e+02 1.020e+02 8.120e+02\n",
      " 9.000e+02 2.580e+02 1.090e+02 8.240e+02 1.230e+02 8.170e+02 1.640e+02\n",
      " 4.620e+02 4.350e+02 1.030e+02 8.200e+02 1.120e+02 1.680e+02 1.590e+02\n",
      " 1.620e+02 1.240e+02 2.800e+02 2.530e+02 1.980e+02 1.780e+02 5.800e+02\n",
      " 1.610e+02 2.010e+02 1.670e+02 1.130e+02 1.110e+02 3.150e+02 1.060e+02\n",
      " 1.790e+02 1.650e+02 4.460e+02 4.360e+02 3.320e+02 3.980e+02 3.120e+02\n",
      " 3.540e+02 3.330e+02 1.150e+02 2.370e+02 1.700e+02 4.730e+02 7.890e+02\n",
      " 5.470e+02 3.780e+02 3.800e+02 1.260e+02 1.340e+02 8.840e+02 1.740e+02\n",
      " 1.100e+02 1.580e+02 1.300e+02 2.380e+02 2.320e+02 2.650e+02 1.040e+02\n",
      " 2.520e+02 6.360e+02 1.290e+02 3.450e+02 1.250e+02 2.770e+02 2.780e+02\n",
      " 3.890e+02 3.240e+02 2.950e+02 1.470e+02 3.090e+02 1.200e+02 3.630e+02\n",
      " 1.920e+02 1.770e+02 2.140e+02 1.160e+02 6.320e+02 1.070e+02 3.360e+02\n",
      " 4.200e+02 1.080e+02] \n",
      "\n",
      "id_dimea :  object\n",
      "['Anos' 'Meses' 'Dias'] \n",
      "\n",
      "sexo :  object\n",
      "['Feminino' 'Masculino' nan] \n",
      "\n",
      "raca :  object\n",
      "[nan 'Parda' 'Preta' 'Indígena' 'Branca' 'Amarela'] \n",
      "\n",
      "sintomas :  object\n",
      "['Com' 'Sem'] \n",
      "\n",
      "dt_sinto :  datetime64[ns]\n",
      "['2020-12-28T00:00:00.000000000' '2011-01-24T00:00:00.000000000'\n",
      " '2011-02-10T00:00:00.000000000' ... '2020-06-12T00:00:00.000000000'\n",
      " '2020-06-14T00:00:00.000000000' '2020-06-06T00:00:00.000000000'] \n",
      "\n",
      "cod_ocup :  object\n",
      "[nan 'Outros' 'Agricultura' 'Ignorado' 'Doméstica' 'Caça/Pesca'\n",
      " 'Exploração Vegetal' 'Viajante' 'Pecuária' 'Garimpagem' 'Turismo'\n",
      " 'Mineração' 'Construção de estradas/barragens'] \n",
      "\n",
      "uf_infec :  object\n",
      "['ParÃ¡' 'Amazonas' 'Acre' 'RondÃ´nia' nan 'Roraima' 'AmapÃ¡'\n",
      " 'Mato Grosso' 'GoiÃ¡s' 'MaranhÃ£o' 'Mato Grosso do Sul' 'SÃ£o Paulo'\n",
      " 'CearÃ¡' 'Santa Catarina' 'Minas Gerais' 'PiauÃ\\xad'\n",
      " 'Rio Grande do Norte' 'Pernambuco' 'ParanÃ¡' 'ParaÃ\\xadba'\n",
      " 'Distrito Federal' 'Tocantins' 'Rio Grande do Sul' 'Bahia'] \n",
      "\n",
      "pais_inf :  object\n",
      "['BRASIL' 'BOLIVIA' 'GUIANA FRANCESA' 'PERU' 'GUIANA' 'COLOMBIA'\n",
      " 'VENEZUELA' 'AFRICA-SUL' 'SURINAME' 'EQUADOR' 'FRANCA' 'SUICA' 'PARAGUAI'\n",
      " 'CONGO' 'PORTUGAL' 'BURUNDI' 'GUINE-EQUAT.' 'ANGOLA' 'NIGERIA'\n",
      " 'PORTO-RICO' 'ROMENIA' 'GANA' 'URUGUAI' 'MOCAMBIQUE' 'ARGENTINA' 'CAYMAN'\n",
      " 'BAHREIN' 'BANGLADESH' 'BERMUDAS' 'HOLANDA' 'OUTROS' 'VIETNA' 'CHILE'\n",
      " 'CANADA' 'GUINE' 'CUBA' 'INDIA' 'CAMAROES' 'COSTA-MARFIM' 'FORMOSA'\n",
      " 'ALEMANHA' 'LIBERIA' 'NOVA CALEDONIA' 'SANTA HELENA' 'PANAMA' 'TANZANIA'] \n",
      "\n",
      "mun_infe :  float64\n",
      "[150548. 130070. 120080. 110020. 120020. 120039. 120045.     nan 120042.\n",
      " 120001. 120038. 120033. 120060. 130240. 110045. 130180. 120040. 120005.\n",
      " 120017. 130002. 130083. 130165. 110012. 110080. 120035. 130270. 120013.\n",
      " 130260. 130350. 130140. 130170. 120050. 120034. 120030. 130340. 150360.\n",
      " 120010. 130150. 110013. 130020. 150140. 110033. 130040. 110143. 120032.\n",
      " 110070. 110002. 130330. 130060. 130320. 130280. 130190. 130356. 110010.\n",
      " 130290. 130080. 130410. 130185. 130120. 130420. 130406. 130008. 130250.\n",
      " 130230. 130390. 130220. 130400. 130100. 130353. 130090. 130063. 130110.\n",
      " 130395. 130430. 130195. 130130. 130370. 130006. 130426. 130255. 140010.\n",
      " 150420. 130210. 130115. 130380. 130030. 130200. 130360. 130310. 110149.\n",
      " 150300. 130300. 130160. 160010. 130014. 150530. 140005. 140030. 140020.\n",
      " 150375. 510840. 150020. 510140. 510325. 510025. 150309. 130068. 150680.\n",
      " 110040. 110037. 140047. 130010. 150040. 520870. 150060. 210055. 150510.\n",
      " 150805. 110011. 130423. 150480. 510080. 510410. 140002. 510517. 150280.\n",
      " 210312. 150095. 500740. 140015. 140045. 355030. 110094. 160030. 150580.\n",
      " 110034. 130440. 160053. 160060. 160021. 160050. 160020. 160070. 160080.\n",
      " 150210. 150050. 160015. 150590. 160027. 150310. 160040. 150070. 150030.\n",
      " 160023. 160005. 150250. 160025. 150180. 150110. 150520. 160055. 150616.\n",
      " 510515. 150450. 150820. 210040. 210845. 210355. 150380. 211003. 210310.\n",
      " 210490. 210467. 210825. 210980. 210927. 210860. 210020. 210680. 210197.\n",
      " 210500. 211130. 231410. 211245. 210260. 211240. 210800. 211400. 421040.\n",
      " 150157. 210317. 210215. 210180. 210087. 150550. 150730. 150810. 210160.\n",
      " 211172. 210870. 210745. 150503. 210840. 210120. 150812. 210990. 210920.\n",
      " 210190. 211030. 210177. 211227. 211140. 210083. 210200. 150565. 420900.\n",
      " 210632. 210510. 211120. 210565. 210780. 210405. 150085. 210290. 150635.\n",
      " 150240. 210650. 210005. 210923. 150195. 150080. 150277. 210232. 210350.\n",
      " 210462. 150830. 210735. 210560. 150442. 210770. 211150. 210237. 314530.\n",
      " 210203. 210100. 210420. 510792. 150370. 211290. 210910. 210450. 150795.\n",
      " 210640. 211153. 150618. 210570. 210110. 211250. 150750. 150506. 210542.\n",
      " 150815. 150715. 210535. 210047. 210930. 150220. 150553. 210710. 210430.\n",
      " 150178. 317020. 210596. 210955. 210315. 210637. 210360. 210880. 210300.\n",
      " 210890. 210095. 221120. 150803. 150275. 150549. 211210. 110147. 520840.\n",
      " 210945. 150345. 211000. 210750. 211176. 520860. 211125. 210660. 210440.\n",
      " 210480. 210080. 210960. 210740. 211190. 211105. 150276. 510787. 210460.\n",
      " 510020. 510718. 510735. 510190. 510340. 510525. 510706. 150034. 510790.\n",
      " 150215. 110009. 150170. 510454. 510850. 510880. 510130. 510615. 510760.\n",
      " 510562. 510629. 510560. 510618. 510170. 510622. 510626. 510642. 510337.\n",
      " 210380. 510795. 510520. 510650. 510719. 510820. 510510. 510285. 240810.\n",
      " 510830. 510805. 510263. 150130. 510675. 240460. 110015. 510250. 110004.\n",
      " 150445. 150780. 150835. 150125. 150285. 150470. 150610. 150120. 150543.\n",
      " 140017. 510320. 150430. 150175. 510370. 150611. 150620. 150619. 150747.\n",
      " 150090. 150295. 150800. 150600. 150690. 150440. 150495. 150840. 150640.\n",
      " 150013. 150307. 150460. 150410. 150400. 150330. 150320. 261070. 150720.\n",
      " 150710. 150293. 150497. 150660. 150405. 150350. 150230. 150490. 210690.\n",
      " 150770. 150760. 150172. 150160. 150540. 150630. 150290. 150010. 150570.\n",
      " 150200. 150790. 150745. 150150. 150670. 150260. 110026. 150190. 150563.\n",
      " 150100. 150700. 150808. 110006. 150145. 150658. 150746. 150613. 150650.\n",
      " 410690. 150796. 510757. 110175. 110170. 110090. 110032. 110008. 110005.\n",
      " 110001. 110150. 110110. 110140. 110060. 510420. 354170. 110160. 110014.\n",
      " 110025. 110018. 110148. 110028. 110030. 110029. 110180. 110092. 530010.\n",
      " 110146. 110100. 110050. 510330. 110155. 110130. 110007. 140028. 140040.\n",
      " 140070. 140023. 140050. 140060. 411180. 230440. 172210. 150304. 170220.\n",
      " 520430. 210530. 120025. 120070. 120043. 510623. 150390. 420845. 150740.\n",
      " 211163. 210975. 211300. 210210. 210820. 210810. 210850. 150655. 210515.\n",
      " 210465. 211102. 211223. 211280. 211107. 210330. 210760. 510050. 510624.\n",
      " 510558. 510455. 241340. 510779. 500330. 210015. 150797. 172120. 171525.\n",
      " 500270. 150500. 170035. 510305. 210370. 171420. 220390. 150340. 500830.\n",
      " 510590. 510335. 150560. 410240. 510300. 170270. 510268. 352230. 520005.\n",
      " 500320. 170255. 510637. 211100. 500230. 520110. 411810. 520140. 500240.\n",
      " 510890. 314180. 314560. 110003. 210409. 210900. 211167. 110120. 210598.\n",
      " 171070. 261160. 172020. 500769. 510621. 231040. 211160. 172080. 510770.\n",
      " 431490. 210043. 510704. 210635. 210170. 412770. 510780. 172090. 210600.\n",
      " 510350. 150475. 211085. 500295. 510267. 210220. 211170. 210520. 410045.\n",
      " 210375. 241025. 170210. 250720. 510060. 510625. 211270. 411610. 251040.\n",
      " 420970. 110145. 261110. 316210. 510490. 211230. 510360. 510310. 510730.\n",
      " 510785. 210620. 353730. 510030. 210547. 211010. 130050. 520890. 211020.\n",
      " 171250. 210400. 171280. 171884. 210140. 510630. 510860. 210320. 510670.\n",
      " 431113. 500797. 211023. 510895. 510452. 170100. 510617. 313030. 410280.\n",
      " 172100. 312870. 510710. 291535. 510788. 510100. 510677. 539912. 171886.\n",
      " 510810. 231380. 510523. 261220. 510270. 410830. 251398. 510794. 510628.\n",
      " 510800. 510279. 351880. 510180. 510550. 314710.] \n",
      "\n",
      "loc_infe :  float64\n",
      "[ 232.   nan   33. ... 1073. 3000. 6000.] \n",
      "\n",
      "dt_exame :  datetime64[ns]\n",
      "['2009-12-30T00:00:00.000000000' '2011-01-31T00:00:00.000000000'\n",
      " '2011-02-17T00:00:00.000000000' ... '2020-06-13T00:00:00.000000000'\n",
      " '2020-06-14T00:00:00.000000000' '2020-06-16T00:00:00.000000000'] \n",
      "\n",
      "res_exam :  object\n",
      "['Vivax' 'Falciparum' 'F+V' 'F+Fg' 'V+Fg' 'Fg' 'Não Falciparum' 'Malariae'\n",
      " 'F+M' 'Ovale'] \n",
      "\n",
      "qtd_para :  float64\n",
      "[1500.  500.  250. ...  439. 8783. 1006.] \n",
      "\n",
      "qtd_cruz :  object\n",
      "['++' '+' '+/2' '+++' '< +/2' '++++' nan] \n",
      "\n",
      "dt_trata :  datetime64[ns]\n",
      "['2009-12-30T00:00:00.000000000' '2011-01-31T00:00:00.000000000'\n",
      " '2011-02-17T00:00:00.000000000' ... '2020-09-17T00:00:00.000000000'\n",
      " '2020-12-03T00:00:00.000000000' '2021-01-14T00:00:00.000000000'] \n",
      "\n",
      "esquema :  object\n",
      "['Infecções pelo P. vivax, ou P. ovale com Cloroquina em 3 dias e Primaquina em 7 dias'\n",
      " 'Infecções por P. falciparum com Quinina em 3 dias e Doxiciclina em 5 dias e Primaquina no sexto dia'\n",
      " 'Infecções pelo P. vivax, ou P. ovale com Cloroquina em 3 dias e Primaquina em 14 dias (esquema longo)'\n",
      " 'Outro Esquema utilizado'\n",
      " 'Infecções por P. falciparum com a combinação fixa de artesunato+mefloquina em 3 dias'\n",
      " nan\n",
      " 'Infecções pelo P. malariae para todas as idades e por P. vivax ou P. ovale em gestantes e crianças com menos de 6 meses, com cloroquina em 3 dias'\n",
      " 'Infecções por Pf com Quinina em 7 dias'\n",
      " 'Infecções mistas por Pv + Pf com Mefloquina em dose única e primaquina em 7 dias'\n",
      " 'Infecções por Pf com Mefloquina em dose única e primaquina no segundo dia'\n",
      " 'Prevenção das recaídas frequentes por P. vivax ou P. ovale com Cloroquina semanal em 12 semanas'\n",
      " 'Malária grave e complicada pelo P. falciparum em todas as faixas etárias'\n",
      " 'Infecções por P. falciparum com a combinação fixa de artemeter+lumefantrina em 3 dias'\n",
      " 'Infecções mistas por Pv + Pf com Quinina em 3 dias, doxiciclina em 5 dias e Primaquina em 7 dias'\n",
      " 'Infecções mistas por P. falciparum e P. vivax ou P. ovale com Artemeter + Lumefantrina ou Artesunato + Mefloquina em 3 dias e Primaquina em 7 dias'\n",
      " 'Infecções por Pv em crianças apresentando vômitos, com cápsulas retais de artesunato em 4 dias e Primaquina em 7 dias'\n",
      " 'Infecções por Pf de crianças com cápsulas retais de artesunato em 4 dias e dose única de Mefloquina no 3º dia e Primaquina no 5º ida'\n",
      " 'Infecções não complicadas por P. falciparum no primeiro trimestre de gestação e crianças com menos de 6 meses , com Quinina 3 dias e Clincamicina em 5 dias'\n",
      " 'Infecções por P. falciparum com a combinação fixa de Artemeter + Lumefantrina em 3 dias e primaquina em dose única'\n",
      " 'Infecções por P. falciparum com a combinação fixa de Artesunato + Mefloquina em 3 dias e primaquina em dose única'\n",
      " 'Tratamento de Recaída pelo P. vivax com Artemeter + Lumefantrina por 3 dias e Primaquina em 14 dias dose dobrada'\n",
      " 'Esquema de tratamento inadequado'\n",
      " 'Infecção por P. Vivax em gestante com Cloroquina por 3 dias e Cloroquina profilática semanal até o primeiro mês de aleitamento'\n",
      " 'Prevenção das recaídas por P. vivax ou P. ovale com Cloroquina semanal'\n",
      " 'Infecções mistas por P. falciparum e P. vivax ou P. ovale com Artemeter + Lumefantrina em 3 dias e Primaquina semanal'\n",
      " 'Infecções pelo P. malariae para todas as idades e por P. vivax ou P. ovale em gestantes, com Cloroquina em 3 dias'\n",
      " 'Infecções pelo P. vivax ou P. ovale em crianças de 6 a 11m ou infecções mistas por P. falciparum e P. vivax ou P. ovale em maiores de 6m, com Artemeter + Lumefantrina 3 dias e primaquina em 7 dias'\n",
      " 'Infecções por P. falciparum, P. vivax ou P. ovale ou mistas em gestantes ou crianças menores de 6m com a combinação de Artemeter + Lumefantrina em 3 dias, inclusive recaídas em crianças menores de 6m'\n",
      " 'Infecções pelo P. vivax, ou P. ovale com Cloroquina em 3 dias e primaquina semanal'\n",
      " 'Infecções mistas por P. falciparum e P. vivax ou P. ovale com Artesunato + Mefloquina em 3 dias e Primaquina semanal'\n",
      " 'Malária Grave e complicada pelo P. vivax com Artesunato injetável e Primaquina em 14 dias'\n",
      " 'Tratamento de Recaída pelo P. vivax com Artesunato + mefloquina por 3 dias e Primaquina em 14 dias dose dobrada'\n",
      " 'Infecções por P. falciparum, P. vivax ou P. ovale ou mistas em gestantes ou crianças menores de 6m com a combinação de Artesunato + Mefloquina em 3 dias, inclusive recaídas em crianças menores de 6m'\n",
      " 'Infecções pelo P. vivax ou P. ovale em crianças de 6 a 11m ou infecções mistas por P. falciparum e P. vivax ou P. ovale em maiores de 6m, com Artesunato + Mefloquina 3 dias e primaquina em 7 dias'\n",
      " 'Infecções pelo P. vivax, ou P. ovale com Cloroquina em 3 dias e Tafenoquina'\n",
      " 'Malária grave e complicada para todas faixas etárias'\n",
      " 'Malária Grave e complicada pelo P. falciparum com Artesunato injetável e Primaquina em  dose única'] \n",
      "\n",
      "hemoparasi :  object\n",
      "[nan 'Negativo' 'Não pesquisados' 'Trypanosoma sp.' 'Microfilária'\n",
      " 'Trypanosoma sp..+ Microfilária'] \n",
      "\n",
      "exame :  object\n",
      "[nan 'Gota espessa' 'Teste rápido'] \n",
      "\n",
      "id_lvc :  object\n",
      "['Não LVC' 'LVC'] \n",
      "\n",
      "gestante :  object\n",
      "['Não' 'Não se aplica' 'Idade gestacional ignorada' '2º Trimestre' nan\n",
      " '3º Trimestre' '1º Trimestre'] \n",
      "\n",
      "vivax :  object\n",
      "[nan 'Não tratado p/ vivax < 60 dias' 'Tratado p/ vivax < 60 dias'] \n",
      "\n",
      "falciparum :  object\n",
      "[nan 'Não tratado p/ falciparum < 40 dias'\n",
      " 'Tratado p/ falciparum < 40 dias'] \n",
      "\n",
      "niv_esco :  object\n",
      "['1ª a 4ª série incompleta do EF' '5ª a 8ª série incompleta do EF' nan\n",
      " 'Analfabeto' 'Não se aplica' 'Ensino fundamental completo'\n",
      " 'Educação superior incompleto' 'Ensino médio incompleto'\n",
      " 'Ensino médio completo' '4ª série completa do EF'\n",
      " 'Educação superior completa'] \n",
      "\n",
      "zona_infe :  object\n",
      "['Rural' nan 'Urbana'] \n",
      "\n",
      "categori_infe :  object\n",
      "['Sitio' nan 'Seringal' 'Ramal' 'Projeto' 'Projeto assentamento dirigido'\n",
      " 'Vila' 'Colonia' 'Aldeia' 'Bairro' 'Garimpo' 'Povoado' 'Gleba' 'Fazenda'\n",
      " 'Conjunto habitacional' 'Estrada' 'Cidade/sede municipal' 'Linha'\n",
      " 'Acampamento' 'Aeroporto' 'Porto' 'Casa isolada' 'Area de abrangencia'\n",
      " 'Cemiterio' 'Lagoa' 'Ilha' 'Bloco de apartamento' 'Morro' 'Usina'\n",
      " 'Clubes' 'Quarteirao' 'Nucleo' 'Serraria' 'Rodoviaria/ferroviaria'\n",
      " 'Baixao' 'Quadra' 'Engenho' 'Praca/parque' 'Grota' 'Estadios/ginasios'] \n",
      "\n"
     ]
    }
   ]
  },
  {
   "cell_type": "markdown",
   "metadata": {
    "id": "D1JsNbGy0mvi"
   },
   "source": [
    "**Remover registros onde id_lvc é LVC**"
   ]
  },
  {
   "cell_type": "code",
   "metadata": {
    "id": "_MFaF2Ha0wJI"
   },
   "source": [
    "df_prep = df_prep[df_prep['id_lvc'] != 'LVC']"
   ],
   "execution_count": null,
   "outputs": []
  },
  {
   "cell_type": "code",
   "metadata": {
    "id": "gDj5p-A60lyV",
    "colab": {
     "base_uri": "https://localhost:8080/"
    },
    "outputId": "f9ede51f-3620-4053-feaa-fba84e33c9a5"
   },
   "source": [
    "df_prep.shape"
   ],
   "execution_count": null,
   "outputs": [
    {
     "output_type": "execute_result",
     "data": {
      "text/plain": [
       "(1594530, 28)"
      ]
     },
     "metadata": {},
     "execution_count": 22
    }
   ]
  },
  {
   "cell_type": "markdown",
   "metadata": {
    "id": "tMOuE2B8bokF"
   },
   "source": [
    "**Remover registros onde de pacientes com idade inferior a 1 ano**"
   ]
  },
  {
   "cell_type": "code",
   "metadata": {
    "id": "nDO13xQEaVq2"
   },
   "source": [
    "filter = (df_prep['id_dimea'] == \"Anos\") & (df_prep['id_pacie'] >= 1) | (df_prep['id_dimea'] == \"Meses\") & (df_prep['id_pacie'] >= 12) | (df_prep['id_dimea'] == \"Dias\") & (df_prep['id_pacie'] >= 365)\n",
    "df_prep = df_prep.loc[filter]"
   ],
   "execution_count": null,
   "outputs": []
  },
  {
   "cell_type": "code",
   "metadata": {
    "colab": {
     "base_uri": "https://localhost:8080/"
    },
    "id": "xhdguslKdXGS",
    "outputId": "37b8ec3d-d24e-40cc-88b6-cceee77bf8fe"
   },
   "source": [
    "df_prep.shape"
   ],
   "execution_count": null,
   "outputs": [
    {
     "output_type": "execute_result",
     "data": {
      "text/plain": [
       "(1573183, 28)"
      ]
     },
     "metadata": {},
     "execution_count": 24
    }
   ]
  },
  {
   "cell_type": "markdown",
   "metadata": {
    "id": "nloZp2ki1QdK"
   },
   "source": [
    "**Remover coluna id_lvc pois ela agora só possui um único valor**"
   ]
  },
  {
   "cell_type": "code",
   "metadata": {
    "id": "mQNCsKka1PiH",
    "colab": {
     "base_uri": "https://localhost:8080/"
    },
    "outputId": "ca3eb821-9b41-40c5-8586-145ae2935702"
   },
   "source": [
    "df_prep['id_lvc'].unique()"
   ],
   "execution_count": null,
   "outputs": [
    {
     "output_type": "execute_result",
     "data": {
      "text/plain": [
       "array(['Não LVC'], dtype=object)"
      ]
     },
     "metadata": {},
     "execution_count": 25
    }
   ]
  },
  {
   "cell_type": "code",
   "metadata": {
    "id": "xm9Y1bny49Sf"
   },
   "source": [
    "df_prep.drop(columns='id_lvc', axis=1, inplace=True)"
   ],
   "execution_count": null,
   "outputs": []
  },
  {
   "cell_type": "code",
   "metadata": {
    "id": "DCWX80Wa0FA9",
    "colab": {
     "base_uri": "https://localhost:8080/",
     "height": 395
    },
    "outputId": "a4829bd5-3846-4f2a-9dec-5a7de0080736"
   },
   "source": [
    "# Let's see the barplot that shows the number of nan values by column\n",
    "plot_hist_nan(df_prep, 'barplot_nan')"
   ],
   "execution_count": null,
   "outputs": [
    {
     "output_type": "display_data",
     "data": {
      "image/png": "[encoded data removed]",
      "text/plain": [
       "<Figure size 720x432 with 1 Axes>"
      ]
     },
     "metadata": {
      "needs_background": "light"
     }
    }
   ]
  },
  {
   "cell_type": "code",
   "metadata": {
    "id": "uveyhPEx0FKz",
    "colab": {
     "base_uri": "https://localhost:8080/",
     "height": 886
    },
    "outputId": "3c4c5540-d981-4e58-f4b3-758576fae509"
   },
   "source": [
    "nan_df = pd.DataFrame(df_prep.isna().sum().tolist(), df_prep.columns.tolist()).reset_index()\n",
    "nan_df.columns = ['column_name', 'total_nan']\n",
    "nan_df['nan_perc'] = 100*round(nan_df['total_nan']/len(df_prep),3)\n",
    "nan_df = nan_df.sort_values('total_nan', ascending=False)\n",
    "nan_df"
   ],
   "execution_count": null,
   "outputs": [
    {
     "output_type": "execute_result",
     "data": {
      "text/html": [
       "<div>\n",
       "<style scoped>\n",
       "    .dataframe tbody tr th:only-of-type {\n",
       "        vertical-align: middle;\n",
       "    }\n",
       "\n",
       "    .dataframe tbody tr th {\n",
       "        vertical-align: top;\n",
       "    }\n",
       "\n",
       "    .dataframe thead th {\n",
       "        text-align: right;\n",
       "    }\n",
       "</style>\n",
       "<table border=\"1\" class=\"dataframe\">\n",
       "  <thead>\n",
       "    <tr style=\"text-align: right;\">\n",
       "      <th></th>\n",
       "      <th>column_name</th>\n",
       "      <th>total_nan</th>\n",
       "      <th>nan_perc</th>\n",
       "    </tr>\n",
       "  </thead>\n",
       "  <tbody>\n",
       "    <tr>\n",
       "      <th>15</th>\n",
       "      <td>qtd_para</td>\n",
       "      <td>1117312</td>\n",
       "      <td>71.0</td>\n",
       "    </tr>\n",
       "    <tr>\n",
       "      <th>19</th>\n",
       "      <td>hemoparasi</td>\n",
       "      <td>190929</td>\n",
       "      <td>12.1</td>\n",
       "    </tr>\n",
       "    <tr>\n",
       "      <th>5</th>\n",
       "      <td>raca</td>\n",
       "      <td>175666</td>\n",
       "      <td>11.2</td>\n",
       "    </tr>\n",
       "    <tr>\n",
       "      <th>23</th>\n",
       "      <td>falciparum</td>\n",
       "      <td>175622</td>\n",
       "      <td>11.2</td>\n",
       "    </tr>\n",
       "    <tr>\n",
       "      <th>22</th>\n",
       "      <td>vivax</td>\n",
       "      <td>175622</td>\n",
       "      <td>11.2</td>\n",
       "    </tr>\n",
       "    <tr>\n",
       "      <th>20</th>\n",
       "      <td>exame</td>\n",
       "      <td>175614</td>\n",
       "      <td>11.2</td>\n",
       "    </tr>\n",
       "    <tr>\n",
       "      <th>26</th>\n",
       "      <td>categori_infe</td>\n",
       "      <td>76241</td>\n",
       "      <td>4.8</td>\n",
       "    </tr>\n",
       "    <tr>\n",
       "      <th>8</th>\n",
       "      <td>cod_ocup</td>\n",
       "      <td>75078</td>\n",
       "      <td>4.8</td>\n",
       "    </tr>\n",
       "    <tr>\n",
       "      <th>24</th>\n",
       "      <td>niv_esco</td>\n",
       "      <td>67144</td>\n",
       "      <td>4.3</td>\n",
       "    </tr>\n",
       "    <tr>\n",
       "      <th>25</th>\n",
       "      <td>zona_infe</td>\n",
       "      <td>63927</td>\n",
       "      <td>4.1</td>\n",
       "    </tr>\n",
       "    <tr>\n",
       "      <th>12</th>\n",
       "      <td>loc_infe</td>\n",
       "      <td>63923</td>\n",
       "      <td>4.1</td>\n",
       "    </tr>\n",
       "    <tr>\n",
       "      <th>11</th>\n",
       "      <td>mun_infe</td>\n",
       "      <td>50542</td>\n",
       "      <td>3.2</td>\n",
       "    </tr>\n",
       "    <tr>\n",
       "      <th>9</th>\n",
       "      <td>uf_infec</td>\n",
       "      <td>50540</td>\n",
       "      <td>3.2</td>\n",
       "    </tr>\n",
       "    <tr>\n",
       "      <th>16</th>\n",
       "      <td>qtd_cruz</td>\n",
       "      <td>48271</td>\n",
       "      <td>3.1</td>\n",
       "    </tr>\n",
       "    <tr>\n",
       "      <th>18</th>\n",
       "      <td>esquema</td>\n",
       "      <td>30740</td>\n",
       "      <td>2.0</td>\n",
       "    </tr>\n",
       "    <tr>\n",
       "      <th>17</th>\n",
       "      <td>dt_trata</td>\n",
       "      <td>24809</td>\n",
       "      <td>1.6</td>\n",
       "    </tr>\n",
       "    <tr>\n",
       "      <th>21</th>\n",
       "      <td>gestante</td>\n",
       "      <td>17177</td>\n",
       "      <td>1.1</td>\n",
       "    </tr>\n",
       "    <tr>\n",
       "      <th>4</th>\n",
       "      <td>sexo</td>\n",
       "      <td>30</td>\n",
       "      <td>0.0</td>\n",
       "    </tr>\n",
       "    <tr>\n",
       "      <th>13</th>\n",
       "      <td>dt_exame</td>\n",
       "      <td>7</td>\n",
       "      <td>0.0</td>\n",
       "    </tr>\n",
       "    <tr>\n",
       "      <th>14</th>\n",
       "      <td>res_exam</td>\n",
       "      <td>0</td>\n",
       "      <td>0.0</td>\n",
       "    </tr>\n",
       "    <tr>\n",
       "      <th>1</th>\n",
       "      <td>tipo_lam</td>\n",
       "      <td>0</td>\n",
       "      <td>0.0</td>\n",
       "    </tr>\n",
       "    <tr>\n",
       "      <th>10</th>\n",
       "      <td>pais_inf</td>\n",
       "      <td>0</td>\n",
       "      <td>0.0</td>\n",
       "    </tr>\n",
       "    <tr>\n",
       "      <th>7</th>\n",
       "      <td>dt_sinto</td>\n",
       "      <td>0</td>\n",
       "      <td>0.0</td>\n",
       "    </tr>\n",
       "    <tr>\n",
       "      <th>6</th>\n",
       "      <td>sintomas</td>\n",
       "      <td>0</td>\n",
       "      <td>0.0</td>\n",
       "    </tr>\n",
       "    <tr>\n",
       "      <th>3</th>\n",
       "      <td>id_dimea</td>\n",
       "      <td>0</td>\n",
       "      <td>0.0</td>\n",
       "    </tr>\n",
       "    <tr>\n",
       "      <th>2</th>\n",
       "      <td>id_pacie</td>\n",
       "      <td>0</td>\n",
       "      <td>0.0</td>\n",
       "    </tr>\n",
       "    <tr>\n",
       "      <th>0</th>\n",
       "      <td>dt_notif</td>\n",
       "      <td>0</td>\n",
       "      <td>0.0</td>\n",
       "    </tr>\n",
       "  </tbody>\n",
       "</table>\n",
       "</div>"
      ],
      "text/plain": [
       "      column_name  total_nan  nan_perc\n",
       "15       qtd_para    1117312      71.0\n",
       "19     hemoparasi     190929      12.1\n",
       "5            raca     175666      11.2\n",
       "23     falciparum     175622      11.2\n",
       "22          vivax     175622      11.2\n",
       "20          exame     175614      11.2\n",
       "26  categori_infe      76241       4.8\n",
       "8        cod_ocup      75078       4.8\n",
       "24       niv_esco      67144       4.3\n",
       "25      zona_infe      63927       4.1\n",
       "12       loc_infe      63923       4.1\n",
       "11       mun_infe      50542       3.2\n",
       "9        uf_infec      50540       3.2\n",
       "16       qtd_cruz      48271       3.1\n",
       "18        esquema      30740       2.0\n",
       "17       dt_trata      24809       1.6\n",
       "21       gestante      17177       1.1\n",
       "4            sexo         30       0.0\n",
       "13       dt_exame          7       0.0\n",
       "14       res_exam          0       0.0\n",
       "1        tipo_lam          0       0.0\n",
       "10       pais_inf          0       0.0\n",
       "7        dt_sinto          0       0.0\n",
       "6        sintomas          0       0.0\n",
       "3        id_dimea          0       0.0\n",
       "2        id_pacie          0       0.0\n",
       "0        dt_notif          0       0.0"
      ]
     },
     "metadata": {},
     "execution_count": 28
    }
   ]
  },
  {
   "cell_type": "markdown",
   "metadata": {
    "id": "2hf4TjI-yhmp"
   },
   "source": [
    "**Remover a coluna qtd_para pois tem mais de 70% de valores faltantes.**"
   ]
  },
  {
   "cell_type": "code",
   "metadata": {
    "id": "xQrnHKd80FSO"
   },
   "source": [
    "df_prep.drop(columns=['qtd_para'], axis=1, inplace=True)"
   ],
   "execution_count": null,
   "outputs": []
  },
  {
   "cell_type": "code",
   "metadata": {
    "id": "azs3Xa6X0FVf",
    "colab": {
     "base_uri": "https://localhost:8080/"
    },
    "outputId": "c097b9e5-4e96-4f27-8e84-df0399376e86"
   },
   "source": [
    "df_prep.columns"
   ],
   "execution_count": null,
   "outputs": [
    {
     "output_type": "execute_result",
     "data": {
      "text/plain": [
       "Index(['dt_notif', 'tipo_lam', 'id_pacie', 'id_dimea', 'sexo', 'raca',\n",
       "       'sintomas', 'dt_sinto', 'cod_ocup', 'uf_infec', 'pais_inf', 'mun_infe',\n",
       "       'loc_infe', 'dt_exame', 'res_exam', 'qtd_cruz', 'dt_trata', 'esquema',\n",
       "       'hemoparasi', 'exame', 'gestante', 'vivax', 'falciparum', 'niv_esco',\n",
       "       'zona_infe', 'categori_infe'],\n",
       "      dtype='object')"
      ]
     },
     "metadata": {},
     "execution_count": 30
    }
   ]
  },
  {
   "cell_type": "code",
   "metadata": {
    "id": "u6gdcvAU0AaV",
    "colab": {
     "base_uri": "https://localhost:8080/"
    },
    "outputId": "a327a9d2-13ac-4f6f-edce-70d8bd1a3307"
   },
   "source": [
    "df_prep.shape"
   ],
   "execution_count": null,
   "outputs": [
    {
     "output_type": "execute_result",
     "data": {
      "text/plain": [
       "(1573183, 26)"
      ]
     },
     "metadata": {},
     "execution_count": 31
    }
   ]
  },
  {
   "cell_type": "markdown",
   "metadata": {
    "id": "3kMWkb-s0iWi"
   },
   "source": [
    "**Deletar registros os quais tenham pelo menos uma coluna com valor faltante**"
   ]
  },
  {
   "cell_type": "code",
   "metadata": {
    "colab": {
     "base_uri": "https://localhost:8080/"
    },
    "id": "xKi3Ws-9zgYn",
    "outputId": "b193459a-974d-4747-8160-6144c218b57d"
   },
   "source": [
    "df_prep.dropna(axis=0, inplace=True)\n",
    "df_prep.shape"
   ],
   "execution_count": null,
   "outputs": [
    {
     "output_type": "execute_result",
     "data": {
      "text/plain": [
       "(1223696, 26)"
      ]
     },
     "metadata": {},
     "execution_count": 32
    }
   ]
  },
  {
   "cell_type": "code",
   "metadata": {
    "colab": {
     "base_uri": "https://localhost:8080/"
    },
    "id": "Gr3EfJ5vzglZ",
    "outputId": "fecc939b-b333-4530-c1dd-d815e267befb"
   },
   "source": [
    "df_prep.isnull().sum()\n",
    "#df_prep = df_prep[df_prep['esquema'].notna()]"
   ],
   "execution_count": null,
   "outputs": [
    {
     "output_type": "execute_result",
     "data": {
      "text/plain": [
       "dt_notif         0\n",
       "tipo_lam         0\n",
       "id_pacie         0\n",
       "id_dimea         0\n",
       "sexo             0\n",
       "raca             0\n",
       "sintomas         0\n",
       "dt_sinto         0\n",
       "cod_ocup         0\n",
       "uf_infec         0\n",
       "pais_inf         0\n",
       "mun_infe         0\n",
       "loc_infe         0\n",
       "dt_exame         0\n",
       "res_exam         0\n",
       "qtd_cruz         0\n",
       "dt_trata         0\n",
       "esquema          0\n",
       "hemoparasi       0\n",
       "exame            0\n",
       "gestante         0\n",
       "vivax            0\n",
       "falciparum       0\n",
       "niv_esco         0\n",
       "zona_infe        0\n",
       "categori_infe    0\n",
       "dtype: int64"
      ]
     },
     "metadata": {},
     "execution_count": 33
    }
   ]
  },
  {
   "cell_type": "code",
   "metadata": {
    "colab": {
     "base_uri": "https://localhost:8080/"
    },
    "id": "-2JMVHxLPr7z",
    "outputId": "23004525-02ee-47e6-bdf5-88626d74c9ed"
   },
   "source": [
    "df_prep.shape"
   ],
   "execution_count": null,
   "outputs": [
    {
     "output_type": "execute_result",
     "data": {
      "text/plain": [
       "(1223696, 26)"
      ]
     },
     "metadata": {},
     "execution_count": 34
    }
   ]
  },
  {
   "cell_type": "markdown",
   "metadata": {
    "id": "choM-jex1qT7"
   },
   "source": [
    "**CHECKPOINT**"
   ]
  },
  {
   "cell_type": "code",
   "metadata": {
    "id": "jPA8WFIG0FY5"
   },
   "source": [
    "df_prep_notnull = df_prep.copy()"
   ],
   "execution_count": null,
   "outputs": []
  },
  {
   "cell_type": "markdown",
   "metadata": {
    "id": "xw-YHfCMNbGv"
   },
   "source": [
    "## Prepare the Dataset"
   ]
  },
  {
   "cell_type": "markdown",
   "metadata": {
    "id": "-67PBu8G4MTV"
   },
   "source": [
    "**Remover colunas de datas e outras relacionadas à localização**\n",
    "\n",
    "Removemos as features relacionadas à localização, pois o modelo deve considerar somente features pertininentes ao paciente."
   ]
  },
  {
   "cell_type": "code",
   "metadata": {
    "id": "0y2tqcBs3QRk"
   },
   "source": [
    "df_prep_notnull.drop(columns=['dt_sinto', 'dt_notif', 'dt_exame', 'dt_trata', \n",
    "                              'uf_infec', 'pais_inf', 'zona_infe', 'categori_infe', \n",
    "                              'mun_infe', 'loc_infe'], axis=1, inplace=True)"
   ],
   "execution_count": null,
   "outputs": []
  },
  {
   "cell_type": "code",
   "metadata": {
    "colab": {
     "base_uri": "https://localhost:8080/"
    },
    "id": "y4mLBt7C3QZG",
    "outputId": "fbe0371c-1b08-4d27-9c79-471511f65828"
   },
   "source": [
    "df_prep_notnull.columns"
   ],
   "execution_count": null,
   "outputs": [
    {
     "output_type": "execute_result",
     "data": {
      "text/plain": [
       "Index(['tipo_lam', 'id_pacie', 'id_dimea', 'sexo', 'raca', 'sintomas',\n",
       "       'cod_ocup', 'res_exam', 'qtd_cruz', 'esquema', 'hemoparasi', 'exame',\n",
       "       'gestante', 'vivax', 'falciparum', 'niv_esco'],\n",
       "      dtype='object')"
      ]
     },
     "metadata": {},
     "execution_count": 37
    }
   ]
  },
  {
   "cell_type": "code",
   "metadata": {
    "id": "VpBpYe5D3COY"
   },
   "source": [
    "# All features are categorical and object type. So we need to convert the object type to numerical type.\n",
    "# In this process the nan values are converted to -1\n",
    "\n",
    "obj_cols = df_prep_notnull.select_dtypes(['object']).columns\n",
    "df_prep_notnull[obj_cols] = df_prep_notnull[obj_cols].astype('category')\n",
    "df_prep_notnull[obj_cols] = df_prep_notnull[obj_cols].apply(lambda x: x.cat.codes)\n",
    "df_prep_notnull[obj_cols] = df_prep_notnull[obj_cols].astype('int64')\n",
    "df_prep_notnull[df_prep_notnull[obj_cols] == -1] = np.nan"
   ],
   "execution_count": null,
   "outputs": []
  },
  {
   "cell_type": "code",
   "metadata": {
    "colab": {
     "base_uri": "https://localhost:8080/"
    },
    "id": "tuXyq8KA3PmG",
    "outputId": "77a0b20f-e098-44ed-b20a-e9acca344150"
   },
   "source": [
    "for col in obj_cols:\n",
    "    print(col, \": \", df_prep_notnull[col].dtype)\n",
    "    print(df_prep_notnull[col].unique(), \"\\n\")"
   ],
   "execution_count": null,
   "outputs": [
    {
     "output_type": "stream",
     "name": "stdout",
     "text": [
      "tipo_lam :  int64\n",
      "[0 1 2] \n",
      "\n",
      "id_dimea :  int64\n",
      "[0 1] \n",
      "\n",
      "sexo :  int64\n",
      "[1 0] \n",
      "\n",
      "raca :  int64\n",
      "[3 4 2 1 0] \n",
      "\n",
      "sintomas :  int64\n",
      "[0 1] \n",
      "\n",
      "cod_ocup :  int64\n",
      "[ 0  8 11  3  9  1 10  4  2  7  5  6] \n",
      "\n",
      "res_exam :  int64\n",
      "[9 3 0 2 8 4 5 1 6 7] \n",
      "\n",
      "qtd_cruz :  int64\n",
      "[0 4 1 5 2 3] \n",
      "\n",
      "esquema :  int64\n",
      "[11 10 18 24 25 14 17  3 23  6  5 16 15  1 26  2  7 27  8 13  4 19  0 22\n",
      " 20 28  9 12 21] \n",
      "\n",
      "hemoparasi :  int64\n",
      "[1 2 3 0 4] \n",
      "\n",
      "exame :  int64\n",
      "[0 1] \n",
      "\n",
      "gestante :  int64\n",
      "[5 4 1 2 0 3] \n",
      "\n",
      "vivax :  int64\n",
      "[0 1] \n",
      "\n",
      "falciparum :  int64\n",
      "[0 1] \n",
      "\n",
      "niv_esco :  int64\n",
      "[6 8 2 0 9 3 7 1 4 5] \n",
      "\n"
     ]
    }
   ]
  },
  {
   "cell_type": "markdown",
   "metadata": {
    "id": "8dAU_yxejNmE"
   },
   "source": [
    "A coluna ESQUEMA será utilizada como feature alvo (target). Essa feature possui 20 valores possíveis, ou seja, teríamos 20 classes. Vamos analisar a distribuição dessas classes através de um gráfico de barras."
   ]
  },
  {
   "cell_type": "code",
   "metadata": {
    "id": "fWF5WDSPcJtn"
   },
   "source": [
    "df_esquema = pd.DataFrame(columns=['esquema'])\n",
    "df_esquema[\"esquema\"] = df_prep[\"esquema\"].unique().copy()\n",
    "df_esquema[\"id_esquema\"] = df_esquema[\"esquema\"].astype('category')\n",
    "cat_columns = df_esquema.select_dtypes(['category']).columns\n",
    "df_esquema[cat_columns] = df_esquema[cat_columns].apply(lambda x: x.cat.codes)"
   ],
   "execution_count": null,
   "outputs": []
  },
  {
   "cell_type": "code",
   "metadata": {
    "colab": {
     "base_uri": "https://localhost:8080/",
     "height": 948
    },
    "id": "d6OctaqFcU-U",
    "outputId": "6c9a18b8-7be4-4480-945a-48f6f83053ff"
   },
   "source": [
    "df_esquema"
   ],
   "execution_count": null,
   "outputs": [
    {
     "output_type": "execute_result",
     "data": {
      "text/html": [
       "<div>\n",
       "<style scoped>\n",
       "    .dataframe tbody tr th:only-of-type {\n",
       "        vertical-align: middle;\n",
       "    }\n",
       "\n",
       "    .dataframe tbody tr th {\n",
       "        vertical-align: top;\n",
       "    }\n",
       "\n",
       "    .dataframe thead th {\n",
       "        text-align: right;\n",
       "    }\n",
       "</style>\n",
       "<table border=\"1\" class=\"dataframe\">\n",
       "  <thead>\n",
       "    <tr style=\"text-align: right;\">\n",
       "      <th></th>\n",
       "      <th>esquema</th>\n",
       "      <th>id_esquema</th>\n",
       "    </tr>\n",
       "  </thead>\n",
       "  <tbody>\n",
       "    <tr>\n",
       "      <th>0</th>\n",
       "      <td>Infecções pelo P. vivax, ou P. ovale com Cloro...</td>\n",
       "      <td>11</td>\n",
       "    </tr>\n",
       "    <tr>\n",
       "      <th>1</th>\n",
       "      <td>Infecções pelo P. vivax, ou P. ovale com Cloro...</td>\n",
       "      <td>10</td>\n",
       "    </tr>\n",
       "    <tr>\n",
       "      <th>2</th>\n",
       "      <td>Infecções por P. falciparum com a combinação f...</td>\n",
       "      <td>18</td>\n",
       "    </tr>\n",
       "    <tr>\n",
       "      <th>3</th>\n",
       "      <td>Outro Esquema utilizado</td>\n",
       "      <td>24</td>\n",
       "    </tr>\n",
       "    <tr>\n",
       "      <th>4</th>\n",
       "      <td>Prevenção das recaídas frequentes por P. vivax...</td>\n",
       "      <td>25</td>\n",
       "    </tr>\n",
       "    <tr>\n",
       "      <th>5</th>\n",
       "      <td>Infecções por P. falciparum com Quinina em 3 d...</td>\n",
       "      <td>14</td>\n",
       "    </tr>\n",
       "    <tr>\n",
       "      <th>6</th>\n",
       "      <td>Infecções por P. falciparum com a combinação f...</td>\n",
       "      <td>17</td>\n",
       "    </tr>\n",
       "    <tr>\n",
       "      <th>7</th>\n",
       "      <td>Infecções mistas por P. falciparum e P. vivax ...</td>\n",
       "      <td>3</td>\n",
       "    </tr>\n",
       "    <tr>\n",
       "      <th>8</th>\n",
       "      <td>Malária grave e complicada pelo P. falciparum ...</td>\n",
       "      <td>23</td>\n",
       "    </tr>\n",
       "    <tr>\n",
       "      <th>9</th>\n",
       "      <td>Infecções pelo P. malariae para todas as idade...</td>\n",
       "      <td>6</td>\n",
       "    </tr>\n",
       "    <tr>\n",
       "      <th>10</th>\n",
       "      <td>Infecções não complicadas por P. falciparum no...</td>\n",
       "      <td>5</td>\n",
       "    </tr>\n",
       "    <tr>\n",
       "      <th>11</th>\n",
       "      <td>Infecções por P. falciparum com a combinação f...</td>\n",
       "      <td>16</td>\n",
       "    </tr>\n",
       "    <tr>\n",
       "      <th>12</th>\n",
       "      <td>Infecções por P. falciparum com a combinação f...</td>\n",
       "      <td>15</td>\n",
       "    </tr>\n",
       "    <tr>\n",
       "      <th>13</th>\n",
       "      <td>Infecção por P. Vivax em gestante com Cloroqui...</td>\n",
       "      <td>1</td>\n",
       "    </tr>\n",
       "    <tr>\n",
       "      <th>14</th>\n",
       "      <td>Prevenção das recaídas por P. vivax ou P. oval...</td>\n",
       "      <td>26</td>\n",
       "    </tr>\n",
       "    <tr>\n",
       "      <th>15</th>\n",
       "      <td>Infecções mistas por P. falciparum e P. vivax ...</td>\n",
       "      <td>2</td>\n",
       "    </tr>\n",
       "    <tr>\n",
       "      <th>16</th>\n",
       "      <td>Infecções pelo P. malariae para todas as idade...</td>\n",
       "      <td>7</td>\n",
       "    </tr>\n",
       "    <tr>\n",
       "      <th>17</th>\n",
       "      <td>Tratamento de Recaída pelo P. vivax com Arteme...</td>\n",
       "      <td>27</td>\n",
       "    </tr>\n",
       "    <tr>\n",
       "      <th>18</th>\n",
       "      <td>Infecções pelo P. vivax ou P. ovale em criança...</td>\n",
       "      <td>8</td>\n",
       "    </tr>\n",
       "    <tr>\n",
       "      <th>19</th>\n",
       "      <td>Infecções pelo P. vivax, ou P. ovale com Cloro...</td>\n",
       "      <td>13</td>\n",
       "    </tr>\n",
       "    <tr>\n",
       "      <th>20</th>\n",
       "      <td>Infecções mistas por P. falciparum e P. vivax ...</td>\n",
       "      <td>4</td>\n",
       "    </tr>\n",
       "    <tr>\n",
       "      <th>21</th>\n",
       "      <td>Infecções por P. falciparum, P. vivax ou P. ov...</td>\n",
       "      <td>19</td>\n",
       "    </tr>\n",
       "    <tr>\n",
       "      <th>22</th>\n",
       "      <td>Esquema de tratamento inadequado</td>\n",
       "      <td>0</td>\n",
       "    </tr>\n",
       "    <tr>\n",
       "      <th>23</th>\n",
       "      <td>Malária Grave e complicada pelo P. vivax com A...</td>\n",
       "      <td>22</td>\n",
       "    </tr>\n",
       "    <tr>\n",
       "      <th>24</th>\n",
       "      <td>Infecções por P. falciparum, P. vivax ou P. ov...</td>\n",
       "      <td>20</td>\n",
       "    </tr>\n",
       "    <tr>\n",
       "      <th>25</th>\n",
       "      <td>Tratamento de Recaída pelo P. vivax com Artesu...</td>\n",
       "      <td>28</td>\n",
       "    </tr>\n",
       "    <tr>\n",
       "      <th>26</th>\n",
       "      <td>Infecções pelo P. vivax ou P. ovale em criança...</td>\n",
       "      <td>9</td>\n",
       "    </tr>\n",
       "    <tr>\n",
       "      <th>27</th>\n",
       "      <td>Infecções pelo P. vivax, ou P. ovale com Cloro...</td>\n",
       "      <td>12</td>\n",
       "    </tr>\n",
       "    <tr>\n",
       "      <th>28</th>\n",
       "      <td>Malária Grave e complicada pelo P. falciparum ...</td>\n",
       "      <td>21</td>\n",
       "    </tr>\n",
       "  </tbody>\n",
       "</table>\n",
       "</div>"
      ],
      "text/plain": [
       "                                              esquema  id_esquema\n",
       "0   Infecções pelo P. vivax, ou P. ovale com Cloro...          11\n",
       "1   Infecções pelo P. vivax, ou P. ovale com Cloro...          10\n",
       "2   Infecções por P. falciparum com a combinação f...          18\n",
       "3                             Outro Esquema utilizado          24\n",
       "4   Prevenção das recaídas frequentes por P. vivax...          25\n",
       "5   Infecções por P. falciparum com Quinina em 3 d...          14\n",
       "6   Infecções por P. falciparum com a combinação f...          17\n",
       "7   Infecções mistas por P. falciparum e P. vivax ...           3\n",
       "8   Malária grave e complicada pelo P. falciparum ...          23\n",
       "9   Infecções pelo P. malariae para todas as idade...           6\n",
       "10  Infecções não complicadas por P. falciparum no...           5\n",
       "11  Infecções por P. falciparum com a combinação f...          16\n",
       "12  Infecções por P. falciparum com a combinação f...          15\n",
       "13  Infecção por P. Vivax em gestante com Cloroqui...           1\n",
       "14  Prevenção das recaídas por P. vivax ou P. oval...          26\n",
       "15  Infecções mistas por P. falciparum e P. vivax ...           2\n",
       "16  Infecções pelo P. malariae para todas as idade...           7\n",
       "17  Tratamento de Recaída pelo P. vivax com Arteme...          27\n",
       "18  Infecções pelo P. vivax ou P. ovale em criança...           8\n",
       "19  Infecções pelo P. vivax, ou P. ovale com Cloro...          13\n",
       "20  Infecções mistas por P. falciparum e P. vivax ...           4\n",
       "21  Infecções por P. falciparum, P. vivax ou P. ov...          19\n",
       "22                   Esquema de tratamento inadequado           0\n",
       "23  Malária Grave e complicada pelo P. vivax com A...          22\n",
       "24  Infecções por P. falciparum, P. vivax ou P. ov...          20\n",
       "25  Tratamento de Recaída pelo P. vivax com Artesu...          28\n",
       "26  Infecções pelo P. vivax ou P. ovale em criança...           9\n",
       "27  Infecções pelo P. vivax, ou P. ovale com Cloro...          12\n",
       "28  Malária Grave e complicada pelo P. falciparum ...          21"
      ]
     },
     "metadata": {},
     "execution_count": 41
    }
   ]
  },
  {
   "cell_type": "code",
   "metadata": {
    "id": "KHP90KZCqcUb"
   },
   "source": [
    "df_esquema.to_csv('./esquemas.csv', index=False, sep=\",\", encoding='utf-8')"
   ],
   "execution_count": null,
   "outputs": []
  },
  {
   "cell_type": "code",
   "metadata": {
    "colab": {
     "base_uri": "https://localhost:8080/",
     "height": 235
    },
    "id": "jWkEVti8jjZ6",
    "outputId": "cce131de-3a01-4644-c81c-fa6f63910da9"
   },
   "source": [
    "df_plot = df_prep_notnull.copy()\n",
    "df_plot['id'] = df_plot.index + 1\n",
    "df_plot = df_plot.groupby('esquema')['id'].count().reset_index()\n",
    "df_plot.columns = ['esquema', 'count']\n",
    "df_plot['freq'] = df_plot['count'] / df_plot['count'].sum()\n",
    "df_plot = df_plot[df_plot['freq'] > 0.01]\n",
    "df_plot['esquema'] = df_plot['esquema'].astype('str')\n",
    "\n",
    "#row_names = {'11': 'Infecções pelo P. vivax, ou P. ovale com Cloroquina em 3 dias e Primaquina em 7 dias',\n",
    "#             '17': 'Infecções por P. falciparum com a combinação fixa de artemeter+lumefantrina em 3 dias',\n",
    "#             '24': 'Outro Esquema utilizado',\n",
    "#             '15': 'Infecções por P. falciparum com a combinação fixa de Artemeter + Lumefantrina em 3 dias e primaquina em dose única',\n",
    "#             '10': 'Infecções pelo P. vivax, ou P. ovale com Cloroquina em 3 dias e Primaquina em 14 dias (esquema longo)'}\n",
    "\n",
    "row_names = {'11': 'Treatment Scheme 11',\n",
    "             '17': 'Treatment Scheme 17',\n",
    "             '24': 'Treatment Scheme 24',\n",
    "             '15': 'Treatment Scheme 15',\n",
    "             '10': 'Treatment Scheme 10'}\n",
    "\n",
    "df_plot.set_index('esquema', inplace=True)\n",
    "df_plot.rename(index=row_names, inplace=True)\n",
    "df_plot = df_plot.sort_values(by='freq', ascending=False)\n",
    "df_plot"
   ],
   "execution_count": null,
   "outputs": [
    {
     "output_type": "execute_result",
     "data": {
      "text/html": [
       "<div>\n",
       "<style scoped>\n",
       "    .dataframe tbody tr th:only-of-type {\n",
       "        vertical-align: middle;\n",
       "    }\n",
       "\n",
       "    .dataframe tbody tr th {\n",
       "        vertical-align: top;\n",
       "    }\n",
       "\n",
       "    .dataframe thead th {\n",
       "        text-align: right;\n",
       "    }\n",
       "</style>\n",
       "<table border=\"1\" class=\"dataframe\">\n",
       "  <thead>\n",
       "    <tr style=\"text-align: right;\">\n",
       "      <th></th>\n",
       "      <th>count</th>\n",
       "      <th>freq</th>\n",
       "    </tr>\n",
       "    <tr>\n",
       "      <th>esquema</th>\n",
       "      <th></th>\n",
       "      <th></th>\n",
       "    </tr>\n",
       "  </thead>\n",
       "  <tbody>\n",
       "    <tr>\n",
       "      <th>Treatment Scheme 11</th>\n",
       "      <td>1012546</td>\n",
       "      <td>0.827449</td>\n",
       "    </tr>\n",
       "    <tr>\n",
       "      <th>Treatment Scheme 17</th>\n",
       "      <td>71739</td>\n",
       "      <td>0.058625</td>\n",
       "    </tr>\n",
       "    <tr>\n",
       "      <th>Treatment Scheme 24</th>\n",
       "      <td>50675</td>\n",
       "      <td>0.041411</td>\n",
       "    </tr>\n",
       "    <tr>\n",
       "      <th>Treatment Scheme 15</th>\n",
       "      <td>36867</td>\n",
       "      <td>0.030128</td>\n",
       "    </tr>\n",
       "    <tr>\n",
       "      <th>Treatment Scheme 10</th>\n",
       "      <td>24847</td>\n",
       "      <td>0.020305</td>\n",
       "    </tr>\n",
       "  </tbody>\n",
       "</table>\n",
       "</div>"
      ],
      "text/plain": [
       "                       count      freq\n",
       "esquema                               \n",
       "Treatment Scheme 11  1012546  0.827449\n",
       "Treatment Scheme 17    71739  0.058625\n",
       "Treatment Scheme 24    50675  0.041411\n",
       "Treatment Scheme 15    36867  0.030128\n",
       "Treatment Scheme 10    24847  0.020305"
      ]
     },
     "metadata": {},
     "execution_count": 43
    }
   ]
  },
  {
   "cell_type": "code",
   "metadata": {
    "colab": {
     "base_uri": "https://localhost:8080/",
     "height": 564
    },
    "id": "npSW06qQkenk",
    "outputId": "ded90cc4-0d87-4501-fe9a-741d431d301c"
   },
   "source": [
    "import textwrap\n",
    "plt.figure(figsize=(12, 8))\n",
    "\n",
    "rc = {'figure.figsize':(10,5),\n",
    "      'axes.facecolor':'white',\n",
    "      'axes.grid' : False,\n",
    "      'grid.color': '.8',\n",
    "      'font.family':'DejaVu Sans',\n",
    "      'font.size' : 20}\n",
    "\n",
    "plt.rcParams.update(rc)\n",
    "\n",
    "#palette=\"pastel\"\n",
    "ax = sns.barplot(data=df_plot, x=\"freq\", y=df_plot.index, edgecolor=\".2\", color='royalblue')\n",
    "ax.set(ylabel='', xlabel='')\n",
    "ax.set_yticklabels([textwrap.fill(e, 40) for e in df_plot.index], size=20)\n",
    "ax.set(xticklabels=[])\n",
    "\n",
    "sns.despine(fig=None, ax=None, top=True, right=True, left=False, bottom=True, offset=None, trim=False)\n",
    "\n",
    "for p in ax.patches:\n",
    "    width = p.get_width()\n",
    "    plt.text(0.07+p.get_width(), p.get_y()+0.5*p.get_height(),\n",
    "             '{:1.2f}%'.format(width*100),\n",
    "             ha='center', va='center')\n",
    "\n",
    "plt.tight_layout()\n",
    "plt.savefig('./treatment_scheme_freq.pdf')\n",
    "plt.show()"
   ],
   "execution_count": null,
   "outputs": [
    {
     "output_type": "display_data",
     "data": {
      "image/png": "[encoded data removed]",
      "text/plain": [
       "<Figure size 864x576 with 1 Axes>"
      ]
     },
     "metadata": {
      "needs_background": "light"
     }
    }
   ]
  },
  {
   "cell_type": "markdown",
   "metadata": {
    "id": "R3MjB2vEmOgT"
   },
   "source": [
    "Podemos ver no gráfico que o esquema de tratamento 11 é o mais utilizado, seguido pelos tratamentos 17, 24, 15 2 e 10;\n",
    "\n",
    "11: Infecções pelo P. vivax, ou P. ovale com Cloroquina em 3 dias e Primaquina em 7 dias\n",
    "\n",
    "17: Infecções por P. falciparum com a combinação fixa de artemeter+lumefantrina em 3 dias\n",
    "\n",
    "24: Outro Esquema utilizado\n",
    "\n",
    "15: Infecções por P. falciparum com a combinação fixa de Artemeter + Lumefantrina em 3 dias e primaquina em dose única\n",
    "\n",
    "10: Infecções pelo P. vivax, ou P. ovale com Cloroquina em 3 dias e Primaquina em 14 dias (esquema longo)"
   ]
  },
  {
   "cell_type": "markdown",
   "metadata": {
    "id": "slcaHjN94qzv"
   },
   "source": [
    "## First Approach\n",
    "Utilizar tratamento 11 contra o resto\n",
    "\n"
   ]
  },
  {
   "cell_type": "code",
   "metadata": {
    "id": "2P3VrBLT5viC"
   },
   "source": [
    "df_prep_fa = df_prep_notnull.copy()"
   ],
   "execution_count": null,
   "outputs": []
  },
  {
   "cell_type": "code",
   "metadata": {
    "id": "tX66YDbppdIm"
   },
   "source": [
    "df_prep_fa['target'] = np.where(df_prep_fa['esquema'] == 11, 1, 0)"
   ],
   "execution_count": null,
   "outputs": []
  },
  {
   "cell_type": "code",
   "metadata": {
    "colab": {
     "base_uri": "https://localhost:8080/",
     "height": 204
    },
    "id": "WZ92AFdW7DAn",
    "outputId": "0abcaeef-42d9-4023-f12f-6f33d567b40e"
   },
   "source": [
    "df_prep_fa.head()"
   ],
   "execution_count": null,
   "outputs": [
    {
     "output_type": "execute_result",
     "data": {
      "text/html": [
       "<div>\n",
       "<style scoped>\n",
       "    .dataframe tbody tr th:only-of-type {\n",
       "        vertical-align: middle;\n",
       "    }\n",
       "\n",
       "    .dataframe tbody tr th {\n",
       "        vertical-align: top;\n",
       "    }\n",
       "\n",
       "    .dataframe thead th {\n",
       "        text-align: right;\n",
       "    }\n",
       "</style>\n",
       "<table border=\"1\" class=\"dataframe\">\n",
       "  <thead>\n",
       "    <tr style=\"text-align: right;\">\n",
       "      <th></th>\n",
       "      <th>tipo_lam</th>\n",
       "      <th>id_pacie</th>\n",
       "      <th>id_dimea</th>\n",
       "      <th>sexo</th>\n",
       "      <th>raca</th>\n",
       "      <th>sintomas</th>\n",
       "      <th>cod_ocup</th>\n",
       "      <th>res_exam</th>\n",
       "      <th>qtd_cruz</th>\n",
       "      <th>esquema</th>\n",
       "      <th>hemoparasi</th>\n",
       "      <th>exame</th>\n",
       "      <th>gestante</th>\n",
       "      <th>vivax</th>\n",
       "      <th>falciparum</th>\n",
       "      <th>niv_esco</th>\n",
       "      <th>target</th>\n",
       "    </tr>\n",
       "  </thead>\n",
       "  <tbody>\n",
       "    <tr>\n",
       "      <th>1721039</th>\n",
       "      <td>0</td>\n",
       "      <td>26.0</td>\n",
       "      <td>0</td>\n",
       "      <td>1</td>\n",
       "      <td>3</td>\n",
       "      <td>0</td>\n",
       "      <td>0</td>\n",
       "      <td>9</td>\n",
       "      <td>0</td>\n",
       "      <td>11</td>\n",
       "      <td>1</td>\n",
       "      <td>0</td>\n",
       "      <td>5</td>\n",
       "      <td>0</td>\n",
       "      <td>0</td>\n",
       "      <td>6</td>\n",
       "      <td>1</td>\n",
       "    </tr>\n",
       "    <tr>\n",
       "      <th>1721045</th>\n",
       "      <td>0</td>\n",
       "      <td>43.0</td>\n",
       "      <td>0</td>\n",
       "      <td>1</td>\n",
       "      <td>3</td>\n",
       "      <td>0</td>\n",
       "      <td>8</td>\n",
       "      <td>9</td>\n",
       "      <td>4</td>\n",
       "      <td>10</td>\n",
       "      <td>2</td>\n",
       "      <td>0</td>\n",
       "      <td>5</td>\n",
       "      <td>0</td>\n",
       "      <td>0</td>\n",
       "      <td>8</td>\n",
       "      <td>0</td>\n",
       "    </tr>\n",
       "    <tr>\n",
       "      <th>1721063</th>\n",
       "      <td>0</td>\n",
       "      <td>28.0</td>\n",
       "      <td>0</td>\n",
       "      <td>1</td>\n",
       "      <td>3</td>\n",
       "      <td>0</td>\n",
       "      <td>8</td>\n",
       "      <td>9</td>\n",
       "      <td>1</td>\n",
       "      <td>11</td>\n",
       "      <td>2</td>\n",
       "      <td>0</td>\n",
       "      <td>5</td>\n",
       "      <td>0</td>\n",
       "      <td>0</td>\n",
       "      <td>2</td>\n",
       "      <td>1</td>\n",
       "    </tr>\n",
       "    <tr>\n",
       "      <th>1721072</th>\n",
       "      <td>0</td>\n",
       "      <td>24.0</td>\n",
       "      <td>0</td>\n",
       "      <td>1</td>\n",
       "      <td>4</td>\n",
       "      <td>0</td>\n",
       "      <td>11</td>\n",
       "      <td>9</td>\n",
       "      <td>1</td>\n",
       "      <td>11</td>\n",
       "      <td>1</td>\n",
       "      <td>0</td>\n",
       "      <td>5</td>\n",
       "      <td>0</td>\n",
       "      <td>0</td>\n",
       "      <td>2</td>\n",
       "      <td>1</td>\n",
       "    </tr>\n",
       "    <tr>\n",
       "      <th>1721086</th>\n",
       "      <td>0</td>\n",
       "      <td>16.0</td>\n",
       "      <td>0</td>\n",
       "      <td>0</td>\n",
       "      <td>3</td>\n",
       "      <td>0</td>\n",
       "      <td>3</td>\n",
       "      <td>9</td>\n",
       "      <td>1</td>\n",
       "      <td>11</td>\n",
       "      <td>2</td>\n",
       "      <td>0</td>\n",
       "      <td>4</td>\n",
       "      <td>0</td>\n",
       "      <td>0</td>\n",
       "      <td>0</td>\n",
       "      <td>1</td>\n",
       "    </tr>\n",
       "  </tbody>\n",
       "</table>\n",
       "</div>"
      ],
      "text/plain": [
       "         tipo_lam  id_pacie  id_dimea  ...  falciparum  niv_esco  target\n",
       "1721039         0      26.0         0  ...           0         6       1\n",
       "1721045         0      43.0         0  ...           0         8       0\n",
       "1721063         0      28.0         0  ...           0         2       1\n",
       "1721072         0      24.0         0  ...           0         2       1\n",
       "1721086         0      16.0         0  ...           0         0       1\n",
       "\n",
       "[5 rows x 17 columns]"
      ]
     },
     "metadata": {},
     "execution_count": 47
    }
   ]
  },
  {
   "cell_type": "code",
   "metadata": {
    "id": "FvnF030f6wsv"
   },
   "source": [
    "## Apagar a coluna esquema\n",
    "df_prep_fa.drop(axis=1, columns=['esquema'], inplace=True)"
   ],
   "execution_count": null,
   "outputs": []
  },
  {
   "cell_type": "code",
   "metadata": {
    "colab": {
     "base_uri": "https://localhost:8080/"
    },
    "id": "EdLuKzcJIt_3",
    "outputId": "7288a9b5-5216-4deb-b3dc-d342c77775c6"
   },
   "source": [
    "df_prep_fa.columns"
   ],
   "execution_count": null,
   "outputs": [
    {
     "output_type": "execute_result",
     "data": {
      "text/plain": [
       "Index(['tipo_lam', 'id_pacie', 'id_dimea', 'sexo', 'raca', 'sintomas',\n",
       "       'cod_ocup', 'res_exam', 'qtd_cruz', 'hemoparasi', 'exame', 'gestante',\n",
       "       'vivax', 'falciparum', 'niv_esco', 'target'],\n",
       "      dtype='object')"
      ]
     },
     "metadata": {},
     "execution_count": 49
    }
   ]
  },
  {
   "cell_type": "code",
   "metadata": {
    "colab": {
     "base_uri": "https://localhost:8080/"
    },
    "id": "RAFPIHSp8-Zk",
    "outputId": "a95ef424-3f68-4897-e28c-ba13a2ff6097"
   },
   "source": [
    "nRows = df_prep_fa.shape[0]\n",
    "df_prep_fa['target'].value_counts()[1] / nRows"
   ],
   "execution_count": null,
   "outputs": [
    {
     "output_type": "execute_result",
     "data": {
      "text/plain": [
       "0.8274489742550437"
      ]
     },
     "metadata": {},
     "execution_count": 50
    }
   ]
  },
  {
   "cell_type": "code",
   "metadata": {
    "colab": {
     "base_uri": "https://localhost:8080/"
    },
    "id": "prffz8Vs994t",
    "outputId": "1f620fb6-0694-47a5-c037-558e362b9ecc"
   },
   "source": [
    "df_prep_fa['target'].value_counts()[0] / nRows"
   ],
   "execution_count": null,
   "outputs": [
    {
     "output_type": "execute_result",
     "data": {
      "text/plain": [
       "0.17255102574495626"
      ]
     },
     "metadata": {},
     "execution_count": 51
    }
   ]
  },
  {
   "cell_type": "code",
   "metadata": {
    "colab": {
     "base_uri": "https://localhost:8080/",
     "height": 142
    },
    "id": "AeYdKH6Dku52",
    "outputId": "2556b1f4-6fa7-4374-954f-4620e79564a1"
   },
   "source": [
    "df_plot = df_prep_fa.copy()\n",
    "df_plot['id'] = df_plot.index + 1\n",
    "df_plot = df_plot.groupby('target')['id'].count().reset_index()\n",
    "df_plot.columns = ['target', 'count']\n",
    "df_plot['freq'] = df_plot['count'] / df_plot['count'].sum()\n",
    "df_plot = df_plot[df_plot['freq'] > 0.01]\n",
    "df_plot['target'] = df_plot['target'].astype('str')\n",
    "\n",
    "#row_names = {'0': 'Outro Esquema',\n",
    "#             '1': 'Infecções pelo P. vivax, ou P. ovale com Cloroquina em 3 dias e Primaquina em 7 dias'}\n",
    "\n",
    "row_names = {'0': 'Another scheme',\n",
    "             '1': 'Treatment Scheme 11'}\n",
    "\n",
    "df_plot.set_index('target', inplace=True)\n",
    "df_plot.rename(index=row_names, inplace=True)\n",
    "df_plot = df_plot.sort_values(by='freq', ascending=False)\n",
    "df_plot"
   ],
   "execution_count": null,
   "outputs": [
    {
     "output_type": "execute_result",
     "data": {
      "text/html": [
       "<div>\n",
       "<style scoped>\n",
       "    .dataframe tbody tr th:only-of-type {\n",
       "        vertical-align: middle;\n",
       "    }\n",
       "\n",
       "    .dataframe tbody tr th {\n",
       "        vertical-align: top;\n",
       "    }\n",
       "\n",
       "    .dataframe thead th {\n",
       "        text-align: right;\n",
       "    }\n",
       "</style>\n",
       "<table border=\"1\" class=\"dataframe\">\n",
       "  <thead>\n",
       "    <tr style=\"text-align: right;\">\n",
       "      <th></th>\n",
       "      <th>count</th>\n",
       "      <th>freq</th>\n",
       "    </tr>\n",
       "    <tr>\n",
       "      <th>target</th>\n",
       "      <th></th>\n",
       "      <th></th>\n",
       "    </tr>\n",
       "  </thead>\n",
       "  <tbody>\n",
       "    <tr>\n",
       "      <th>Treatment Scheme 11</th>\n",
       "      <td>1012546</td>\n",
       "      <td>0.827449</td>\n",
       "    </tr>\n",
       "    <tr>\n",
       "      <th>Another scheme</th>\n",
       "      <td>211150</td>\n",
       "      <td>0.172551</td>\n",
       "    </tr>\n",
       "  </tbody>\n",
       "</table>\n",
       "</div>"
      ],
      "text/plain": [
       "                       count      freq\n",
       "target                                \n",
       "Treatment Scheme 11  1012546  0.827449\n",
       "Another scheme        211150  0.172551"
      ]
     },
     "metadata": {},
     "execution_count": 52
    }
   ]
  },
  {
   "cell_type": "code",
   "metadata": {
    "colab": {
     "base_uri": "https://localhost:8080/",
     "height": 358
    },
    "id": "29va2227lAK0",
    "outputId": "6eb6e07b-8d22-45f7-b9db-8768f652c4ab"
   },
   "source": [
    "rc = {'figure.figsize':(10,5),\n",
    "      'axes.facecolor':'white',\n",
    "      'axes.grid' : False,\n",
    "      'grid.color': '.8',\n",
    "      'font.family':'DejaVu Sans',\n",
    "      'font.size' : 15}\n",
    "\n",
    "plt.rcParams.update(rc)\n",
    "\n",
    "#palette=\"pastel\"\n",
    "ax = sns.barplot(data=df_plot, x=\"freq\", y=df_plot.index, color='royalblue')\n",
    "ax.set(ylabel='', xlabel='')\n",
    "ax.set_yticklabels([textwrap.fill(e, 35) for e in df_plot.index], size=20)\n",
    "ax.set(xticklabels=[])\n",
    "\n",
    "sns.despine(fig=None, ax=None, top=True, right=True, left=False, bottom=True, offset=None, trim=False)\n",
    "\n",
    "for p in ax.patches:\n",
    "    width = p.get_width()\n",
    "    plt.text(0.06+p.get_width(), p.get_y()+0.5*p.get_height(),\n",
    "             '{:1.2f}%'.format(width*100),\n",
    "             ha='center', va='center')\n",
    "    \n",
    "plt.tight_layout()\n",
    "plt.savefig('./class_distribution.pdf')\n",
    "plt.show()"
   ],
   "execution_count": null,
   "outputs": [
    {
     "output_type": "display_data",
     "data": {
      "image/png": "[encoded data removed]",
      "text/plain": [
       "<Figure size 720x360 with 1 Axes>"
      ]
     },
     "metadata": {
      "needs_background": "light"
     }
    }
   ]
  },
  {
   "cell_type": "markdown",
   "metadata": {
    "id": "jaQUX0Zjp8z3"
   },
   "source": [
    "### Dividir a base dados em treinamento e teste - 80/20"
   ]
  },
  {
   "cell_type": "code",
   "metadata": {
    "colab": {
     "base_uri": "https://localhost:8080/"
    },
    "id": "v9DvXnWL4hpo",
    "outputId": "07a22156-8643-468c-b5b5-490025286fc8"
   },
   "source": [
    "df_prep_fa.columns"
   ],
   "execution_count": null,
   "outputs": [
    {
     "output_type": "execute_result",
     "data": {
      "text/plain": [
       "Index(['tipo_lam', 'id_pacie', 'id_dimea', 'sexo', 'raca', 'sintomas',\n",
       "       'cod_ocup', 'res_exam', 'qtd_cruz', 'hemoparasi', 'exame', 'gestante',\n",
       "       'vivax', 'falciparum', 'niv_esco', 'target'],\n",
       "      dtype='object')"
      ]
     },
     "metadata": {},
     "execution_count": 54
    }
   ]
  },
  {
   "cell_type": "code",
   "metadata": {
    "id": "iGnujAW8LA-W"
   },
   "source": [
    "X_train, X_test = train_test_split(df_prep_fa, test_size=0.20, random_state=13)\n",
    "df_train = X_train.copy()"
   ],
   "execution_count": null,
   "outputs": []
  },
  {
   "cell_type": "code",
   "metadata": {
    "colab": {
     "base_uri": "https://localhost:8080/"
    },
    "id": "rmUkOx5Oben6",
    "outputId": "173b5135-12e6-46ba-cd02-9ec575ffb425"
   },
   "source": [
    "X_train.shape"
   ],
   "execution_count": null,
   "outputs": [
    {
     "output_type": "execute_result",
     "data": {
      "text/plain": [
       "(978956, 16)"
      ]
     },
     "metadata": {},
     "execution_count": 56
    }
   ]
  },
  {
   "cell_type": "code",
   "metadata": {
    "colab": {
     "base_uri": "https://localhost:8080/"
    },
    "id": "4AlxjyaoAIJQ",
    "outputId": "15dbd7a9-c2a9-452b-d89c-6a242ca4425e"
   },
   "source": [
    "X_test.shape"
   ],
   "execution_count": null,
   "outputs": [
    {
     "output_type": "execute_result",
     "data": {
      "text/plain": [
       "(244740, 16)"
      ]
     },
     "metadata": {},
     "execution_count": 57
    }
   ]
  },
  {
   "cell_type": "markdown",
   "metadata": {
    "id": "c6zvF-RBxxLP"
   },
   "source": [
    "### Aplicar validação cruzada no conjunto de treinamento"
   ]
  },
  {
   "cell_type": "code",
   "metadata": {
    "id": "9aYYE3YA4MUw"
   },
   "source": [
    "class RESULT(object):\n",
    "    \n",
    "    def __init__(self, model_name, y_pred, y_prob, y_test, tprs, aucs, thresholds):\n",
    "        self.model_name = model_name\n",
    "        self.y_pred = y_pred\n",
    "        self.y_prob = y_prob        \n",
    "        self.y_test = y_test\n",
    "        self.tprs = tprs\n",
    "        self.aucs = aucs\n",
    "        self.thresholds = thresholds"
   ],
   "execution_count": null,
   "outputs": []
  },
  {
   "cell_type": "code",
   "metadata": {
    "id": "PoeNQooMtGu1"
   },
   "source": [
    "models = {\n",
    "    'XGBoost': XGBClassifier(),\n",
    "    'Logistic': LogisticRegression(),\n",
    "    'DecisionTree': DecisionTreeClassifier()\n",
    "    #'SVM': SVC(gamma='auto')\n",
    "    #'RF': RandomForestClassifier(n_estimators=100,criterion='gini'),\n",
    "}"
   ],
   "execution_count": null,
   "outputs": []
  },
  {
   "cell_type": "markdown",
   "metadata": {
    "id": "znxOCb7nzJkq"
   },
   "source": [
    "#### 5 folds e Undersampling\n",
    "A cada iteração do processo de validação cruzada, é aplicado uma subamostragem ao conjunto de treinamento, tornando o conjunto balanceado. "
   ]
  },
  {
   "cell_type": "code",
   "metadata": {
    "id": "gwfbGrp6Fh58",
    "colab": {
     "base_uri": "https://localhost:8080/"
    },
    "outputId": "dad7e24d-c932-4018-bd8a-f2b1b4ba09b4"
   },
   "source": [
    "n_folds = 5\n",
    "results_exp1, models_pred_exp1 = perform_cv(df_train, models, n_folds, False)"
   ],
   "execution_count": null,
   "outputs": [
    {
     "output_type": "stream",
     "name": "stdout",
     "text": [
      "Model: XGBoost\n",
      "\n",
      "Fold[1]\n",
      "\n",
      "Fold[2]\n",
      "\n",
      "Fold[3]\n",
      "\n",
      "Fold[4]\n",
      "\n",
      "Fold[5]\n",
      "\n",
      "Accuracy: 0.933323867466975\n",
      "\n",
      "Auc-macro: 0.9276315988680396\n",
      "\n",
      "Auc-weighted: 0.9276315988680396\n",
      "\n",
      "Confusion Matrix: \n",
      "Predicted     0.0     1.0\n",
      "Actual                   \n",
      "0.0        113203    9840\n",
      "1.0         55433  800480\n",
      "\n",
      "Classification Report: \n",
      "                  precision    recall  f1-score   support\n",
      "\n",
      "Outro Tratamento       0.67      0.92      0.78    123043\n",
      "   Tratamento 11       0.99      0.94      0.96    855913\n",
      "\n",
      "        accuracy                           0.93    978956\n",
      "       macro avg       0.83      0.93      0.87    978956\n",
      "    weighted avg       0.95      0.93      0.94    978956\n",
      "\n",
      "\n",
      "########################################################\n",
      "\n",
      "Model: Logistic\n",
      "\n",
      "Fold[1]\n",
      "\n"
     ]
    },
    {
     "output_type": "stream",
     "name": "stderr",
     "text": [
      "[WARNING] lbfgs failed to converge (status=1):\n",
      "STOP: TOTAL NO. of ITERATIONS REACHED LIMIT.\n",
      "\n",
      "Increase the number of iterations (max_iter) or scale the data as shown in:\n",
      "    https://scikit-learn.org/stable/modules/preprocessing.html\n",
      "Please also refer to the documentation for alternative solver options:\n",
      "    https://scikit-learn.org/stable/modules/linear_model.html#logistic-regression\n",
      "\n"
     ]
    },
    {
     "output_type": "stream",
     "name": "stdout",
     "text": [
      "Fold[2]\n",
      "\n"
     ]
    },
    {
     "output_type": "stream",
     "name": "stderr",
     "text": [
      "[WARNING] lbfgs failed to converge (status=1):\n",
      "STOP: TOTAL NO. of ITERATIONS REACHED LIMIT.\n",
      "\n",
      "Increase the number of iterations (max_iter) or scale the data as shown in:\n",
      "    https://scikit-learn.org/stable/modules/preprocessing.html\n",
      "Please also refer to the documentation for alternative solver options:\n",
      "    https://scikit-learn.org/stable/modules/linear_model.html#logistic-regression\n",
      "\n"
     ]
    },
    {
     "output_type": "stream",
     "name": "stdout",
     "text": [
      "Fold[3]\n",
      "\n"
     ]
    },
    {
     "output_type": "stream",
     "name": "stderr",
     "text": [
      "[WARNING] lbfgs failed to converge (status=1):\n",
      "STOP: TOTAL NO. of ITERATIONS REACHED LIMIT.\n",
      "\n",
      "Increase the number of iterations (max_iter) or scale the data as shown in:\n",
      "    https://scikit-learn.org/stable/modules/preprocessing.html\n",
      "Please also refer to the documentation for alternative solver options:\n",
      "    https://scikit-learn.org/stable/modules/linear_model.html#logistic-regression\n",
      "\n"
     ]
    },
    {
     "output_type": "stream",
     "name": "stdout",
     "text": [
      "Fold[4]\n",
      "\n"
     ]
    },
    {
     "output_type": "stream",
     "name": "stderr",
     "text": [
      "[WARNING] lbfgs failed to converge (status=1):\n",
      "STOP: TOTAL NO. of ITERATIONS REACHED LIMIT.\n",
      "\n",
      "Increase the number of iterations (max_iter) or scale the data as shown in:\n",
      "    https://scikit-learn.org/stable/modules/preprocessing.html\n",
      "Please also refer to the documentation for alternative solver options:\n",
      "    https://scikit-learn.org/stable/modules/linear_model.html#logistic-regression\n",
      "\n"
     ]
    },
    {
     "output_type": "stream",
     "name": "stdout",
     "text": [
      "Fold[5]\n",
      "\n"
     ]
    },
    {
     "output_type": "stream",
     "name": "stderr",
     "text": [
      "[WARNING] lbfgs failed to converge (status=1):\n",
      "STOP: TOTAL NO. of ITERATIONS REACHED LIMIT.\n",
      "\n",
      "Increase the number of iterations (max_iter) or scale the data as shown in:\n",
      "    https://scikit-learn.org/stable/modules/preprocessing.html\n",
      "Please also refer to the documentation for alternative solver options:\n",
      "    https://scikit-learn.org/stable/modules/linear_model.html#logistic-regression\n",
      "\n"
     ]
    },
    {
     "output_type": "stream",
     "name": "stdout",
     "text": [
      "Accuracy: 0.9313707664082962\n",
      "\n",
      "Auc-macro: 0.9262836144247629\n",
      "\n",
      "Auc-weighted: 0.9262836144247629\n",
      "\n",
      "Confusion Matrix: \n",
      "Predicted     0.0     1.0\n",
      "Actual                   \n",
      "0.0        111181    9730\n",
      "1.0         57455  800590\n",
      "\n",
      "Classification Report: \n",
      "                  precision    recall  f1-score   support\n",
      "\n",
      "Outro Tratamento       0.66      0.92      0.77    120911\n",
      "   Tratamento 11       0.99      0.93      0.96    858045\n",
      "\n",
      "        accuracy                           0.93    978956\n",
      "       macro avg       0.82      0.93      0.86    978956\n",
      "    weighted avg       0.95      0.93      0.94    978956\n",
      "\n",
      "\n",
      "########################################################\n",
      "\n",
      "Model: DecisionTree\n",
      "\n",
      "Fold[1]\n",
      "\n",
      "Fold[2]\n",
      "\n",
      "Fold[3]\n",
      "\n",
      "Fold[4]\n",
      "\n",
      "Fold[5]\n",
      "\n",
      "Accuracy: 0.912237117909283\n",
      "\n",
      "Auc-macro: 0.861643336495943\n",
      "\n",
      "Auc-weighted: 0.861643336495943\n",
      "\n",
      "Confusion Matrix: \n",
      "Predicted     0.0     1.0\n",
      "Actual                   \n",
      "0.0        112603   29883\n",
      "1.0         56033  780437\n",
      "\n",
      "Classification Report: \n",
      "                  precision    recall  f1-score   support\n",
      "\n",
      "Outro Tratamento       0.67      0.79      0.72    142486\n",
      "   Tratamento 11       0.96      0.93      0.95    836470\n",
      "\n",
      "        accuracy                           0.91    978956\n",
      "       macro avg       0.82      0.86      0.84    978956\n",
      "    weighted avg       0.92      0.91      0.92    978956\n",
      "\n",
      "\n",
      "########################################################\n",
      "\n"
     ]
    }
   ]
  },
  {
   "cell_type": "code",
   "metadata": {
    "id": "7hDZZcdQ1w2m",
    "colab": {
     "base_uri": "https://localhost:8080/",
     "height": 527
    },
    "outputId": "9bd89795-06d8-43f0-afae-2bf7a315d3e3"
   },
   "source": [
    "plot_roc_curve(results_exp1, \"roc_curve_balanced\")"
   ],
   "execution_count": null,
   "outputs": [
    {
     "output_type": "display_data",
     "data": {
      "image/png": "[encoded data removed]",
      "text/plain": [
       "<Figure size 720x576 with 1 Axes>"
      ]
     },
     "metadata": {
      "needs_background": "light"
     }
    }
   ]
  },
  {
   "cell_type": "code",
   "metadata": {
    "id": "g1QWd8YCFlO_",
    "colab": {
     "base_uri": "https://localhost:8080/",
     "height": 665
    },
    "outputId": "526f6135-77d6-4425-8677-b97ec3c77f0e"
   },
   "source": [
    "plot_confusion_matrix(results_exp1, ['Trat. 11', 'Outro'], \"confusion_matrix\")"
   ],
   "execution_count": null,
   "outputs": [
    {
     "output_type": "display_data",
     "data": {
      "image/png": "[encoded data removed]",
      "text/plain": [
       "<Figure size 720x576 with 3 Axes>"
      ]
     },
     "metadata": {}
    }
   ]
  },
  {
   "cell_type": "markdown",
   "metadata": {
    "id": "0E60ADGaqBo8"
   },
   "source": [
    "#### Criar os modelos finais e testar no conjunto de teste"
   ]
  },
  {
   "cell_type": "code",
   "metadata": {
    "id": "P30T4NA_qe7u"
   },
   "source": [
    "X_train, X_test = train_test_split(df_prep_fa, test_size=0.20, random_state=13)\n",
    "\n",
    "#Usar undersampling\n",
    "#X_train = create_balanced_dataset(X_train, 1.0)\n",
    "\n",
    "y_train = X_train['target'].values\n",
    "X_train = X_train.drop(['target'], axis=1)\n",
    "\n",
    "y_test = X_test['target'].values\n",
    "X_test = X_test.drop(['target'], axis=1)"
   ],
   "execution_count": null,
   "outputs": []
  },
  {
   "cell_type": "code",
   "metadata": {
    "colab": {
     "base_uri": "https://localhost:8080/"
    },
    "id": "koLLbzQ6pSoa",
    "outputId": "f31e4161-67c2-4650-b077-739b9a3c5f21"
   },
   "source": [
    "xgbModel = XGBClassifier()\n",
    "xgbModel.fit(X_train, y_train)"
   ],
   "execution_count": null,
   "outputs": [
    {
     "output_type": "execute_result",
     "data": {
      "text/plain": [
       "XGBClassifier(base_score=0.5, booster='gbtree', colsample_bylevel=1,\n",
       "              colsample_bynode=1, colsample_bytree=1, gamma=0,\n",
       "              learning_rate=0.1, max_delta_step=0, max_depth=3,\n",
       "              min_child_weight=1, missing=None, n_estimators=100, n_jobs=1,\n",
       "              nthread=None, objective='binary:logistic', random_state=0,\n",
       "              reg_alpha=0, reg_lambda=1, scale_pos_weight=1, seed=None,\n",
       "              silent=None, subsample=1, verbosity=1)"
      ]
     },
     "metadata": {},
     "execution_count": 65
    }
   ]
  },
  {
   "cell_type": "code",
   "metadata": {
    "id": "MPIrlT2vpS4U"
   },
   "source": [
    "y_test_pred = xgbModel.predict(X_test)\n",
    "y_test_predProba = xgbModel.predict_proba(X_test)"
   ],
   "execution_count": null,
   "outputs": []
  },
  {
   "cell_type": "code",
   "metadata": {
    "colab": {
     "base_uri": "https://localhost:8080/"
    },
    "id": "xIRBPFeQpS_A",
    "outputId": "ee0ddeb7-69ee-4b9a-ade1-85f27157c7b6"
   },
   "source": [
    "generate_performance_stats(y_test, y_test_pred)"
   ],
   "execution_count": null,
   "outputs": [
    {
     "output_type": "stream",
     "name": "stdout",
     "text": [
      "Accuracy: 0.9321238865735065\n",
      "\n",
      "Auc-macro: 0.82768274916615\n",
      "\n",
      "Auc-weighted: 0.82768274916615\n",
      "\n",
      "Confusion Matrix: \n",
      "Predicted      0       1\n",
      "Actual                  \n",
      "0          28384   14130\n",
      "1           2482  199744\n",
      "\n",
      "Classification Report: \n",
      "                  precision    recall  f1-score   support\n",
      "\n",
      "Outro Tratamento       0.92      0.67      0.77     42514\n",
      "   Tratamento 11       0.93      0.99      0.96    202226\n",
      "\n",
      "        accuracy                           0.93    244740\n",
      "       macro avg       0.93      0.83      0.87    244740\n",
      "    weighted avg       0.93      0.93      0.93    244740\n",
      "\n",
      "\n"
     ]
    }
   ]
  },
  {
   "cell_type": "markdown",
   "metadata": {
    "id": "jI2RTiO1bYEy"
   },
   "source": [
    "#### Feature importance for XGBoost"
   ]
  },
  {
   "cell_type": "code",
   "metadata": {
    "id": "dNWF1bLsbtZ3"
   },
   "source": [
    "df_featImport = pd.DataFrame(columns=['feature', 'feat_importance'])\n",
    "df_featImport['feature'] = X_train.columns\n",
    "df_featImport['feat_importance'] = xgbModel.feature_importances_\n",
    "df_featImport = df_featImport.sort_values(by='feat_importance', ascending=False)\n",
    "\n",
    "col_names = {'tipo_lam':'TIPO_LAM', 'id_pacie':'ID_PACIE', 'id_dimea':'em', 'sexo':'Sexo', 'raca':'Raça/Cor', 'sintomas':'Sintomas', 'cod_ocup':'COD_OCUP',\n",
    "             'res_exam':'RES_EXAME', 'qtd_cruz':'Qtd cruzes', 'hemoparasi':'HEMOPARASI', 'exame':'Tipo do exame', 'gestante':'GESTANTE', 'vivax':'Trat. vivax',\n",
    "             'falciparum':'Trat. falciparum', 'niv_esco':'Escolaridade', 'mun_infe':'MUN_INF', 'loc_infe':'Local de infecção'}\n",
    "df_featImport.set_index('feature', inplace=True) \n",
    "df_featImport.rename(index=col_names, inplace=True)\n",
    "df_featImport = df_featImport[0:5]"
   ],
   "execution_count": null,
   "outputs": []
  },
  {
   "cell_type": "code",
   "metadata": {
    "colab": {
     "base_uri": "https://localhost:8080/",
     "height": 358
    },
    "id": "qin0ESXBbtkN",
    "outputId": "367c41bf-845f-4a9d-ccba-7d4c1784be04"
   },
   "source": [
    "rc = {'figure.figsize':(10,5),\n",
    "      'axes.facecolor':'white',\n",
    "      'axes.grid' : False,\n",
    "      'grid.color': '.8',\n",
    "      'font.family':'DejaVu Sans',\n",
    "      'font.size' : 15}\n",
    "\n",
    "plt.rcParams.update(rc)\n",
    "\n",
    "ax = sns.barplot(data=df_featImport, x='feat_importance', y=df_featImport.index, color='royalblue')\n",
    "plt.xticks(rotation=90)\n",
    "plt.xlabel('')\n",
    "plt.ylabel('')\n",
    "#ax.set_yticklabels([textwrap.fill(e, 35) for e in df_plot.index], size=20)\n",
    "ax.set(xticklabels=[])\n",
    "\n",
    "sns.despine(fig=None, ax=None, top=True, right=True, left=False, bottom=True, offset=None, trim=False)\n",
    "\n",
    "for p in ax.patches:\n",
    "    width = p.get_width()\n",
    "    plt.text(0.06+p.get_width(), p.get_y()+0.5*p.get_height(),\n",
    "             '{:1.2f}%'.format(width*100),\n",
    "             ha='center', va='center')\n",
    "\n",
    "plt.tight_layout()\n",
    "plt.savefig('./feature_importance.pdf')\n",
    "plt.show()"
   ],
   "execution_count": null,
   "outputs": [
    {
     "output_type": "display_data",
     "data": {
      "image/png": "[encoded data removed]",
      "text/plain": [
       "<Figure size 720x360 with 1 Axes>"
      ]
     },
     "metadata": {}
    }
   ]
  },
  {
   "cell_type": "code",
   "metadata": {
    "colab": {
     "base_uri": "https://localhost:8080/"
    },
    "id": "47i_aXfLpTCM",
    "outputId": "85a32213-71ba-46a9-eaa7-c38cb4cfa991"
   },
   "source": [
    "lrModel = LogisticRegression()\n",
    "lrModel.fit(X_train, y_train)"
   ],
   "execution_count": null,
   "outputs": [
    {
     "output_type": "stream",
     "name": "stderr",
     "text": [
      "[WARNING] lbfgs failed to converge (status=1):\n",
      "STOP: TOTAL NO. of ITERATIONS REACHED LIMIT.\n",
      "\n",
      "Increase the number of iterations (max_iter) or scale the data as shown in:\n",
      "    https://scikit-learn.org/stable/modules/preprocessing.html\n",
      "Please also refer to the documentation for alternative solver options:\n",
      "    https://scikit-learn.org/stable/modules/linear_model.html#logistic-regression\n",
      "\n"
     ]
    },
    {
     "output_type": "execute_result",
     "data": {
      "text/plain": [
       "LogisticRegression(C=1.0, class_weight=None, dual=False, fit_intercept=True,\n",
       "                   intercept_scaling=1, l1_ratio=None, max_iter=100,\n",
       "                   multi_class='auto', n_jobs=None, penalty='l2',\n",
       "                   random_state=None, solver='lbfgs', tol=0.0001, verbose=0,\n",
       "                   warm_start=False)"
      ]
     },
     "metadata": {},
     "execution_count": 70
    }
   ]
  },
  {
   "cell_type": "code",
   "metadata": {
    "id": "TloNIH5tn2Zj"
   },
   "source": [
    "y_test_pred = lrModel.predict(X_test)\n",
    "y_test_predProba = lrModel.predict_proba(X_test)"
   ],
   "execution_count": null,
   "outputs": []
  },
  {
   "cell_type": "code",
   "metadata": {
    "colab": {
     "base_uri": "https://localhost:8080/"
    },
    "id": "q41yT7SBn2ck",
    "outputId": "fe710cf7-86a0-48f2-e6b0-693e0e8717af"
   },
   "source": [
    "generate_performance_stats(y_test, y_test_pred)"
   ],
   "execution_count": null,
   "outputs": [
    {
     "output_type": "stream",
     "name": "stdout",
     "text": [
      "Accuracy: 0.9302688567459345\n",
      "\n",
      "Auc-macro: 0.8218882023908447\n",
      "\n",
      "Auc-weighted: 0.8218882023908447\n",
      "\n",
      "Confusion Matrix: \n",
      "Predicted      0       1\n",
      "Actual                  \n",
      "0          27881   14633\n",
      "1           2433  199793\n",
      "\n",
      "Classification Report: \n",
      "                  precision    recall  f1-score   support\n",
      "\n",
      "Outro Tratamento       0.92      0.66      0.77     42514\n",
      "   Tratamento 11       0.93      0.99      0.96    202226\n",
      "\n",
      "        accuracy                           0.93    244740\n",
      "       macro avg       0.93      0.82      0.86    244740\n",
      "    weighted avg       0.93      0.93      0.93    244740\n",
      "\n",
      "\n"
     ]
    }
   ]
  },
  {
   "cell_type": "code",
   "metadata": {
    "colab": {
     "base_uri": "https://localhost:8080/"
    },
    "id": "cP6IzIFOpTGQ",
    "outputId": "ce1bc3be-9d84-491e-dd3b-d8b00d9dc403"
   },
   "source": [
    "dtModel = DecisionTreeClassifier()\n",
    "dtModel.fit(X_train, y_train)"
   ],
   "execution_count": null,
   "outputs": [
    {
     "output_type": "execute_result",
     "data": {
      "text/plain": [
       "DecisionTreeClassifier(ccp_alpha=0.0, class_weight=None, criterion='gini',\n",
       "                       max_depth=None, max_features=None, max_leaf_nodes=None,\n",
       "                       min_impurity_decrease=0.0, min_impurity_split=None,\n",
       "                       min_samples_leaf=1, min_samples_split=2,\n",
       "                       min_weight_fraction_leaf=0.0, presort='deprecated',\n",
       "                       random_state=None, splitter='best')"
      ]
     },
     "metadata": {},
     "execution_count": 73
    }
   ]
  },
  {
   "cell_type": "code",
   "metadata": {
    "id": "azplnq2BqvDo"
   },
   "source": [
    "y_test_pred = dtModel.predict(X_test)\n",
    "y_test_predProba = dtModel.predict_proba(X_test)"
   ],
   "execution_count": null,
   "outputs": []
  },
  {
   "cell_type": "code",
   "metadata": {
    "colab": {
     "base_uri": "https://localhost:8080/"
    },
    "id": "L8hfFFVCqvH_",
    "outputId": "f575ea8b-1a5c-4957-a7c9-40284d6de0fc"
   },
   "source": [
    "generate_performance_stats(y_test, y_test_pred)"
   ],
   "execution_count": null,
   "outputs": [
    {
     "output_type": "stream",
     "name": "stdout",
     "text": [
      "Accuracy: 0.9130056386369209\n",
      "\n",
      "Auc-macro: 0.8153895179069806\n",
      "\n",
      "Auc-weighted: 0.8153895179069806\n",
      "\n",
      "Confusion Matrix: \n",
      "Predicted      0       1\n",
      "Actual                  \n",
      "0          28306   14208\n",
      "1           7083  195143\n",
      "\n",
      "Classification Report: \n",
      "                  precision    recall  f1-score   support\n",
      "\n",
      "Outro Tratamento       0.80      0.67      0.73     42514\n",
      "   Tratamento 11       0.93      0.96      0.95    202226\n",
      "\n",
      "        accuracy                           0.91    244740\n",
      "       macro avg       0.87      0.82      0.84    244740\n",
      "    weighted avg       0.91      0.91      0.91    244740\n",
      "\n",
      "\n"
     ]
    }
   ]
  },
  {
   "cell_type": "markdown",
   "metadata": {
    "id": "H0w3sD5g2d1R"
   },
   "source": [
    "#### 5 folds e Sem Undersampling\n",
    "A cada iteração do processo de validação cruzada, a base de treinamento permanece desbalanceada. "
   ]
  },
  {
   "cell_type": "code",
   "metadata": {
    "id": "RXQ3RXry7BgC",
    "colab": {
     "base_uri": "https://localhost:8080/"
    },
    "outputId": "8dc499d4-5631-4a54-e9c8-30ba842caf4e"
   },
   "source": [
    "n_folds = 5\n",
    "results_exp2, models_pred_exp2 = perform_cv(df_train, models, n_folds, False)"
   ],
   "execution_count": null,
   "outputs": [
    {
     "output_type": "stream",
     "name": "stdout",
     "text": [
      "Model: XGBoost\n",
      "\n",
      "Fold[1]\n",
      "\n",
      "Fold[2]\n",
      "\n",
      "Fold[3]\n",
      "\n",
      "Fold[4]\n",
      "\n",
      "Fold[5]\n",
      "\n",
      "Accuracy: 0.9342983750035753\n",
      "\n",
      "Auc: 0.9272405089676972\n",
      "\n",
      "Confusion Matrix: \n",
      "Predicted     0.0     1.0\n",
      "Actual                   \n",
      "0.0        114584   10267\n",
      "1.0         54052  800053\n",
      "\n",
      "Classification Report: \n",
      "                  precision    recall  f1-score   support\n",
      "\n",
      "Outro Tratamento       0.68      0.92      0.78    124851\n",
      "   Tratamento 11       0.99      0.94      0.96    854105\n",
      "\n",
      "        accuracy                           0.93    978956\n",
      "       macro avg       0.83      0.93      0.87    978956\n",
      "    weighted avg       0.95      0.93      0.94    978956\n",
      "\n",
      "\n",
      "########################################################\n",
      "\n",
      "Model: Logistic\n",
      "\n",
      "Fold[1]\n",
      "\n"
     ]
    },
    {
     "output_type": "stream",
     "name": "stderr",
     "text": [
      "[WARNING] lbfgs failed to converge (status=1):\n",
      "STOP: TOTAL NO. of ITERATIONS REACHED LIMIT.\n",
      "\n",
      "Increase the number of iterations (max_iter) or scale the data as shown in:\n",
      "    https://scikit-learn.org/stable/modules/preprocessing.html\n",
      "Please also refer to the documentation for alternative solver options:\n",
      "    https://scikit-learn.org/stable/modules/linear_model.html#logistic-regression\n",
      "\n"
     ]
    },
    {
     "output_type": "stream",
     "name": "stdout",
     "text": [
      "Fold[2]\n",
      "\n"
     ]
    },
    {
     "output_type": "stream",
     "name": "stderr",
     "text": [
      "[WARNING] lbfgs failed to converge (status=1):\n",
      "STOP: TOTAL NO. of ITERATIONS REACHED LIMIT.\n",
      "\n",
      "Increase the number of iterations (max_iter) or scale the data as shown in:\n",
      "    https://scikit-learn.org/stable/modules/preprocessing.html\n",
      "Please also refer to the documentation for alternative solver options:\n",
      "    https://scikit-learn.org/stable/modules/linear_model.html#logistic-regression\n",
      "\n"
     ]
    },
    {
     "output_type": "stream",
     "name": "stdout",
     "text": [
      "Fold[3]\n",
      "\n",
      "Fold[4]\n",
      "\n",
      "Fold[5]\n",
      "\n",
      "Accuracy: 0.8855137513841276\n",
      "\n",
      "Auc: 0.8912812753122242\n",
      "\n",
      "Confusion Matrix: \n",
      "Predicted     0.0     1.0\n",
      "Actual                   \n",
      "0.0         63804    7245\n",
      "1.0        104832  803075\n",
      "\n",
      "Classification Report: \n",
      "                  precision    recall  f1-score   support\n",
      "\n",
      "Outro Tratamento       0.38      0.90      0.53     71049\n",
      "   Tratamento 11       0.99      0.88      0.93    907907\n",
      "\n",
      "        accuracy                           0.89    978956\n",
      "       macro avg       0.68      0.89      0.73    978956\n",
      "    weighted avg       0.95      0.89      0.91    978956\n",
      "\n",
      "\n",
      "########################################################\n",
      "\n",
      "Model: DecisionTree\n",
      "\n",
      "Fold[1]\n",
      "\n",
      "Fold[2]\n",
      "\n",
      "Fold[3]\n",
      "\n",
      "Fold[4]\n",
      "\n",
      "Fold[5]\n",
      "\n",
      "Accuracy: 0.9007861436060456\n",
      "\n",
      "Auc: 0.8240027374596015\n",
      "\n",
      "Confusion Matrix: \n",
      "Predicted     0.0     1.0\n",
      "Actual                   \n",
      "0.0        123143   51633\n",
      "1.0         45493  758687\n",
      "\n",
      "Classification Report: \n",
      "                  precision    recall  f1-score   support\n",
      "\n",
      "Outro Tratamento       0.73      0.70      0.72    174776\n",
      "   Tratamento 11       0.94      0.94      0.94    804180\n",
      "\n",
      "        accuracy                           0.90    978956\n",
      "       macro avg       0.83      0.82      0.83    978956\n",
      "    weighted avg       0.90      0.90      0.90    978956\n",
      "\n",
      "\n",
      "########################################################\n",
      "\n"
     ]
    }
   ]
  },
  {
   "cell_type": "code",
   "metadata": {
    "id": "entykQluFkoI",
    "colab": {
     "base_uri": "https://localhost:8080/",
     "height": 524
    },
    "outputId": "2034cf33-ed41-4268-977a-af2ec6a80169"
   },
   "source": [
    "plot_roc_curve(results_exp2, \"roc_curve_unbalanced\")"
   ],
   "execution_count": null,
   "outputs": [
    {
     "output_type": "display_data",
     "data": {
      "image/png": "[encoded data removed]",
      "text/plain": [
       "<Figure size 720x576 with 1 Axes>"
      ]
     },
     "metadata": {}
    }
   ]
  },
  {
   "cell_type": "code",
   "metadata": {
    "id": "mGUGacCt8q_O",
    "colab": {
     "base_uri": "https://localhost:8080/",
     "height": 665
    },
    "outputId": "414b900f-16f2-409a-cec4-17118de2edf3"
   },
   "source": [
    "plot_confusion_matrix(results_exp2, ['Trat. 11', 'Outro'], \"confusion_matrix\")"
   ],
   "execution_count": null,
   "outputs": [
    {
     "output_type": "display_data",
     "data": {
      "image/png": "[encoded data removed]",
      "text/plain": [
       "<Figure size 720x576 with 3 Axes>"
      ]
     },
     "metadata": {}
    }
   ]
  },
  {
   "cell_type": "markdown",
   "metadata": {
    "id": "3HlVZRl9Ad92"
   },
   "source": [
    "#### 5 folds, Undersampling e One-Hot Encoding "
   ]
  },
  {
   "cell_type": "code",
   "metadata": {
    "id": "0oHey5PmBGGh"
   },
   "source": [
    "df_train_dummy = df_train.copy()"
   ],
   "execution_count": null,
   "outputs": []
  },
  {
   "cell_type": "code",
   "metadata": {
    "id": "2JOj-79OBSBP",
    "colab": {
     "base_uri": "https://localhost:8080/"
    },
    "outputId": "193a3160-8593-46cf-8f95-935538c205a6"
   },
   "source": [
    "df_train_dummy.columns\n"
   ],
   "execution_count": null,
   "outputs": [
    {
     "output_type": "execute_result",
     "data": {
      "text/plain": [
       "Index(['tipo_lam', 'id_pacie', 'id_dimea', 'sexo', 'raca', 'sintomas',\n",
       "       'cod_ocup', 'mun_infe', 'loc_infe', 'res_exam', 'qtd_cruz',\n",
       "       'hemoparasi', 'exame', 'gestante', 'vivax', 'falciparum', 'niv_esco',\n",
       "       'target'],\n",
       "      dtype='object')"
      ]
     },
     "metadata": {},
     "execution_count": 230
    }
   ]
  },
  {
   "cell_type": "code",
   "metadata": {
    "id": "cg7M8RjgDaAO",
    "colab": {
     "base_uri": "https://localhost:8080/"
    },
    "outputId": "48c26c61-b815-4cc9-fd48-2ae7c56e931e"
   },
   "source": [
    "cols_to_convert = df_train_dummy.columns\n",
    "cols_to_convert = cols_to_convert.drop(['mun_infe', 'loc_infe', 'id_pacie', 'target'])\n",
    "cols_to_convert"
   ],
   "execution_count": null,
   "outputs": [
    {
     "output_type": "execute_result",
     "data": {
      "text/plain": [
       "Index(['tipo_lam', 'id_dimea', 'sexo', 'raca', 'sintomas', 'cod_ocup',\n",
       "       'res_exam', 'qtd_cruz', 'hemoparasi', 'exame', 'gestante', 'vivax',\n",
       "       'falciparum', 'niv_esco'],\n",
       "      dtype='object')"
      ]
     },
     "metadata": {},
     "execution_count": 231
    }
   ]
  },
  {
   "cell_type": "code",
   "metadata": {
    "id": "tpXuy6rkK4V6"
   },
   "source": [
    "df_train_dummy = pd.get_dummies(df_train_dummy, columns=cols_to_convert, drop_first=True)"
   ],
   "execution_count": null,
   "outputs": []
  },
  {
   "cell_type": "code",
   "metadata": {
    "id": "oM8vH_UMLEHH",
    "colab": {
     "base_uri": "https://localhost:8080/",
     "height": 224
    },
    "outputId": "5dc30b5b-fc6c-4b57-c71e-b88ef32cf3e7"
   },
   "source": [
    "df_train_dummy.head()"
   ],
   "execution_count": null,
   "outputs": [
    {
     "output_type": "execute_result",
     "data": {
      "text/html": [
       "<div>\n",
       "<style scoped>\n",
       "    .dataframe tbody tr th:only-of-type {\n",
       "        vertical-align: middle;\n",
       "    }\n",
       "\n",
       "    .dataframe tbody tr th {\n",
       "        vertical-align: top;\n",
       "    }\n",
       "\n",
       "    .dataframe thead th {\n",
       "        text-align: right;\n",
       "    }\n",
       "</style>\n",
       "<table border=\"1\" class=\"dataframe\">\n",
       "  <thead>\n",
       "    <tr style=\"text-align: right;\">\n",
       "      <th></th>\n",
       "      <th>id_pacie</th>\n",
       "      <th>mun_infe</th>\n",
       "      <th>loc_infe</th>\n",
       "      <th>target</th>\n",
       "      <th>tipo_lam_1</th>\n",
       "      <th>tipo_lam_2</th>\n",
       "      <th>id_dimea_1</th>\n",
       "      <th>sexo_1</th>\n",
       "      <th>raca_1</th>\n",
       "      <th>raca_2</th>\n",
       "      <th>raca_3</th>\n",
       "      <th>raca_4</th>\n",
       "      <th>sintomas_1</th>\n",
       "      <th>cod_ocup_1</th>\n",
       "      <th>cod_ocup_2</th>\n",
       "      <th>cod_ocup_3</th>\n",
       "      <th>cod_ocup_4</th>\n",
       "      <th>cod_ocup_5</th>\n",
       "      <th>cod_ocup_6</th>\n",
       "      <th>cod_ocup_7</th>\n",
       "      <th>cod_ocup_8</th>\n",
       "      <th>cod_ocup_9</th>\n",
       "      <th>cod_ocup_10</th>\n",
       "      <th>cod_ocup_11</th>\n",
       "      <th>res_exam_1</th>\n",
       "      <th>res_exam_2</th>\n",
       "      <th>res_exam_3</th>\n",
       "      <th>res_exam_4</th>\n",
       "      <th>res_exam_5</th>\n",
       "      <th>res_exam_6</th>\n",
       "      <th>res_exam_7</th>\n",
       "      <th>res_exam_8</th>\n",
       "      <th>res_exam_9</th>\n",
       "      <th>qtd_cruz_1</th>\n",
       "      <th>qtd_cruz_2</th>\n",
       "      <th>qtd_cruz_3</th>\n",
       "      <th>qtd_cruz_4</th>\n",
       "      <th>qtd_cruz_5</th>\n",
       "      <th>hemoparasi_1</th>\n",
       "      <th>hemoparasi_2</th>\n",
       "      <th>hemoparasi_3</th>\n",
       "      <th>hemoparasi_4</th>\n",
       "      <th>exame_1</th>\n",
       "      <th>gestante_1</th>\n",
       "      <th>gestante_2</th>\n",
       "      <th>gestante_3</th>\n",
       "      <th>gestante_4</th>\n",
       "      <th>gestante_5</th>\n",
       "      <th>vivax_1</th>\n",
       "      <th>falciparum_1</th>\n",
       "      <th>niv_esco_1</th>\n",
       "      <th>niv_esco_2</th>\n",
       "      <th>niv_esco_3</th>\n",
       "      <th>niv_esco_4</th>\n",
       "      <th>niv_esco_5</th>\n",
       "      <th>niv_esco_6</th>\n",
       "      <th>niv_esco_7</th>\n",
       "      <th>niv_esco_8</th>\n",
       "      <th>niv_esco_9</th>\n",
       "    </tr>\n",
       "  </thead>\n",
       "  <tbody>\n",
       "    <tr>\n",
       "      <th>2083724</th>\n",
       "      <td>25.0</td>\n",
       "      <td>130260.0</td>\n",
       "      <td>459.0</td>\n",
       "      <td>1</td>\n",
       "      <td>0</td>\n",
       "      <td>0</td>\n",
       "      <td>0</td>\n",
       "      <td>1</td>\n",
       "      <td>0</td>\n",
       "      <td>0</td>\n",
       "      <td>1</td>\n",
       "      <td>0</td>\n",
       "      <td>0</td>\n",
       "      <td>0</td>\n",
       "      <td>0</td>\n",
       "      <td>0</td>\n",
       "      <td>0</td>\n",
       "      <td>0</td>\n",
       "      <td>0</td>\n",
       "      <td>0</td>\n",
       "      <td>1</td>\n",
       "      <td>0</td>\n",
       "      <td>0</td>\n",
       "      <td>0</td>\n",
       "      <td>0</td>\n",
       "      <td>0</td>\n",
       "      <td>0</td>\n",
       "      <td>0</td>\n",
       "      <td>0</td>\n",
       "      <td>0</td>\n",
       "      <td>0</td>\n",
       "      <td>0</td>\n",
       "      <td>1</td>\n",
       "      <td>0</td>\n",
       "      <td>0</td>\n",
       "      <td>0</td>\n",
       "      <td>1</td>\n",
       "      <td>0</td>\n",
       "      <td>1</td>\n",
       "      <td>0</td>\n",
       "      <td>0</td>\n",
       "      <td>0</td>\n",
       "      <td>0</td>\n",
       "      <td>0</td>\n",
       "      <td>0</td>\n",
       "      <td>0</td>\n",
       "      <td>0</td>\n",
       "      <td>1</td>\n",
       "      <td>0</td>\n",
       "      <td>0</td>\n",
       "      <td>0</td>\n",
       "      <td>0</td>\n",
       "      <td>0</td>\n",
       "      <td>0</td>\n",
       "      <td>0</td>\n",
       "      <td>1</td>\n",
       "      <td>0</td>\n",
       "      <td>0</td>\n",
       "      <td>0</td>\n",
       "    </tr>\n",
       "    <tr>\n",
       "      <th>3677474</th>\n",
       "      <td>1.0</td>\n",
       "      <td>140028.0</td>\n",
       "      <td>93.0</td>\n",
       "      <td>1</td>\n",
       "      <td>0</td>\n",
       "      <td>0</td>\n",
       "      <td>0</td>\n",
       "      <td>0</td>\n",
       "      <td>0</td>\n",
       "      <td>1</td>\n",
       "      <td>0</td>\n",
       "      <td>0</td>\n",
       "      <td>0</td>\n",
       "      <td>0</td>\n",
       "      <td>0</td>\n",
       "      <td>1</td>\n",
       "      <td>0</td>\n",
       "      <td>0</td>\n",
       "      <td>0</td>\n",
       "      <td>0</td>\n",
       "      <td>0</td>\n",
       "      <td>0</td>\n",
       "      <td>0</td>\n",
       "      <td>0</td>\n",
       "      <td>0</td>\n",
       "      <td>0</td>\n",
       "      <td>0</td>\n",
       "      <td>0</td>\n",
       "      <td>0</td>\n",
       "      <td>0</td>\n",
       "      <td>0</td>\n",
       "      <td>0</td>\n",
       "      <td>1</td>\n",
       "      <td>1</td>\n",
       "      <td>0</td>\n",
       "      <td>0</td>\n",
       "      <td>0</td>\n",
       "      <td>0</td>\n",
       "      <td>0</td>\n",
       "      <td>1</td>\n",
       "      <td>0</td>\n",
       "      <td>0</td>\n",
       "      <td>0</td>\n",
       "      <td>0</td>\n",
       "      <td>0</td>\n",
       "      <td>0</td>\n",
       "      <td>0</td>\n",
       "      <td>1</td>\n",
       "      <td>0</td>\n",
       "      <td>0</td>\n",
       "      <td>0</td>\n",
       "      <td>0</td>\n",
       "      <td>0</td>\n",
       "      <td>0</td>\n",
       "      <td>0</td>\n",
       "      <td>0</td>\n",
       "      <td>0</td>\n",
       "      <td>0</td>\n",
       "      <td>1</td>\n",
       "    </tr>\n",
       "    <tr>\n",
       "      <th>3113669</th>\n",
       "      <td>9.0</td>\n",
       "      <td>150110.0</td>\n",
       "      <td>120.0</td>\n",
       "      <td>1</td>\n",
       "      <td>1</td>\n",
       "      <td>0</td>\n",
       "      <td>0</td>\n",
       "      <td>1</td>\n",
       "      <td>0</td>\n",
       "      <td>0</td>\n",
       "      <td>1</td>\n",
       "      <td>0</td>\n",
       "      <td>0</td>\n",
       "      <td>0</td>\n",
       "      <td>0</td>\n",
       "      <td>0</td>\n",
       "      <td>0</td>\n",
       "      <td>0</td>\n",
       "      <td>0</td>\n",
       "      <td>0</td>\n",
       "      <td>0</td>\n",
       "      <td>0</td>\n",
       "      <td>0</td>\n",
       "      <td>0</td>\n",
       "      <td>0</td>\n",
       "      <td>0</td>\n",
       "      <td>0</td>\n",
       "      <td>0</td>\n",
       "      <td>0</td>\n",
       "      <td>0</td>\n",
       "      <td>0</td>\n",
       "      <td>0</td>\n",
       "      <td>1</td>\n",
       "      <td>0</td>\n",
       "      <td>0</td>\n",
       "      <td>0</td>\n",
       "      <td>0</td>\n",
       "      <td>1</td>\n",
       "      <td>0</td>\n",
       "      <td>1</td>\n",
       "      <td>0</td>\n",
       "      <td>0</td>\n",
       "      <td>0</td>\n",
       "      <td>0</td>\n",
       "      <td>0</td>\n",
       "      <td>0</td>\n",
       "      <td>0</td>\n",
       "      <td>1</td>\n",
       "      <td>0</td>\n",
       "      <td>0</td>\n",
       "      <td>0</td>\n",
       "      <td>0</td>\n",
       "      <td>0</td>\n",
       "      <td>0</td>\n",
       "      <td>0</td>\n",
       "      <td>0</td>\n",
       "      <td>0</td>\n",
       "      <td>0</td>\n",
       "      <td>0</td>\n",
       "    </tr>\n",
       "    <tr>\n",
       "      <th>2075483</th>\n",
       "      <td>11.0</td>\n",
       "      <td>130060.0</td>\n",
       "      <td>15.0</td>\n",
       "      <td>1</td>\n",
       "      <td>0</td>\n",
       "      <td>0</td>\n",
       "      <td>0</td>\n",
       "      <td>0</td>\n",
       "      <td>0</td>\n",
       "      <td>0</td>\n",
       "      <td>1</td>\n",
       "      <td>0</td>\n",
       "      <td>0</td>\n",
       "      <td>0</td>\n",
       "      <td>0</td>\n",
       "      <td>0</td>\n",
       "      <td>0</td>\n",
       "      <td>0</td>\n",
       "      <td>0</td>\n",
       "      <td>0</td>\n",
       "      <td>0</td>\n",
       "      <td>0</td>\n",
       "      <td>0</td>\n",
       "      <td>0</td>\n",
       "      <td>0</td>\n",
       "      <td>0</td>\n",
       "      <td>0</td>\n",
       "      <td>0</td>\n",
       "      <td>0</td>\n",
       "      <td>0</td>\n",
       "      <td>0</td>\n",
       "      <td>0</td>\n",
       "      <td>1</td>\n",
       "      <td>1</td>\n",
       "      <td>0</td>\n",
       "      <td>0</td>\n",
       "      <td>0</td>\n",
       "      <td>0</td>\n",
       "      <td>0</td>\n",
       "      <td>1</td>\n",
       "      <td>0</td>\n",
       "      <td>0</td>\n",
       "      <td>0</td>\n",
       "      <td>0</td>\n",
       "      <td>0</td>\n",
       "      <td>0</td>\n",
       "      <td>1</td>\n",
       "      <td>0</td>\n",
       "      <td>0</td>\n",
       "      <td>0</td>\n",
       "      <td>0</td>\n",
       "      <td>1</td>\n",
       "      <td>0</td>\n",
       "      <td>0</td>\n",
       "      <td>0</td>\n",
       "      <td>0</td>\n",
       "      <td>0</td>\n",
       "      <td>0</td>\n",
       "      <td>0</td>\n",
       "    </tr>\n",
       "    <tr>\n",
       "      <th>2086926</th>\n",
       "      <td>6.0</td>\n",
       "      <td>130120.0</td>\n",
       "      <td>386.0</td>\n",
       "      <td>1</td>\n",
       "      <td>1</td>\n",
       "      <td>0</td>\n",
       "      <td>0</td>\n",
       "      <td>1</td>\n",
       "      <td>1</td>\n",
       "      <td>0</td>\n",
       "      <td>0</td>\n",
       "      <td>0</td>\n",
       "      <td>0</td>\n",
       "      <td>0</td>\n",
       "      <td>0</td>\n",
       "      <td>0</td>\n",
       "      <td>0</td>\n",
       "      <td>0</td>\n",
       "      <td>0</td>\n",
       "      <td>0</td>\n",
       "      <td>1</td>\n",
       "      <td>0</td>\n",
       "      <td>0</td>\n",
       "      <td>0</td>\n",
       "      <td>0</td>\n",
       "      <td>0</td>\n",
       "      <td>0</td>\n",
       "      <td>0</td>\n",
       "      <td>0</td>\n",
       "      <td>0</td>\n",
       "      <td>0</td>\n",
       "      <td>0</td>\n",
       "      <td>1</td>\n",
       "      <td>1</td>\n",
       "      <td>0</td>\n",
       "      <td>0</td>\n",
       "      <td>0</td>\n",
       "      <td>0</td>\n",
       "      <td>1</td>\n",
       "      <td>0</td>\n",
       "      <td>0</td>\n",
       "      <td>0</td>\n",
       "      <td>0</td>\n",
       "      <td>0</td>\n",
       "      <td>0</td>\n",
       "      <td>0</td>\n",
       "      <td>0</td>\n",
       "      <td>1</td>\n",
       "      <td>0</td>\n",
       "      <td>0</td>\n",
       "      <td>0</td>\n",
       "      <td>0</td>\n",
       "      <td>0</td>\n",
       "      <td>0</td>\n",
       "      <td>0</td>\n",
       "      <td>0</td>\n",
       "      <td>0</td>\n",
       "      <td>0</td>\n",
       "      <td>1</td>\n",
       "    </tr>\n",
       "  </tbody>\n",
       "</table>\n",
       "</div>"
      ],
      "text/plain": [
       "         id_pacie  mun_infe  loc_infe  ...  niv_esco_7  niv_esco_8  niv_esco_9\n",
       "2083724      25.0  130260.0     459.0  ...           0           0           0\n",
       "3677474       1.0  140028.0      93.0  ...           0           0           1\n",
       "3113669       9.0  150110.0     120.0  ...           0           0           0\n",
       "2075483      11.0  130060.0      15.0  ...           0           0           0\n",
       "2086926       6.0  130120.0     386.0  ...           0           0           1\n",
       "\n",
       "[5 rows x 59 columns]"
      ]
     },
     "metadata": {},
     "execution_count": 233
    }
   ]
  },
  {
   "cell_type": "code",
   "metadata": {
    "id": "q2rcO9XGL4tP",
    "colab": {
     "base_uri": "https://localhost:8080/"
    },
    "outputId": "bd7ba4c7-61e3-4507-8c89-7d9e766a292d"
   },
   "source": [
    "n_folds = 5\n",
    "results_exp3, models_pred_exp3 = perform_cv(df_train_dummy, models, n_folds, True)"
   ],
   "execution_count": null,
   "outputs": [
    {
     "output_type": "stream",
     "name": "stdout",
     "text": [
      "Model: XGBoost\n",
      "\n",
      "Fold[1]\n",
      "\n",
      "Fold[2]\n",
      "\n",
      "Fold[3]\n",
      "\n",
      "Fold[4]\n",
      "\n",
      "Fold[5]\n",
      "\n",
      "Accuracy: 0.9146836017144795\n",
      "\n",
      "Auc: 0.8429862249731677\n",
      "\n",
      "Confusion Matrix: \n",
      "Predicted     0.0     1.0\n",
      "Actual                   \n",
      "0.0        136430   51315\n",
      "1.0         32206  759005\n",
      "\n",
      "Classification Report: \n",
      "                  precision    recall  f1-score   support\n",
      "\n",
      "Outro Tratamento       0.81      0.73      0.77    187745\n",
      "   Tratamento 11       0.94      0.96      0.95    791211\n",
      "\n",
      "        accuracy                           0.91    978956\n",
      "       macro avg       0.87      0.84      0.86    978956\n",
      "    weighted avg       0.91      0.91      0.91    978956\n",
      "\n",
      "\n",
      "########################################################\n",
      "\n",
      "Model: Logistic\n",
      "\n",
      "Fold[1]\n",
      "\n",
      "Fold[2]\n",
      "\n",
      "Fold[3]\n",
      "\n",
      "Fold[4]\n",
      "\n",
      "Fold[5]\n",
      "\n",
      "Accuracy: 0.7744454296209431\n",
      "\n",
      "Auc: 0.6545489927264846\n",
      "\n",
      "Confusion Matrix: \n",
      "Predicted     0.0     1.0\n",
      "Actual                   \n",
      "0.0        103627  155799\n",
      "1.0         65009  654521\n",
      "\n",
      "Classification Report: \n",
      "                  precision    recall  f1-score   support\n",
      "\n",
      "Outro Tratamento       0.61      0.40      0.48    259426\n",
      "   Tratamento 11       0.81      0.91      0.86    719530\n",
      "\n",
      "        accuracy                           0.77    978956\n",
      "       macro avg       0.71      0.65      0.67    978956\n",
      "    weighted avg       0.76      0.77      0.76    978956\n",
      "\n",
      "\n",
      "########################################################\n",
      "\n",
      "Model: DecisionTree\n",
      "\n",
      "Fold[1]\n",
      "\n",
      "Fold[2]\n",
      "\n",
      "Fold[3]\n",
      "\n",
      "Fold[4]\n",
      "\n",
      "Fold[5]\n",
      "\n",
      "Accuracy: 0.8357791361409501\n",
      "\n",
      "Auc: 0.7384166826054547\n",
      "\n",
      "Confusion Matrix: \n",
      "Predicted     0.0     1.0\n",
      "Actual                   \n",
      "0.0        142395  134524\n",
      "1.0         26241  675796\n",
      "\n",
      "Classification Report: \n",
      "                  precision    recall  f1-score   support\n",
      "\n",
      "Outro Tratamento       0.84      0.51      0.64    276919\n",
      "   Tratamento 11       0.83      0.96      0.89    702037\n",
      "\n",
      "        accuracy                           0.84    978956\n",
      "       macro avg       0.84      0.74      0.77    978956\n",
      "    weighted avg       0.84      0.84      0.82    978956\n",
      "\n",
      "\n",
      "########################################################\n",
      "\n"
     ]
    }
   ]
  },
  {
   "cell_type": "code",
   "metadata": {
    "id": "4WMT7vmNN4n8"
   },
   "source": [
    "plot_roc_curve(results_exp3, \"roc_curve_balanced_ohe\")"
   ],
   "execution_count": null,
   "outputs": []
  },
  {
   "cell_type": "markdown",
   "metadata": {
    "id": "JO-EjrbX1W9u"
   },
   "source": [
    "### Testar o modelo na base de teste"
   ]
  },
  {
   "cell_type": "code",
   "metadata": {
    "id": "s_FY8eHM1R6h"
   },
   "source": [
    "#Gerar o modelo utilizando toda a base de treinamento. A base será balanceada, pois os modelos avaliados utilizando a validação cruzada com undersampling \n",
    "#tiveram melhor desempenho preditivo.\n",
    "X_train_balanced = create_balanced_dataset(df_train, 1.0)"
   ],
   "execution_count": null,
   "outputs": []
  },
  {
   "cell_type": "code",
   "metadata": {
    "id": "xER3cK18NZwT"
   },
   "source": [
    "df_plot = X_train_balanced.groupby(['target']).agg(\n",
    "    total = ('target', 'count')\n",
    ")"
   ],
   "execution_count": null,
   "outputs": []
  },
  {
   "cell_type": "code",
   "metadata": {
    "id": "Ut_ta2DmNrzW"
   },
   "source": [
    "df_plot"
   ],
   "execution_count": null,
   "outputs": []
  },
  {
   "cell_type": "code",
   "metadata": {
    "id": "KNpm6a1FPBfq"
   },
   "source": [
    "#Treinando um modelo utilizando XGBoost\n",
    "clf = XGBClassifier()\n",
    "y_train_balanced = X_train_balanced['target']\n",
    "X_train_balanced.drop(['target'], axis=1, inplace=True)"
   ],
   "execution_count": null,
   "outputs": []
  },
  {
   "cell_type": "code",
   "metadata": {
    "id": "ZRTunOVTPvG4"
   },
   "source": [
    "clf.fit(X_train_balanced, y_train_balanced)"
   ],
   "execution_count": null,
   "outputs": []
  },
  {
   "cell_type": "code",
   "metadata": {
    "id": "xtefYyVVQKtl"
   },
   "source": [
    "#Obter as probalidades de cada exemplo do conjuneto de teste\n",
    "y_test = X_test['target']\n",
    "X_test.drop(['target'], axis=1, inplace=True)"
   ],
   "execution_count": null,
   "outputs": []
  },
  {
   "cell_type": "code",
   "metadata": {
    "id": "SgXDpcSURmzH"
   },
   "source": [
    "y_test_pred = clf.predict(X_test)"
   ],
   "execution_count": null,
   "outputs": []
  },
  {
   "cell_type": "code",
   "metadata": {
    "id": "nxkar1yMQMMe"
   },
   "source": [
    "generate_performance_stats(y_test_pred, y_test)"
   ],
   "execution_count": null,
   "outputs": []
  },
  {
   "cell_type": "code",
   "metadata": {
    "id": "9sfaME6fSBQs"
   },
   "source": [
    "#Salvando o modelo\n",
    "import joblib\n",
    "joblib.dump(clf, 'xgb_model.pkl')"
   ],
   "execution_count": null,
   "outputs": []
  },
  {
   "cell_type": "code",
   "metadata": {
    "id": "18uuA6ZgTsbR"
   },
   "source": [
    "clf.save_model('xgb_model.bin')"
   ],
   "execution_count": null,
   "outputs": []
  },
  {
   "cell_type": "code",
   "metadata": {
    "id": "fGb0jX5Tb0WV"
   },
   "source": [
    "xgb_model = XGBClassifier()\n",
    "xgb_model.load_model('xgb_model.json')"
   ],
   "execution_count": null,
   "outputs": []
  },
  {
   "cell_type": "code",
   "metadata": {
    "id": "25KCCpndR7KK"
   },
   "source": [
    "xgb_model = joblib.load('xgb_model.pkl')"
   ],
   "execution_count": null,
   "outputs": []
  },
  {
   "cell_type": "code",
   "metadata": {
    "id": "KsFVMMvzXc9N"
   },
   "source": [
    "X_test[1:2]"
   ],
   "execution_count": null,
   "outputs": []
  },
  {
   "cell_type": "code",
   "metadata": {
    "id": "IuLLmWJOXWNl"
   },
   "source": [
    "xy_test_pred = xgb_model.predict(X_test[1:2])"
   ],
   "execution_count": null,
   "outputs": []
  },
  {
   "cell_type": "code",
   "metadata": {
    "id": "8Oavul8NX_Z7"
   },
   "source": [
    "print(y_test_pred)"
   ],
   "execution_count": null,
   "outputs": []
  }
 ]
}
