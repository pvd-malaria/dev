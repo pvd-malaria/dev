{
  "nbformat": 4,
  "nbformat_minor": 0,
  "metadata": {
    "alphastudio": {
      "as_jupyter_image_name": "gcr.io/ts-quantsource/as-jupyter-v6",
      "as_jupyter_image_tag": "89a867672844"
    },
    "colab": {
      "provenance": []
    },
    "kernelspec": {
      "display_name": "Python 3 (ipykernel)",
      "language": "python",
      "name": "python3"
    },
    "language_info": {
      "codemirror_mode": {
        "name": "ipython",
        "version": 3
      },
      "file_extension": ".py",
      "mimetype": "text/x-python",
      "name": "python",
      "nbconvert_exporter": "python",
      "pygments_lexer": "ipython3",
      "version": "3.7.3"
    },
    "publish_permission": {
      "read": {},
      "write": {
        "user": [
          "jlandesman",
          "gwp"
        ]
      }
    },
    "publish_uri": "tsuri/application/ts/beakerx/jlandesman/Week1ProjectWalkthrough.ipynb",
    "toc": {
      "base_numbering": 1,
      "nav_menu": {},
      "number_sections": false,
      "sideBar": false,
      "skip_h1_title": false,
      "title_cell": "Table of Contents",
      "title_sidebar": "Contents",
      "toc_cell": false,
      "toc_position": {},
      "toc_section_display": false,
      "toc_window_display": false
    }
  },
  "cells": [
    {
      "cell_type": "code",
      "metadata": {
        "id": "PdMXhsNEl-fD",
        "outputId": "239f5615-2193-4d1b-aacb-0256dbc70e48"
      },
      "source": [
        "import pandas as pd\n",
        "import numpy as np\n",
        "import ipywidgets as widgets\n",
        "from ipywidgets.widgets import Layout, Label, VBox, HBox, Dropdown, Button\n",
        "from xgboost import XGBClassifier\n",
        "\n",
        "import warnings\n",
        "warnings.simplefilter(action='ignore')\n",
        "warnings.filterwarnings(\"ignore\")"
      ],
      "execution_count": null,
      "outputs": [
        {
          "ename": "ModuleNotFoundError",
          "evalue": "No module named 'xgboost'",
          "output_type": "error",
          "traceback": [
            "\u001b[0;31m---------------------------------------------------------------------------\u001b[0m",
            "\u001b[0;31mModuleNotFoundError\u001b[0m                       Traceback (most recent call last)",
            "\u001b[0;32m/var/folders/9f/0f_qbnd5603fx3jqmn_rp2q80000gn/T/ipykernel_21582/3725140398.py\u001b[0m in \u001b[0;36m<module>\u001b[0;34m\u001b[0m\n\u001b[1;32m      3\u001b[0m \u001b[0;32mimport\u001b[0m \u001b[0mipywidgets\u001b[0m \u001b[0;32mas\u001b[0m \u001b[0mwidgets\u001b[0m\u001b[0;34m\u001b[0m\u001b[0;34m\u001b[0m\u001b[0m\n\u001b[1;32m      4\u001b[0m \u001b[0;32mfrom\u001b[0m \u001b[0mipywidgets\u001b[0m\u001b[0;34m.\u001b[0m\u001b[0mwidgets\u001b[0m \u001b[0;32mimport\u001b[0m \u001b[0mLayout\u001b[0m\u001b[0;34m,\u001b[0m \u001b[0mLabel\u001b[0m\u001b[0;34m,\u001b[0m \u001b[0mVBox\u001b[0m\u001b[0;34m,\u001b[0m \u001b[0mHBox\u001b[0m\u001b[0;34m,\u001b[0m \u001b[0mDropdown\u001b[0m\u001b[0;34m,\u001b[0m \u001b[0mButton\u001b[0m\u001b[0;34m\u001b[0m\u001b[0;34m\u001b[0m\u001b[0m\n\u001b[0;32m----> 5\u001b[0;31m \u001b[0;32mfrom\u001b[0m \u001b[0mxgboost\u001b[0m \u001b[0;32mimport\u001b[0m \u001b[0mXGBClassifier\u001b[0m\u001b[0;34m\u001b[0m\u001b[0;34m\u001b[0m\u001b[0m\n\u001b[0m\u001b[1;32m      6\u001b[0m \u001b[0;34m\u001b[0m\u001b[0m\n\u001b[1;32m      7\u001b[0m \u001b[0;32mimport\u001b[0m \u001b[0mwarnings\u001b[0m\u001b[0;34m\u001b[0m\u001b[0;34m\u001b[0m\u001b[0m\n",
            "\u001b[0;31mModuleNotFoundError\u001b[0m: No module named 'xgboost'"
          ]
        }
      ]
    },
    {
      "cell_type": "markdown",
      "metadata": {
        "id": "DSsPVtuPl-fB"
      },
      "source": [
        "# Recomendação de Esquema de tratamento de Malária usando IA\n",
        "\n",
        "---\n",
        "### Esquemas de tratamento de malária\n",
        "Em uma análise de dados realizada no banco de dados SIVEP-Malária, foi identificado que o Esquema de Tratamento mais utilizado (82,8%) é o esquema **\"Infecções pelo P. vivax, ou P. ovale com Cloroquina em 3 dias e Primaquina em 7 dias\"** (aqui denominado **Esquema 11**). Os demais 17,2% dos indivíduos da base, foram tratados com algum outro esquema de tratamento. Atualmente existem 27 Esquemas de Tratamentos pré-definidos, além de uma opção \"Outros Esquemas de Tratamentos\"."
      ]
    },
    {
      "cell_type": "code",
      "metadata": {
        "id": "tFrdFymCpUQW"
      },
      "source": [
        "file = open(\"images/pizza.png\", \"rb\")\n",
        "image = file.read()\n",
        "img1 = widgets.Image(value=image, format='png', width='25%')\n",
        "widgets.HBox([img1])"
      ],
      "execution_count": null,
      "outputs": []
    },
    {
      "cell_type": "markdown",
      "metadata": {
        "id": "SlAyn-CjpUQX"
      },
      "source": [
        "### Modelo de IA\n",
        "Utilizando Algoritmos de Aprendizado de Máquina e dados SIVEP-Malária, foi criado um Sistema de IA para recomendação de esquema de tratamento de malária. Considerando a grande quantidade de indivíduos tratados com o **Esquema 11**, desenvolvemos um modelo de aprendizado de máquina que calcula a probalidade de um indivíduo (identificado conforme dados do formulário abaixo), receber indicação para o **Esquema 11**, ou não, e neste cas0, o indivíduo deve receber indicação de um esquema de tratamento, diferente do **Esquema 11**."
      ]
    },
    {
      "cell_type": "markdown",
      "metadata": {
        "id": "kZv1fOkrpUQX"
      },
      "source": [
        "### Como modelo toma decisão\n",
        "\n",
        "Para realizar a recomendação, o modelo baseia-se em reconhimento de padrões que podem ser observados nos dados utilizados. A Figura 1 abaixo mostra a importância de cada variável para o modelo, ou seja, as variáveis mais relevantes utilizadas pelo modelo para a recomendação são nesta ordem: 1) \"Resultado do Exame\", 2) \"Idade do paciente\", e assim sucessivamente. A Figua 2 apresenta métricas de avaliação do modelo."
      ]
    },
    {
      "cell_type": "code",
      "metadata": {
        "id": "_CmVl5f1pUQY"
      },
      "source": [
        "file = open(\"images/ROC-Malaria.png\", \"rb\")\n",
        "image = file.read()\n",
        "img1 = widgets.Image(value=image, format='png', width='45%')\n",
        "\n",
        "file = open(\"images/SHAP-Malaria.jpeg\", \"rb\")\n",
        "image = file.read()\n",
        "img2 = widgets.Image(value=image, format='png', width='45%')\n",
        "\n",
        "widgets.HBox([img2, img1])\n"
      ],
      "execution_count": null,
      "outputs": []
    },
    {
      "cell_type": "markdown",
      "metadata": {
        "id": "pRW1OXCfpUQY"
      },
      "source": [
        "---"
      ]
    },
    {
      "cell_type": "markdown",
      "metadata": {
        "id": "oAB1I_mepUQZ"
      },
      "source": [
        "# Simulação\n",
        "\n",
        "**Defina o perfil do paciente no formulário abaixo para obter recomendação se o Esquema de \"Tratamento 11\" é recomendado, ou se é recomendado \"Outros Esquemas\".**"
      ]
    },
    {
      "cell_type": "code",
      "metadata": {
        "id": "9a7L3X48DQ9K"
      },
      "source": [
        "# Carrega valores dos options para as caixas de escolha de variáveis\n",
        "def show_categories(col):\n",
        "    df_categories = pd.read_csv('./dados/'+ col + '.csv')\n",
        "    return df_categories"
      ],
      "execution_count": null,
      "outputs": []
    },
    {
      "cell_type": "code",
      "metadata": {
        "id": "dRFMn00MpUQa"
      },
      "source": [
        "# Dicionario de dados para nome das variáveis\n",
        "sivep = {'tipo_lam':'Lâmina',\n",
        "         'id_pacie':'Idade',\n",
        "         'id_dimea':'em',\n",
        "         'sexo':'Sexo',\n",
        "         'raca':'Raça/Cor',\n",
        "         'sintomas':'Sintomas',\n",
        "         'cod_ocup':'Ocupação',\n",
        "         'res_exam':'Res. exame',\n",
        "         'qtd_cruz':'Qtd cruzes',\n",
        "         'hemoparasi':'Hemoparasitas',\n",
        "         'exame':'Tipo do exame',\n",
        "         'gestante':'Gestante',\n",
        "         'vivax':'Trat. vivax',\n",
        "         'falciparum':'Trat. falciparum',\n",
        "         'niv_esco':'Escolaridade',\n",
        "         'mun_infe':'Município de infecção',\n",
        "         'loc_infe':'Local de infecção'\n",
        "        }"
      ],
      "execution_count": null,
      "outputs": []
    },
    {
      "cell_type": "code",
      "metadata": {
        "id": "ZUR2WQ0EpUQa"
      },
      "source": [
        "import matplotlib.pyplot as plt\n",
        "\n",
        "fields = []\n",
        "\n",
        "def create_label(myArr):\n",
        "    label = []\n",
        "    for item in myArr:\n",
        "        converted_list = [str(element) for element in item]\n",
        "        label.append(converted_list)\n",
        "    return label\n",
        "\n",
        "def createField(colname, options):\n",
        "    return Dropdown(options=options, description=sivep.get(colname))\n",
        "\n",
        "# Executa o modelo de ML Carregado\n",
        "def run_model(*ignore):\n",
        "    #X = pd.read_pickle(\"./dados/X.pck\").copy()\n",
        "\n",
        "    X = pd.DataFrame(0, index=np.arange(1), columns=sivep.keys())\n",
        "\n",
        "    # Preenche vetor de entrada com campos do formulario\n",
        "    for f in fields[:-1]:\n",
        "        # Retorna o nome da coluna baseado na descrição\n",
        "        col = [var for var, desc in sivep.items() if desc == f.description]\n",
        "        X.at[0,col] = f.value\n",
        "\n",
        "    ############################\n",
        "\n",
        "    y_pred = malaria_model.predict(X)\n",
        "    sim = 'Considerando os dados informados o \"Esquema de Tratamento 11\" recomendado.'\n",
        "    nao = 'Considerando os dados informados é recomendado \"Outros Esquemas\".'\n",
        "\n",
        "    y_proba =  malaria_model.predict_proba(X)\n",
        "\n",
        "    #fig = plt.figure()\n",
        "    #ax = fig.add_axes([0,0,1,1])\n",
        "    #ax.barh(['Esquema 11', 'Outros Esquemas'], y_proba[0], height=0.1)\n",
        "    #plt.savefig(\"./images/result.png\")\n",
        "\n",
        "    resultado.value = \"Recomendação: \\n >> Classe: \" + str(y_pred[0]) + \"\\n\"\n",
        "    resultado.value = resultado.value + \"\\n-- Probabilidade --\"\n",
        "    resultado.value = resultado.value + \"\\nOutros Esquemas de Tratamento (Classe 0): \" + str(round(100*y_proba[0][0],2)) + '%\\n'\n",
        "    resultado.value = resultado.value + \"Esquema de Tratamento 11 (Classe 1): \" + str(round(100*y_proba[0][1],2)) + '%\\n'\n",
        "\n",
        "    #resultado.value = resultado.value + str(y_pred[0]) #.replace(\"1\", sim).replace(\"0\", nao) ##+ \"\\n\\n\\n\" + str(X) ##+ \"\\n\" + str(malaria_model)\n",
        "\n",
        "    ############################\n",
        "\n",
        "# Criando campos do formulário\n",
        "for col in ['tipo_lam', 'id_pacie', 'id_dimea', 'sexo', 'raca', 'sintomas', 'cod_ocup', 'res_exam', 'qtd_cruz',\n",
        "            'hemoparasi', 'exame', 'gestante', 'vivax', 'falciparum', 'niv_esco']:\n",
        "    fields.append(createField(col, create_label(show_categories(col).values)))\n",
        "\n",
        "# variavel id_pacie\n",
        "fields[1].options=np.arange(1,366)\n",
        "fields[1].layout=Layout(width='140px')\n",
        "\n",
        "# variavel id_dimea\n",
        "fields[2].layout=Layout(width='140px')\n",
        "\n",
        "# Município de Infecção\n",
        "fields.append(Dropdown(options=[0,1], description='mun_infe'))\n",
        "\n",
        "# Local de Infecção\n",
        "fields.append(Dropdown(options=[0,1], description='loc_infe'))\n",
        "\n",
        "button = Button(description='Executar')\n",
        "fields.append(button)\n",
        "button.on_click(run_model)\n",
        "\n",
        "#----\n",
        "\n",
        "sociodemo = VBox([Label(\"_____________________________________________________\"),\n",
        "                  Label(\"Informações Sociodemográficas\"),\n",
        "                  Label(\"_____________________________________________________\"),\n",
        "\n",
        "                  HBox([Label(value=\"Idade\"), fields[1], fields[2]]),\n",
        "                  fields[3], fields[4], fields[6], fields[11], fields[14]\n",
        "\n",
        "                  #Label(value=\"Município de infecção\"), fields[15],\n",
        "                  #Label(value=\"Local de infecção\"), fields[16]\n",
        "\n",
        "                 ],\n",
        "                  layout=Layout(width='40%', display='flex' , align_items='center'))\n",
        "\n",
        "laboratorial = VBox([Label(\"_____________________________________________________\"),\n",
        "                     Label(\"Informações Epdemiológicas e Laboratóriais\"),\n",
        "                     Label(\"_____________________________________________________\"),\n",
        "                     fields[0], fields[5], fields[7], fields[8],\n",
        "                     fields[9], fields[10], fields[12], fields[13],\n",
        "                     Label(value=\"\"),\n",
        "                     Label(\"_____________________________________________________\"),\n",
        "                     button],\n",
        "                     layout=Layout(width='40%', display='flex' , align_items='center'))\n",
        "\n",
        "HBox([sociodemo, laboratorial])"
      ],
      "execution_count": null,
      "outputs": []
    },
    {
      "cell_type": "code",
      "metadata": {
        "id": "t0ykaB3CpUQb"
      },
      "source": [
        "def get_bigger(args):\n",
        "    resultado.rows = resultado.value.count('\\n') + 1\n",
        "\n",
        "resultado = widgets.Textarea(\n",
        "    value='',\n",
        "    description='Resultado',\n",
        "    disabled=True,\n",
        "    layout=widgets.Layout(width=\"90%\")\n",
        ")\n",
        "\n",
        "resultado.observe(get_bigger, 'value')\n",
        "\n",
        "widgets.HBox([resultado])\n"
      ],
      "execution_count": null,
      "outputs": []
    },
    {
      "cell_type": "code",
      "metadata": {
        "id": "TAV04kGjpUQb"
      },
      "source": [
        "#file = open(\"./images/result.png\", \"rb\")\n",
        "##image = file.read()\n",
        "#img3 = widgets.Image(value=image, format='png')\n",
        "\n",
        "#HBox([img3])"
      ],
      "execution_count": null,
      "outputs": []
    },
    {
      "cell_type": "markdown",
      "metadata": {
        "id": "bnq4gNFnpUQc"
      },
      "source": [
        "---"
      ]
    },
    {
      "cell_type": "code",
      "metadata": {
        "id": "3G7oBaxApUQc"
      },
      "source": [
        "# Loading model\n",
        "print(\"Carregando modelo...\")\n",
        "malaria_model = XGBClassifier()\n",
        "malaria_model.load_model(\"xgb_model.bin\")\n",
        "print(\"Pronto!\")"
      ],
      "execution_count": null,
      "outputs": []
    }
  ]
}